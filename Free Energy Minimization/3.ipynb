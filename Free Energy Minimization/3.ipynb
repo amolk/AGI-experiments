{
 "cells": [
  {
   "cell_type": "code",
   "execution_count": 59,
   "metadata": {},
   "outputs": [
    {
     "data": {
      "image/png": "[encoded data removed]",
      "text/plain": [
       "<Figure size 540x360 with 1 Axes>"
      ]
     },
     "metadata": {},
     "output_type": "display_data"
    }
   ],
   "source": [
    "import numpy as np\n",
    "import seaborn as sns\n",
    "import matplotlib.pyplot as plt\n",
    "from scipy.stats import norm\n",
    "\n",
    "sns.set(style=\"white\", palette=\"muted\", color_codes=True)\n",
    "\n",
    "%matplotlib inline\n",
    "\n",
    "u = 4\n",
    "sigma_u = 1\n",
    "v_p = 1\n",
    "sigma_p = 1\n",
    "\n",
    "phi = 1\n",
    "\n",
    "t_step = 0.01\n",
    "t = np.arange(0, 1, t_step)\n",
    "\n",
    "phi_values = np.zeros(np.size(t))\n",
    "phi_values[0] = phi\n",
    "\n",
    "e_p_values = np.zeros(np.size(t))\n",
    "e_u_values = np.zeros(np.size(t))\n",
    "\n",
    "for i in range(0,len(t)):\n",
    "    phi_values[i] = phi\n",
    "\n",
    "    e_p = (v_p - phi) / sigma_p\n",
    "    e_p_values[i] = e_p\n",
    "\n",
    "    e_u = (u - phi * phi) * (2 * phi) / sigma_u\n",
    "    e_u_values[i] = e_u\n",
    "\n",
    "    df = e_p + e_u\n",
    "    phi = phi + df * 0.01\n",
    "\n",
    "plt.figure(figsize=(7.5, 5))\n",
    "plt.plot(t, phi_values, '-', r'$\\phi$')\n",
    "plt.plot(t, e_p_values, '--', r'$\\epsilon_p$')\n",
    "plt.plot(t, e_u_values, '.', r'$\\epsilon_u$')\n",
    "plt.xlabel('Time')\n",
    "sns.despine()\n"
   ]
  },
  {
   "cell_type": "code",
   "execution_count": null,
   "metadata": {},
   "outputs": [],
   "source": []
  }
 ],
 "metadata": {
  "kernelspec": {
   "display_name": "Python 3",
   "language": "python",
   "name": "python3"
  },
  "language_info": {
   "codemirror_mode": {
    "name": "ipython",
    "version": 3
   },
   "file_extension": ".py",
   "mimetype": "text/x-python",
   "name": "python",
   "nbconvert_exporter": "python",
   "pygments_lexer": "ipython3",
   "version": "3.6.5"
  }
 },
 "nbformat": 4,
 "nbformat_minor": 2
}
