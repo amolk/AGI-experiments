{
 "metadata": {
  "language_info": {
   "codemirror_mode": {
    "name": "ipython",
    "version": 3
   },
   "file_extension": ".py",
   "mimetype": "text/x-python",
   "name": "python",
   "nbconvert_exporter": "python",
   "pygments_lexer": "ipython3",
   "version": "3.8.7"
  },
  "orig_nbformat": 2,
  "kernelspec": {
   "name": "python387jvsc74a57bd0bec881e606103a0b45072f5340bd3e1af4d6c17e45cee48ae9d9486a034b1c30",
   "display_name": "Python 3.8.7 64-bit ('pattern-machine': pyenv)"
  }
 },
 "nbformat": 4,
 "nbformat_minor": 2,
 "cells": [
  {
   "cell_type": "code",
   "execution_count": 15,
   "metadata": {},
   "outputs": [],
   "source": [
    "# constant input, single pre-learned pattern\n",
    "# Single layer, input -> output -> input inh -> output inh -> input gain...\n",
    "# Check if sinusoidal dynamics develop"
   ]
  },
  {
   "cell_type": "code",
   "execution_count": 62,
   "metadata": {},
   "outputs": [
    {
     "output_type": "stream",
     "name": "stdout",
     "text": [
      "The autoreload extension is already loaded. To reload it, use:\n  %reload_ext autoreload\n"
     ]
    }
   ],
   "source": [
    "import pdb\n",
    "import sys\n",
    "sys.path.append('/Users/amolk/work/AGI/pattern-machine/src')\n",
    "%load_ext autoreload\n",
    "%autoreload 1\n",
    "from IPython.display import display\n",
    "print = display\n",
    "\n",
    "%aimport patternmachine.layer\n",
    "%aimport patternmachine.signal_grid_set\n",
    "%aimport patternmachine.signal_utils\n",
    "%aimport patternmachine.trace\n",
    "%aimport patternmachine.pattern_similarity\n",
    "%aimport patternmachine.pattern_grid\n",
    "%aimport patternmachine.clock\n",
    "%aimport patternmachine.utils\n",
    "%aimport patternmachine.input_output_patch_grid"
   ]
  },
  {
   "cell_type": "code",
   "execution_count": 63,
   "metadata": {},
   "outputs": [],
   "source": [
    "%matplotlib inline\n",
    "import matplotlib.pyplot as plt\n",
    "\n",
    "def show_1d_image(image, title=None):\n",
    "    assert len(image.shape) == 1\n",
    "    fig=plt.figure(figsize=(2, 1))\n",
    "    plt.axis('off')\n",
    "#     ax = fig.add_subplot(111)\n",
    "    if title is not None:\n",
    "        plt.title(label=title)\n",
    "    plt.imshow(image.unsqueeze(0), vmin=0, vmax=1)\n",
    "#     ax.set_aspect('equal')\n",
    "#     plt.tight_layout(pad=0)\n",
    "    plt.show()\n",
    "    \n",
    "def show_2d_image(image, title=None):\n",
    "    assert len(image.shape) == 2\n",
    "    plt.axis('off')\n",
    "    if title is not None:\n",
    "        plt.title(label=title)\n",
    "    plt.imshow(image)\n",
    "    plt.show()"
   ]
  },
  {
   "cell_type": "code",
   "execution_count": 64,
   "metadata": {},
   "outputs": [
    {
     "output_type": "display_data",
     "data": {
      "text/plain": "tensor([[0.3000]])"
     },
     "metadata": {}
    },
    {
     "output_type": "display_data",
     "data": {
      "text/plain": "tensor([[1.]])"
     },
     "metadata": {}
    },
    {
     "output_type": "error",
     "ename": "TypeError",
     "evalue": "__init__() got an unexpected keyword argument 'init_precision_value'",
     "traceback": [
      "\u001b[0;31m---------------------------------------------------------------------------\u001b[0m",
      "\u001b[0;31mTypeError\u001b[0m                                 Traceback (most recent call last)",
      "\u001b[0;32m<ipython-input-64-a1db48f21210>\u001b[0m in \u001b[0;36m<module>\u001b[0;34m\u001b[0m\n\u001b[1;32m     81\u001b[0m         \u001b[0;32mreturn\u001b[0m \u001b[0mhp\u001b[0m\u001b[0;34m\u001b[0m\u001b[0;34m\u001b[0m\u001b[0m\n\u001b[1;32m     82\u001b[0m \u001b[0;34m\u001b[0m\u001b[0m\n\u001b[0;32m---> 83\u001b[0;31m \u001b[0mexperiment\u001b[0m \u001b[0;34m=\u001b[0m \u001b[0mDynamicsExperiment1\u001b[0m\u001b[0;34m(\u001b[0m\u001b[0;34m)\u001b[0m\u001b[0;34m\u001b[0m\u001b[0;34m\u001b[0m\u001b[0m\n\u001b[0m",
      "\u001b[0;32m<ipython-input-64-a1db48f21210>\u001b[0m in \u001b[0;36m__init__\u001b[0;34m(self, mu_shape, pattern_grid_shape)\u001b[0m\n\u001b[1;32m     31\u001b[0m         \u001b[0;31m# Layer\u001b[0m\u001b[0;34m\u001b[0m\u001b[0;34m\u001b[0m\u001b[0;34m\u001b[0m\u001b[0m\n\u001b[1;32m     32\u001b[0m         \u001b[0mself\u001b[0m\u001b[0;34m.\u001b[0m\u001b[0mlayer_hp\u001b[0m \u001b[0;34m=\u001b[0m \u001b[0mself\u001b[0m\u001b[0;34m.\u001b[0m\u001b[0mcreate_layer_hp\u001b[0m\u001b[0;34m(\u001b[0m\u001b[0mper_patch_pattern_grid_shape\u001b[0m\u001b[0;34m=\u001b[0m\u001b[0mpattern_grid_shape\u001b[0m\u001b[0;34m)\u001b[0m\u001b[0;34m\u001b[0m\u001b[0;34m\u001b[0m\u001b[0m\n\u001b[0;32m---> 33\u001b[0;31m         \u001b[0mself\u001b[0m\u001b[0;34m.\u001b[0m\u001b[0mlayer\u001b[0m \u001b[0;34m=\u001b[0m \u001b[0mLayer\u001b[0m\u001b[0;34m(\u001b[0m\u001b[0mhp\u001b[0m\u001b[0;34m=\u001b[0m\u001b[0mself\u001b[0m\u001b[0;34m.\u001b[0m\u001b[0mlayer_hp\u001b[0m\u001b[0;34m)\u001b[0m\u001b[0;34m\u001b[0m\u001b[0;34m\u001b[0m\u001b[0m\n\u001b[0m\u001b[1;32m     34\u001b[0m \u001b[0;34m\u001b[0m\u001b[0m\n\u001b[1;32m     35\u001b[0m         \u001b[0mself\u001b[0m\u001b[0;34m.\u001b[0m\u001b[0mlayer\u001b[0m\u001b[0;34m.\u001b[0m\u001b[0mpatterns\u001b[0m\u001b[0;34m.\u001b[0m\u001b[0mpixels_begin\u001b[0m\u001b[0;34m.\u001b[0m\u001b[0mcomponents\u001b[0m\u001b[0;34m[\u001b[0m\u001b[0;34m\"mu\"\u001b[0m\u001b[0;34m]\u001b[0m\u001b[0;34m.\u001b[0m\u001b[0mpixels\u001b[0m\u001b[0;34m.\u001b[0m\u001b[0mdata\u001b[0m \u001b[0;34m=\u001b[0m \u001b[0mtorch\u001b[0m\u001b[0;34m.\u001b[0m\u001b[0mTensor\u001b[0m\u001b[0;34m(\u001b[0m\u001b[0;34m[\u001b[0m\u001b[0;34m[\u001b[0m\u001b[0mval\u001b[0m\u001b[0;34m]\u001b[0m\u001b[0;34m]\u001b[0m\u001b[0;34m)\u001b[0m\u001b[0;34m\u001b[0m\u001b[0;34m\u001b[0m\u001b[0m\n",
      "\u001b[0;32m~/work/AGI/pattern-machine/src/patternmachine/layer.py\u001b[0m in \u001b[0;36m__init__\u001b[0;34m(self, hp, inputs)\u001b[0m\n\u001b[1;32m    118\u001b[0m     \u001b[0;32mdef\u001b[0m \u001b[0m__init__\u001b[0m\u001b[0;34m(\u001b[0m\u001b[0mself\u001b[0m\u001b[0;34m,\u001b[0m \u001b[0mhp\u001b[0m\u001b[0;34m:\u001b[0m \u001b[0mLayerHP\u001b[0m\u001b[0;34m,\u001b[0m \u001b[0minputs\u001b[0m\u001b[0;34m:\u001b[0m \u001b[0mDict\u001b[0m \u001b[0;34m=\u001b[0m \u001b[0;32mNone\u001b[0m\u001b[0;34m)\u001b[0m\u001b[0;34m:\u001b[0m\u001b[0;34m\u001b[0m\u001b[0;34m\u001b[0m\u001b[0m\n\u001b[1;32m    119\u001b[0m         \u001b[0mself\u001b[0m\u001b[0;34m.\u001b[0m\u001b[0mhp\u001b[0m \u001b[0;34m=\u001b[0m \u001b[0mhp\u001b[0m\u001b[0;34m\u001b[0m\u001b[0;34m\u001b[0m\u001b[0m\n\u001b[0;32m--> 120\u001b[0;31m         \u001b[0mself\u001b[0m\u001b[0;34m.\u001b[0m\u001b[0mpatterns\u001b[0m \u001b[0;34m=\u001b[0m \u001b[0mPatternGrid\u001b[0m\u001b[0;34m(\u001b[0m\u001b[0mhp\u001b[0m\u001b[0;34m=\u001b[0m\u001b[0mself\u001b[0m\u001b[0;34m.\u001b[0m\u001b[0mhp\u001b[0m\u001b[0;34m.\u001b[0m\u001b[0mpattern_grid_hp\u001b[0m\u001b[0;34m)\u001b[0m\u001b[0;34m\u001b[0m\u001b[0;34m\u001b[0m\u001b[0m\n\u001b[0m\u001b[1;32m    121\u001b[0m         \u001b[0mself\u001b[0m\u001b[0;34m.\u001b[0m\u001b[0moutput\u001b[0m \u001b[0;34m=\u001b[0m \u001b[0mSignalGrid\u001b[0m\u001b[0;34m(\u001b[0m\u001b[0mhp\u001b[0m\u001b[0;34m.\u001b[0m\u001b[0moutput_hp\u001b[0m\u001b[0;34m)\u001b[0m\u001b[0;34m\u001b[0m\u001b[0;34m\u001b[0m\u001b[0m\n\u001b[1;32m    122\u001b[0m         \u001b[0mself\u001b[0m\u001b[0;34m.\u001b[0m\u001b[0mdebug\u001b[0m \u001b[0;34m=\u001b[0m \u001b[0;32mFalse\u001b[0m\u001b[0;34m\u001b[0m\u001b[0;34m\u001b[0m\u001b[0m\n",
      "\u001b[0;32m~/work/AGI/pattern-machine/src/patternmachine/pattern_grid.py\u001b[0m in \u001b[0;36m__init__\u001b[0;34m(self, hp)\u001b[0m\n\u001b[1;32m     43\u001b[0m         \u001b[0mself\u001b[0m\u001b[0;34m.\u001b[0m\u001b[0mhp\u001b[0m \u001b[0;34m=\u001b[0m \u001b[0mhp\u001b[0m\u001b[0;34m\u001b[0m\u001b[0;34m\u001b[0m\u001b[0m\n\u001b[1;32m     44\u001b[0m \u001b[0;34m\u001b[0m\u001b[0m\n\u001b[0;32m---> 45\u001b[0;31m         self.begin = SignalGridSet(\n\u001b[0m\u001b[1;32m     46\u001b[0m             \u001b[0mhp\u001b[0m\u001b[0;34m.\u001b[0m\u001b[0msignal_grid_set_hp\u001b[0m\u001b[0;34m,\u001b[0m \u001b[0minit_pixel_values\u001b[0m\u001b[0;34m=\u001b[0m\u001b[0mhp\u001b[0m\u001b[0;34m.\u001b[0m\u001b[0minit_pixel_values\u001b[0m\u001b[0;34m,\u001b[0m \u001b[0minit_precision_values\u001b[0m\u001b[0;34m=\u001b[0m\u001b[0mhp\u001b[0m\u001b[0;34m.\u001b[0m\u001b[0minit_precision_values\u001b[0m\u001b[0;34m\u001b[0m\u001b[0;34m\u001b[0m\u001b[0m\n\u001b[1;32m     47\u001b[0m         )  # Trajectory begin\n",
      "\u001b[0;32m~/work/AGI/pattern-machine/src/patternmachine/signal_grid_set.py\u001b[0m in \u001b[0;36m__init__\u001b[0;34m(self, hp, alloc, init_pixel_values, init_precision_values)\u001b[0m\n\u001b[1;32m     81\u001b[0m                 \u001b[0minit_precision_values\u001b[0m \u001b[0;34m=\u001b[0m \u001b[0;34m{\u001b[0m\u001b[0mname\u001b[0m\u001b[0;34m:\u001b[0m \u001b[0;32mNone\u001b[0m \u001b[0;32mfor\u001b[0m \u001b[0mname\u001b[0m \u001b[0;32min\u001b[0m \u001b[0mhp\u001b[0m\u001b[0;34m.\u001b[0m\u001b[0mcomponents\u001b[0m\u001b[0;34m.\u001b[0m\u001b[0mkeys\u001b[0m\u001b[0;34m(\u001b[0m\u001b[0;34m)\u001b[0m\u001b[0;34m}\u001b[0m\u001b[0;34m\u001b[0m\u001b[0;34m\u001b[0m\u001b[0m\n\u001b[1;32m     82\u001b[0m \u001b[0;34m\u001b[0m\u001b[0m\n\u001b[0;32m---> 83\u001b[0;31m             self.components = {\n\u001b[0m\u001b[1;32m     84\u001b[0m                 name: SignalGrid(\n\u001b[1;32m     85\u001b[0m                     \u001b[0mcomponent_hp\u001b[0m\u001b[0;34m,\u001b[0m \u001b[0malloc_pixels\u001b[0m\u001b[0;34m=\u001b[0m\u001b[0malloc\u001b[0m\u001b[0;34m,\u001b[0m \u001b[0minit_pixel_value\u001b[0m\u001b[0;34m=\u001b[0m\u001b[0minit_pixel_values\u001b[0m\u001b[0;34m[\u001b[0m\u001b[0mname\u001b[0m\u001b[0;34m]\u001b[0m\u001b[0;34m,\u001b[0m \u001b[0minit_precision_value\u001b[0m\u001b[0;34m=\u001b[0m\u001b[0minit_precision_values\u001b[0m\u001b[0;34m[\u001b[0m\u001b[0mname\u001b[0m\u001b[0;34m]\u001b[0m\u001b[0;34m\u001b[0m\u001b[0;34m\u001b[0m\u001b[0m\n",
      "\u001b[0;32m~/work/AGI/pattern-machine/src/patternmachine/signal_grid_set.py\u001b[0m in \u001b[0;36m<dictcomp>\u001b[0;34m(.0)\u001b[0m\n\u001b[1;32m     82\u001b[0m \u001b[0;34m\u001b[0m\u001b[0m\n\u001b[1;32m     83\u001b[0m             self.components = {\n\u001b[0;32m---> 84\u001b[0;31m                 name: SignalGrid(\n\u001b[0m\u001b[1;32m     85\u001b[0m                     \u001b[0mcomponent_hp\u001b[0m\u001b[0;34m,\u001b[0m \u001b[0malloc_pixels\u001b[0m\u001b[0;34m=\u001b[0m\u001b[0malloc\u001b[0m\u001b[0;34m,\u001b[0m \u001b[0minit_pixel_value\u001b[0m\u001b[0;34m=\u001b[0m\u001b[0minit_pixel_values\u001b[0m\u001b[0;34m[\u001b[0m\u001b[0mname\u001b[0m\u001b[0;34m]\u001b[0m\u001b[0;34m,\u001b[0m \u001b[0minit_precision_value\u001b[0m\u001b[0;34m=\u001b[0m\u001b[0minit_precision_values\u001b[0m\u001b[0;34m[\u001b[0m\u001b[0mname\u001b[0m\u001b[0;34m]\u001b[0m\u001b[0;34m\u001b[0m\u001b[0;34m\u001b[0m\u001b[0m\n\u001b[1;32m     86\u001b[0m                 )\n",
      "\u001b[0;31mTypeError\u001b[0m: __init__() got an unexpected keyword argument 'init_precision_value'"
     ]
    }
   ],
   "source": [
    "from typing import Tuple\n",
    "\n",
    "import matplotlib.pyplot as plt\n",
    "import torch\n",
    "# from tqdm.notebook import tqdm\n",
    "from tqdm import tqdm\n",
    "\n",
    "from patternmachine.layer import Layer, LayerHP\n",
    "from patternmachine.signal_grid import SignalGridHP, SignalGrid\n",
    "from patternmachine.signal_grid_set import SignalGridSet\n",
    "from patternmachine.signal_utils import SignalUtils\n",
    "from patternmachine.input_output_patch_grid import InputOutputPatchGrid\n",
    "from patternmachine.pattern_similarity import PatternSimilarity\n",
    "\n",
    "device = torch.device(\"cuda:0\" if torch.cuda.is_available() else \"cpu\")\n",
    "\n",
    "class DynamicsExperiment1:\n",
    "    def __init__(self, mu_shape: Tuple = (1, 1), pattern_grid_shape: Tuple = (1, 1)):\n",
    "        self.mu_shape = mu_shape\n",
    "        self.pattern_grid_shape = pattern_grid_shape\n",
    "        val = 0.3\n",
    "\n",
    "        mu_signal_grid_hp = SignalGridHP(grid_shape = (1, 1), signal_shape = mu_shape)\n",
    "        mu_pixels = SignalGrid(hp=mu_signal_grid_hp, init_pixel_value = val)\n",
    "        mu_precision = SignalGrid(hp=mu_signal_grid_hp, init_pixel_value = 1.0)\n",
    "\n",
    "        self.mu = SignalGridSet.from_signal_grids({\"pixels\": mu_pixels, \"precision\": mu_precision})\n",
    "        print(self.mu.components[\"pixels\"].pixels)\n",
    "        print(self.mu.components[\"precision\"].pixels)\n",
    "\n",
    "        # Layer\n",
    "        self.layer_hp = self.create_layer_hp(per_patch_pattern_grid_shape=pattern_grid_shape)\n",
    "        self.layer = Layer(hp=self.layer_hp)\n",
    "\n",
    "        self.layer.patterns.pixels_begin.components[\"mu\"].pixels.data = torch.Tensor([[val]])\n",
    "        self.layer.patterns.precision_begin.components[\"mu\"].pixels.data = torch.Tensor([[1.0]])\n",
    "        self.layer.patterns.pixels_end.components[\"mu\"].pixels.data = torch.Tensor([[val]])\n",
    "        self.layer.patterns.precision_end.components[\"mu\"].pixels.data = torch.Tensor([[1.0]])\n",
    "\n",
    "        self.layer.patterns.pixels_begin.components[\"__output__\"].pixels.data = torch.Tensor([[1.0]])\n",
    "        self.layer.patterns.precision_begin.components[\"__output__\"].pixels.data = torch.Tensor([[1.0]])\n",
    "        self.layer.patterns.pixels_end.components[\"__output__\"].pixels.data = torch.Tensor([[1.0]])\n",
    "        self.layer.patterns.precision_end.components[\"__output__\"].pixels.data = torch.Tensor([[1.0]])\n",
    "\n",
    "        print(self.layer.patterns.pixels)\n",
    "\n",
    "        input_output_patch_grid = InputOutputPatchGrid(\n",
    "            patch_grid_shape=self.layer.hp.patch_grid_shape,\n",
    "            input_csg=self.mu,\n",
    "            output=self.layer.output,\n",
    "            output_patch_neighborhood_shape=self.layer.hp.output_patch_neighborhood_shape,\n",
    "            per_patch_pattern_grid_shape=self.layer.hp.per_patch_pattern_grid_shape,\n",
    "            input_coverage_factor=1.0,\n",
    "        )\n",
    "        print(\"input_output_patch_grid\", input_output_patch_grid)\n",
    "\n",
    "        pattern_similarity_begin = PatternSimilarity(\n",
    "            signal=input_output_patch_grid.patches,\n",
    "            patterns=self.layer.patterns.pixels_begin,\n",
    "            patterns_precision=self.layer.patterns.precision_begin,\n",
    "        )\n",
    "\n",
    "    def create_layer_hp(\n",
    "        self,\n",
    "        input_coverage_factor=1.0,\n",
    "        patch_grid_shape=(1, 1),\n",
    "        per_patch_pattern_grid_shape=(1, 1),\n",
    "        output_patch_neighborhood_shape=(1, 1),\n",
    "        output_tau=1.0,\n",
    "    ):\n",
    "        hp = LayerHP(\n",
    "            input_signal_shapes={\"mu\": self.mu_shape},\n",
    "            input_coverage_factor=input_coverage_factor,\n",
    "            patch_grid_shape=patch_grid_shape,\n",
    "            per_patch_pattern_grid_shape=per_patch_pattern_grid_shape,\n",
    "            output_patch_neighborhood_shape=output_patch_neighborhood_shape,\n",
    "            output_decay=output_tau,\n",
    "        )  # set output_decay=1.0 for IID data\n",
    "        return hp\n",
    "\n",
    "experiment = DynamicsExperiment1()"
   ]
  },
  {
   "cell_type": "code",
   "execution_count": 123,
   "metadata": {},
   "outputs": [
    {
     "output_type": "execute_result",
     "data": {
      "text/plain": [
       "tensor([[0.9911]])"
      ]
     },
     "metadata": {},
     "execution_count": 123
    }
   ],
   "source": [
    "import torch\n",
    "a = torch.ones(1,1) * 0.1\n",
    "b = torch.ones(1,1) * 0.999\n",
    "\n",
    "c = torch.logit(torch.clamp_min(a, min=0.01)) + torch.logit(torch.clamp_min(b, min=0.01))\n",
    "torch.sigmoid(c)"
   ]
  },
  {
   "cell_type": "code",
   "execution_count": null,
   "metadata": {},
   "outputs": [],
   "source": []
  }
 ]
}