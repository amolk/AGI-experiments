{
  "nbformat": 4,
  "nbformat_minor": 0,
  "metadata": {
    "colab": {
      "name": "01 Retinotopic SOM.ipynb",
      "provenance": [],
      "collapsed_sections": [],
      "authorship_tag": "ABX9TyNn3j97HiRE7YDWF8gpFtcB",
      "include_colab_link": true
    },
    "kernelspec": {
      "name": "python3",
      "display_name": "Python 3"
    },
    "widgets": {
      "application/vnd.jupyter.widget-state+json": {
        "0f479377625b413fa07dfa3094f5764c": {
          "model_module": "@jupyter-widgets/controls",
          "model_name": "HBoxModel",
          "state": {
            "_view_name": "HBoxView",
            "_dom_classes": [],
            "_model_name": "HBoxModel",
            "_view_module": "@jupyter-widgets/controls",
            "_model_module_version": "1.5.0",
            "_view_count": null,
            "_view_module_version": "1.5.0",
            "box_style": "",
            "layout": "IPY_MODEL_cb6cbc85f61a42099970141db9e8b4c7",
            "_model_module": "@jupyter-widgets/controls",
            "children": [
              "IPY_MODEL_c7a962cd085348f6829813b6c410a4a1",
              "IPY_MODEL_84ffebdb9b0c43dfbae6d511bbf4771b"
            ]
          }
        },
        "cb6cbc85f61a42099970141db9e8b4c7": {
          "model_module": "@jupyter-widgets/base",
          "model_name": "LayoutModel",
          "state": {
            "_view_name": "LayoutView",
            "grid_template_rows": null,
            "right": null,
            "justify_content": null,
            "_view_module": "@jupyter-widgets/base",
            "overflow": null,
            "_model_module_version": "1.2.0",
            "_view_count": null,
            "flex_flow": null,
            "width": null,
            "min_width": null,
            "border": null,
            "align_items": null,
            "bottom": null,
            "_model_module": "@jupyter-widgets/base",
            "top": null,
            "grid_column": null,
            "overflow_y": null,
            "overflow_x": null,
            "grid_auto_flow": null,
            "grid_area": null,
            "grid_template_columns": null,
            "flex": null,
            "_model_name": "LayoutModel",
            "justify_items": null,
            "grid_row": null,
            "max_height": null,
            "align_content": null,
            "visibility": null,
            "align_self": null,
            "height": null,
            "min_height": null,
            "padding": null,
            "grid_auto_rows": null,
            "grid_gap": null,
            "max_width": null,
            "order": null,
            "_view_module_version": "1.2.0",
            "grid_template_areas": null,
            "object_position": null,
            "object_fit": null,
            "grid_auto_columns": null,
            "margin": null,
            "display": null,
            "left": null
          }
        },
        "c7a962cd085348f6829813b6c410a4a1": {
          "model_module": "@jupyter-widgets/controls",
          "model_name": "FloatProgressModel",
          "state": {
            "_view_name": "ProgressView",
            "style": "IPY_MODEL_20d10448bd994fc6b54ed6d441fa1d5a",
            "_dom_classes": [],
            "description": "Image: 100%",
            "_model_name": "FloatProgressModel",
            "bar_style": "success",
            "max": 200,
            "_view_module": "@jupyter-widgets/controls",
            "_model_module_version": "1.5.0",
            "value": 200,
            "_view_count": null,
            "_view_module_version": "1.5.0",
            "orientation": "horizontal",
            "min": 0,
            "description_tooltip": null,
            "_model_module": "@jupyter-widgets/controls",
            "layout": "IPY_MODEL_886383bf52984074ba2fa3b3879e0682"
          }
        },
        "84ffebdb9b0c43dfbae6d511bbf4771b": {
          "model_module": "@jupyter-widgets/controls",
          "model_name": "HTMLModel",
          "state": {
            "_view_name": "HTMLView",
            "style": "IPY_MODEL_b48acb8f7a8b441d930ee4423b7a064c",
            "_dom_classes": [],
            "description": "",
            "_model_name": "HTMLModel",
            "placeholder": "​",
            "_view_module": "@jupyter-widgets/controls",
            "_model_module_version": "1.5.0",
            "value": " 200/200 [00:02&lt;00:00, 86.47it/s]",
            "_view_count": null,
            "_view_module_version": "1.5.0",
            "description_tooltip": null,
            "_model_module": "@jupyter-widgets/controls",
            "layout": "IPY_MODEL_9298f6389eeb48cba880d9de5a5803ec"
          }
        },
        "20d10448bd994fc6b54ed6d441fa1d5a": {
          "model_module": "@jupyter-widgets/controls",
          "model_name": "ProgressStyleModel",
          "state": {
            "_view_name": "StyleView",
            "_model_name": "ProgressStyleModel",
            "description_width": "initial",
            "_view_module": "@jupyter-widgets/base",
            "_model_module_version": "1.5.0",
            "_view_count": null,
            "_view_module_version": "1.2.0",
            "bar_color": null,
            "_model_module": "@jupyter-widgets/controls"
          }
        },
        "886383bf52984074ba2fa3b3879e0682": {
          "model_module": "@jupyter-widgets/base",
          "model_name": "LayoutModel",
          "state": {
            "_view_name": "LayoutView",
            "grid_template_rows": null,
            "right": null,
            "justify_content": null,
            "_view_module": "@jupyter-widgets/base",
            "overflow": null,
            "_model_module_version": "1.2.0",
            "_view_count": null,
            "flex_flow": null,
            "width": null,
            "min_width": null,
            "border": null,
            "align_items": null,
            "bottom": null,
            "_model_module": "@jupyter-widgets/base",
            "top": null,
            "grid_column": null,
            "overflow_y": null,
            "overflow_x": null,
            "grid_auto_flow": null,
            "grid_area": null,
            "grid_template_columns": null,
            "flex": null,
            "_model_name": "LayoutModel",
            "justify_items": null,
            "grid_row": null,
            "max_height": null,
            "align_content": null,
            "visibility": null,
            "align_self": null,
            "height": null,
            "min_height": null,
            "padding": null,
            "grid_auto_rows": null,
            "grid_gap": null,
            "max_width": null,
            "order": null,
            "_view_module_version": "1.2.0",
            "grid_template_areas": null,
            "object_position": null,
            "object_fit": null,
            "grid_auto_columns": null,
            "margin": null,
            "display": null,
            "left": null
          }
        },
        "b48acb8f7a8b441d930ee4423b7a064c": {
          "model_module": "@jupyter-widgets/controls",
          "model_name": "DescriptionStyleModel",
          "state": {
            "_view_name": "StyleView",
            "_model_name": "DescriptionStyleModel",
            "description_width": "",
            "_view_module": "@jupyter-widgets/base",
            "_model_module_version": "1.5.0",
            "_view_count": null,
            "_view_module_version": "1.2.0",
            "_model_module": "@jupyter-widgets/controls"
          }
        },
        "9298f6389eeb48cba880d9de5a5803ec": {
          "model_module": "@jupyter-widgets/base",
          "model_name": "LayoutModel",
          "state": {
            "_view_name": "LayoutView",
            "grid_template_rows": null,
            "right": null,
            "justify_content": null,
            "_view_module": "@jupyter-widgets/base",
            "overflow": null,
            "_model_module_version": "1.2.0",
            "_view_count": null,
            "flex_flow": null,
            "width": null,
            "min_width": null,
            "border": null,
            "align_items": null,
            "bottom": null,
            "_model_module": "@jupyter-widgets/base",
            "top": null,
            "grid_column": null,
            "overflow_y": null,
            "overflow_x": null,
            "grid_auto_flow": null,
            "grid_area": null,
            "grid_template_columns": null,
            "flex": null,
            "_model_name": "LayoutModel",
            "justify_items": null,
            "grid_row": null,
            "max_height": null,
            "align_content": null,
            "visibility": null,
            "align_self": null,
            "height": null,
            "min_height": null,
            "padding": null,
            "grid_auto_rows": null,
            "grid_gap": null,
            "max_width": null,
            "order": null,
            "_view_module_version": "1.2.0",
            "grid_template_areas": null,
            "object_position": null,
            "object_fit": null,
            "grid_auto_columns": null,
            "margin": null,
            "display": null,
            "left": null
          }
        },
        "656ac68eaf324cd8a806c1f20a7b89e7": {
          "model_module": "@jupyter-widgets/controls",
          "model_name": "HBoxModel",
          "state": {
            "_view_name": "HBoxView",
            "_dom_classes": [],
            "_model_name": "HBoxModel",
            "_view_module": "@jupyter-widgets/controls",
            "_model_module_version": "1.5.0",
            "_view_count": null,
            "_view_module_version": "1.5.0",
            "box_style": "",
            "layout": "IPY_MODEL_4f7aaaf473fb42c4a47d1fc7fa32917e",
            "_model_module": "@jupyter-widgets/controls",
            "children": [
              "IPY_MODEL_b39c6daaf8384f7f8736f973851e5825",
              "IPY_MODEL_7f5b46b905344e0887857904818c8006"
            ]
          }
        },
        "4f7aaaf473fb42c4a47d1fc7fa32917e": {
          "model_module": "@jupyter-widgets/base",
          "model_name": "LayoutModel",
          "state": {
            "_view_name": "LayoutView",
            "grid_template_rows": null,
            "right": null,
            "justify_content": null,
            "_view_module": "@jupyter-widgets/base",
            "overflow": null,
            "_model_module_version": "1.2.0",
            "_view_count": null,
            "flex_flow": null,
            "width": null,
            "min_width": null,
            "border": null,
            "align_items": null,
            "bottom": null,
            "_model_module": "@jupyter-widgets/base",
            "top": null,
            "grid_column": null,
            "overflow_y": null,
            "overflow_x": null,
            "grid_auto_flow": null,
            "grid_area": null,
            "grid_template_columns": null,
            "flex": null,
            "_model_name": "LayoutModel",
            "justify_items": null,
            "grid_row": null,
            "max_height": null,
            "align_content": null,
            "visibility": null,
            "align_self": null,
            "height": null,
            "min_height": null,
            "padding": null,
            "grid_auto_rows": null,
            "grid_gap": null,
            "max_width": null,
            "order": null,
            "_view_module_version": "1.2.0",
            "grid_template_areas": null,
            "object_position": null,
            "object_fit": null,
            "grid_auto_columns": null,
            "margin": null,
            "display": null,
            "left": null
          }
        },
        "b39c6daaf8384f7f8736f973851e5825": {
          "model_module": "@jupyter-widgets/controls",
          "model_name": "FloatProgressModel",
          "state": {
            "_view_name": "ProgressView",
            "style": "IPY_MODEL_a8a2ba2785e845c6ac1c7c3e428abddf",
            "_dom_classes": [],
            "description": "Image: 100%",
            "_model_name": "FloatProgressModel",
            "bar_style": "success",
            "max": 200,
            "_view_module": "@jupyter-widgets/controls",
            "_model_module_version": "1.5.0",
            "value": 200,
            "_view_count": null,
            "_view_module_version": "1.5.0",
            "orientation": "horizontal",
            "min": 0,
            "description_tooltip": null,
            "_model_module": "@jupyter-widgets/controls",
            "layout": "IPY_MODEL_87b956db71224bb0bc024fced7225732"
          }
        },
        "7f5b46b905344e0887857904818c8006": {
          "model_module": "@jupyter-widgets/controls",
          "model_name": "HTMLModel",
          "state": {
            "_view_name": "HTMLView",
            "style": "IPY_MODEL_b2fafdb77a144e68a6b5ff4567b25caf",
            "_dom_classes": [],
            "description": "",
            "_model_name": "HTMLModel",
            "placeholder": "​",
            "_view_module": "@jupyter-widgets/controls",
            "_model_module_version": "1.5.0",
            "value": " 200/200 [00:02&lt;00:00, 78.29it/s]",
            "_view_count": null,
            "_view_module_version": "1.5.0",
            "description_tooltip": null,
            "_model_module": "@jupyter-widgets/controls",
            "layout": "IPY_MODEL_91b6e7f2721e4d0ea9e7e2b5018378cb"
          }
        },
        "a8a2ba2785e845c6ac1c7c3e428abddf": {
          "model_module": "@jupyter-widgets/controls",
          "model_name": "ProgressStyleModel",
          "state": {
            "_view_name": "StyleView",
            "_model_name": "ProgressStyleModel",
            "description_width": "initial",
            "_view_module": "@jupyter-widgets/base",
            "_model_module_version": "1.5.0",
            "_view_count": null,
            "_view_module_version": "1.2.0",
            "bar_color": null,
            "_model_module": "@jupyter-widgets/controls"
          }
        },
        "87b956db71224bb0bc024fced7225732": {
          "model_module": "@jupyter-widgets/base",
          "model_name": "LayoutModel",
          "state": {
            "_view_name": "LayoutView",
            "grid_template_rows": null,
            "right": null,
            "justify_content": null,
            "_view_module": "@jupyter-widgets/base",
            "overflow": null,
            "_model_module_version": "1.2.0",
            "_view_count": null,
            "flex_flow": null,
            "width": null,
            "min_width": null,
            "border": null,
            "align_items": null,
            "bottom": null,
            "_model_module": "@jupyter-widgets/base",
            "top": null,
            "grid_column": null,
            "overflow_y": null,
            "overflow_x": null,
            "grid_auto_flow": null,
            "grid_area": null,
            "grid_template_columns": null,
            "flex": null,
            "_model_name": "LayoutModel",
            "justify_items": null,
            "grid_row": null,
            "max_height": null,
            "align_content": null,
            "visibility": null,
            "align_self": null,
            "height": null,
            "min_height": null,
            "padding": null,
            "grid_auto_rows": null,
            "grid_gap": null,
            "max_width": null,
            "order": null,
            "_view_module_version": "1.2.0",
            "grid_template_areas": null,
            "object_position": null,
            "object_fit": null,
            "grid_auto_columns": null,
            "margin": null,
            "display": null,
            "left": null
          }
        },
        "b2fafdb77a144e68a6b5ff4567b25caf": {
          "model_module": "@jupyter-widgets/controls",
          "model_name": "DescriptionStyleModel",
          "state": {
            "_view_name": "StyleView",
            "_model_name": "DescriptionStyleModel",
            "description_width": "",
            "_view_module": "@jupyter-widgets/base",
            "_model_module_version": "1.5.0",
            "_view_count": null,
            "_view_module_version": "1.2.0",
            "_model_module": "@jupyter-widgets/controls"
          }
        },
        "91b6e7f2721e4d0ea9e7e2b5018378cb": {
          "model_module": "@jupyter-widgets/base",
          "model_name": "LayoutModel",
          "state": {
            "_view_name": "LayoutView",
            "grid_template_rows": null,
            "right": null,
            "justify_content": null,
            "_view_module": "@jupyter-widgets/base",
            "overflow": null,
            "_model_module_version": "1.2.0",
            "_view_count": null,
            "flex_flow": null,
            "width": null,
            "min_width": null,
            "border": null,
            "align_items": null,
            "bottom": null,
            "_model_module": "@jupyter-widgets/base",
            "top": null,
            "grid_column": null,
            "overflow_y": null,
            "overflow_x": null,
            "grid_auto_flow": null,
            "grid_area": null,
            "grid_template_columns": null,
            "flex": null,
            "_model_name": "LayoutModel",
            "justify_items": null,
            "grid_row": null,
            "max_height": null,
            "align_content": null,
            "visibility": null,
            "align_self": null,
            "height": null,
            "min_height": null,
            "padding": null,
            "grid_auto_rows": null,
            "grid_gap": null,
            "max_width": null,
            "order": null,
            "_view_module_version": "1.2.0",
            "grid_template_areas": null,
            "object_position": null,
            "object_fit": null,
            "grid_auto_columns": null,
            "margin": null,
            "display": null,
            "left": null
          }
        },
        "25f71fd9bac34782a5183bc421e30afa": {
          "model_module": "@jupyter-widgets/controls",
          "model_name": "HBoxModel",
          "state": {
            "_view_name": "HBoxView",
            "_dom_classes": [],
            "_model_name": "HBoxModel",
            "_view_module": "@jupyter-widgets/controls",
            "_model_module_version": "1.5.0",
            "_view_count": null,
            "_view_module_version": "1.5.0",
            "box_style": "",
            "layout": "IPY_MODEL_20ba4f25de0049438a1b2bf8edde033b",
            "_model_module": "@jupyter-widgets/controls",
            "children": [
              "IPY_MODEL_5de05eb6dc604853b23f5ac5a76652f5",
              "IPY_MODEL_90ab28e422a14091b3b39f026abf9c44"
            ]
          }
        },
        "20ba4f25de0049438a1b2bf8edde033b": {
          "model_module": "@jupyter-widgets/base",
          "model_name": "LayoutModel",
          "state": {
            "_view_name": "LayoutView",
            "grid_template_rows": null,
            "right": null,
            "justify_content": null,
            "_view_module": "@jupyter-widgets/base",
            "overflow": null,
            "_model_module_version": "1.2.0",
            "_view_count": null,
            "flex_flow": null,
            "width": null,
            "min_width": null,
            "border": null,
            "align_items": null,
            "bottom": null,
            "_model_module": "@jupyter-widgets/base",
            "top": null,
            "grid_column": null,
            "overflow_y": null,
            "overflow_x": null,
            "grid_auto_flow": null,
            "grid_area": null,
            "grid_template_columns": null,
            "flex": null,
            "_model_name": "LayoutModel",
            "justify_items": null,
            "grid_row": null,
            "max_height": null,
            "align_content": null,
            "visibility": null,
            "align_self": null,
            "height": null,
            "min_height": null,
            "padding": null,
            "grid_auto_rows": null,
            "grid_gap": null,
            "max_width": null,
            "order": null,
            "_view_module_version": "1.2.0",
            "grid_template_areas": null,
            "object_position": null,
            "object_fit": null,
            "grid_auto_columns": null,
            "margin": null,
            "display": null,
            "left": null
          }
        },
        "5de05eb6dc604853b23f5ac5a76652f5": {
          "model_module": "@jupyter-widgets/controls",
          "model_name": "FloatProgressModel",
          "state": {
            "_view_name": "ProgressView",
            "style": "IPY_MODEL_37a2248b4ada4601bcf5f7e358c5589c",
            "_dom_classes": [],
            "description": "Image: 100%",
            "_model_name": "FloatProgressModel",
            "bar_style": "success",
            "max": 200,
            "_view_module": "@jupyter-widgets/controls",
            "_model_module_version": "1.5.0",
            "value": 200,
            "_view_count": null,
            "_view_module_version": "1.5.0",
            "orientation": "horizontal",
            "min": 0,
            "description_tooltip": null,
            "_model_module": "@jupyter-widgets/controls",
            "layout": "IPY_MODEL_ccda0c2d0536471596cbbc05a360a3d1"
          }
        },
        "90ab28e422a14091b3b39f026abf9c44": {
          "model_module": "@jupyter-widgets/controls",
          "model_name": "HTMLModel",
          "state": {
            "_view_name": "HTMLView",
            "style": "IPY_MODEL_461f736de5794c3cbdbc8ea6307c4abf",
            "_dom_classes": [],
            "description": "",
            "_model_name": "HTMLModel",
            "placeholder": "​",
            "_view_module": "@jupyter-widgets/controls",
            "_model_module_version": "1.5.0",
            "value": " 200/200 [00:02&lt;00:00, 81.54it/s]",
            "_view_count": null,
            "_view_module_version": "1.5.0",
            "description_tooltip": null,
            "_model_module": "@jupyter-widgets/controls",
            "layout": "IPY_MODEL_0c1b748254f64960a711259e88379981"
          }
        },
        "37a2248b4ada4601bcf5f7e358c5589c": {
          "model_module": "@jupyter-widgets/controls",
          "model_name": "ProgressStyleModel",
          "state": {
            "_view_name": "StyleView",
            "_model_name": "ProgressStyleModel",
            "description_width": "initial",
            "_view_module": "@jupyter-widgets/base",
            "_model_module_version": "1.5.0",
            "_view_count": null,
            "_view_module_version": "1.2.0",
            "bar_color": null,
            "_model_module": "@jupyter-widgets/controls"
          }
        },
        "ccda0c2d0536471596cbbc05a360a3d1": {
          "model_module": "@jupyter-widgets/base",
          "model_name": "LayoutModel",
          "state": {
            "_view_name": "LayoutView",
            "grid_template_rows": null,
            "right": null,
            "justify_content": null,
            "_view_module": "@jupyter-widgets/base",
            "overflow": null,
            "_model_module_version": "1.2.0",
            "_view_count": null,
            "flex_flow": null,
            "width": null,
            "min_width": null,
            "border": null,
            "align_items": null,
            "bottom": null,
            "_model_module": "@jupyter-widgets/base",
            "top": null,
            "grid_column": null,
            "overflow_y": null,
            "overflow_x": null,
            "grid_auto_flow": null,
            "grid_area": null,
            "grid_template_columns": null,
            "flex": null,
            "_model_name": "LayoutModel",
            "justify_items": null,
            "grid_row": null,
            "max_height": null,
            "align_content": null,
            "visibility": null,
            "align_self": null,
            "height": null,
            "min_height": null,
            "padding": null,
            "grid_auto_rows": null,
            "grid_gap": null,
            "max_width": null,
            "order": null,
            "_view_module_version": "1.2.0",
            "grid_template_areas": null,
            "object_position": null,
            "object_fit": null,
            "grid_auto_columns": null,
            "margin": null,
            "display": null,
            "left": null
          }
        },
        "461f736de5794c3cbdbc8ea6307c4abf": {
          "model_module": "@jupyter-widgets/controls",
          "model_name": "DescriptionStyleModel",
          "state": {
            "_view_name": "StyleView",
            "_model_name": "DescriptionStyleModel",
            "description_width": "",
            "_view_module": "@jupyter-widgets/base",
            "_model_module_version": "1.5.0",
            "_view_count": null,
            "_view_module_version": "1.2.0",
            "_model_module": "@jupyter-widgets/controls"
          }
        },
        "0c1b748254f64960a711259e88379981": {
          "model_module": "@jupyter-widgets/base",
          "model_name": "LayoutModel",
          "state": {
            "_view_name": "LayoutView",
            "grid_template_rows": null,
            "right": null,
            "justify_content": null,
            "_view_module": "@jupyter-widgets/base",
            "overflow": null,
            "_model_module_version": "1.2.0",
            "_view_count": null,
            "flex_flow": null,
            "width": null,
            "min_width": null,
            "border": null,
            "align_items": null,
            "bottom": null,
            "_model_module": "@jupyter-widgets/base",
            "top": null,
            "grid_column": null,
            "overflow_y": null,
            "overflow_x": null,
            "grid_auto_flow": null,
            "grid_area": null,
            "grid_template_columns": null,
            "flex": null,
            "_model_name": "LayoutModel",
            "justify_items": null,
            "grid_row": null,
            "max_height": null,
            "align_content": null,
            "visibility": null,
            "align_self": null,
            "height": null,
            "min_height": null,
            "padding": null,
            "grid_auto_rows": null,
            "grid_gap": null,
            "max_width": null,
            "order": null,
            "_view_module_version": "1.2.0",
            "grid_template_areas": null,
            "object_position": null,
            "object_fit": null,
            "grid_auto_columns": null,
            "margin": null,
            "display": null,
            "left": null
          }
        },
        "002cb844a15947bdbc3c712fb14fb252": {
          "model_module": "@jupyter-widgets/controls",
          "model_name": "HBoxModel",
          "state": {
            "_view_name": "HBoxView",
            "_dom_classes": [],
            "_model_name": "HBoxModel",
            "_view_module": "@jupyter-widgets/controls",
            "_model_module_version": "1.5.0",
            "_view_count": null,
            "_view_module_version": "1.5.0",
            "box_style": "",
            "layout": "IPY_MODEL_e3fe12ffc0d049238ef004b90c75ec8c",
            "_model_module": "@jupyter-widgets/controls",
            "children": [
              "IPY_MODEL_30e0dd6dca094576b2aa34863d223049",
              "IPY_MODEL_626f061e7521444a9093ea9eb7361747"
            ]
          }
        },
        "e3fe12ffc0d049238ef004b90c75ec8c": {
          "model_module": "@jupyter-widgets/base",
          "model_name": "LayoutModel",
          "state": {
            "_view_name": "LayoutView",
            "grid_template_rows": null,
            "right": null,
            "justify_content": null,
            "_view_module": "@jupyter-widgets/base",
            "overflow": null,
            "_model_module_version": "1.2.0",
            "_view_count": null,
            "flex_flow": null,
            "width": null,
            "min_width": null,
            "border": null,
            "align_items": null,
            "bottom": null,
            "_model_module": "@jupyter-widgets/base",
            "top": null,
            "grid_column": null,
            "overflow_y": null,
            "overflow_x": null,
            "grid_auto_flow": null,
            "grid_area": null,
            "grid_template_columns": null,
            "flex": null,
            "_model_name": "LayoutModel",
            "justify_items": null,
            "grid_row": null,
            "max_height": null,
            "align_content": null,
            "visibility": null,
            "align_self": null,
            "height": null,
            "min_height": null,
            "padding": null,
            "grid_auto_rows": null,
            "grid_gap": null,
            "max_width": null,
            "order": null,
            "_view_module_version": "1.2.0",
            "grid_template_areas": null,
            "object_position": null,
            "object_fit": null,
            "grid_auto_columns": null,
            "margin": null,
            "display": null,
            "left": null
          }
        },
        "30e0dd6dca094576b2aa34863d223049": {
          "model_module": "@jupyter-widgets/controls",
          "model_name": "FloatProgressModel",
          "state": {
            "_view_name": "ProgressView",
            "style": "IPY_MODEL_57d87c43fe244e36876a367908be0399",
            "_dom_classes": [],
            "description": "Image: 100%",
            "_model_name": "FloatProgressModel",
            "bar_style": "success",
            "max": 200,
            "_view_module": "@jupyter-widgets/controls",
            "_model_module_version": "1.5.0",
            "value": 200,
            "_view_count": null,
            "_view_module_version": "1.5.0",
            "orientation": "horizontal",
            "min": 0,
            "description_tooltip": null,
            "_model_module": "@jupyter-widgets/controls",
            "layout": "IPY_MODEL_94a8d659fa9844db8085030867cda066"
          }
        },
        "626f061e7521444a9093ea9eb7361747": {
          "model_module": "@jupyter-widgets/controls",
          "model_name": "HTMLModel",
          "state": {
            "_view_name": "HTMLView",
            "style": "IPY_MODEL_f965b7dcb168476c9278bb95f56e4e49",
            "_dom_classes": [],
            "description": "",
            "_model_name": "HTMLModel",
            "placeholder": "​",
            "_view_module": "@jupyter-widgets/controls",
            "_model_module_version": "1.5.0",
            "value": " 200/200 [00:02&lt;00:00, 81.68it/s]",
            "_view_count": null,
            "_view_module_version": "1.5.0",
            "description_tooltip": null,
            "_model_module": "@jupyter-widgets/controls",
            "layout": "IPY_MODEL_bdd53bb9a4694a2ab3170e9e93b1f6e2"
          }
        },
        "57d87c43fe244e36876a367908be0399": {
          "model_module": "@jupyter-widgets/controls",
          "model_name": "ProgressStyleModel",
          "state": {
            "_view_name": "StyleView",
            "_model_name": "ProgressStyleModel",
            "description_width": "initial",
            "_view_module": "@jupyter-widgets/base",
            "_model_module_version": "1.5.0",
            "_view_count": null,
            "_view_module_version": "1.2.0",
            "bar_color": null,
            "_model_module": "@jupyter-widgets/controls"
          }
        },
        "94a8d659fa9844db8085030867cda066": {
          "model_module": "@jupyter-widgets/base",
          "model_name": "LayoutModel",
          "state": {
            "_view_name": "LayoutView",
            "grid_template_rows": null,
            "right": null,
            "justify_content": null,
            "_view_module": "@jupyter-widgets/base",
            "overflow": null,
            "_model_module_version": "1.2.0",
            "_view_count": null,
            "flex_flow": null,
            "width": null,
            "min_width": null,
            "border": null,
            "align_items": null,
            "bottom": null,
            "_model_module": "@jupyter-widgets/base",
            "top": null,
            "grid_column": null,
            "overflow_y": null,
            "overflow_x": null,
            "grid_auto_flow": null,
            "grid_area": null,
            "grid_template_columns": null,
            "flex": null,
            "_model_name": "LayoutModel",
            "justify_items": null,
            "grid_row": null,
            "max_height": null,
            "align_content": null,
            "visibility": null,
            "align_self": null,
            "height": null,
            "min_height": null,
            "padding": null,
            "grid_auto_rows": null,
            "grid_gap": null,
            "max_width": null,
            "order": null,
            "_view_module_version": "1.2.0",
            "grid_template_areas": null,
            "object_position": null,
            "object_fit": null,
            "grid_auto_columns": null,
            "margin": null,
            "display": null,
            "left": null
          }
        },
        "f965b7dcb168476c9278bb95f56e4e49": {
          "model_module": "@jupyter-widgets/controls",
          "model_name": "DescriptionStyleModel",
          "state": {
            "_view_name": "StyleView",
            "_model_name": "DescriptionStyleModel",
            "description_width": "",
            "_view_module": "@jupyter-widgets/base",
            "_model_module_version": "1.5.0",
            "_view_count": null,
            "_view_module_version": "1.2.0",
            "_model_module": "@jupyter-widgets/controls"
          }
        },
        "bdd53bb9a4694a2ab3170e9e93b1f6e2": {
          "model_module": "@jupyter-widgets/base",
          "model_name": "LayoutModel",
          "state": {
            "_view_name": "LayoutView",
            "grid_template_rows": null,
            "right": null,
            "justify_content": null,
            "_view_module": "@jupyter-widgets/base",
            "overflow": null,
            "_model_module_version": "1.2.0",
            "_view_count": null,
            "flex_flow": null,
            "width": null,
            "min_width": null,
            "border": null,
            "align_items": null,
            "bottom": null,
            "_model_module": "@jupyter-widgets/base",
            "top": null,
            "grid_column": null,
            "overflow_y": null,
            "overflow_x": null,
            "grid_auto_flow": null,
            "grid_area": null,
            "grid_template_columns": null,
            "flex": null,
            "_model_name": "LayoutModel",
            "justify_items": null,
            "grid_row": null,
            "max_height": null,
            "align_content": null,
            "visibility": null,
            "align_self": null,
            "height": null,
            "min_height": null,
            "padding": null,
            "grid_auto_rows": null,
            "grid_gap": null,
            "max_width": null,
            "order": null,
            "_view_module_version": "1.2.0",
            "grid_template_areas": null,
            "object_position": null,
            "object_fit": null,
            "grid_auto_columns": null,
            "margin": null,
            "display": null,
            "left": null
          }
        }
      }
    }
  },
  "cells": [
    {
      "cell_type": "markdown",
      "metadata": {
        "id": "view-in-github",
        "colab_type": "text"
      },
      "source": [
        "<a href=\"https://colab.research.google.com/github/amolk/AGI-experiments/blob/master/2020-2/01_Retinotopic_SOM.ipynb\" target=\"_parent\"><img src=\"https://colab.research.google.com/assets/colab-badge.svg\" alt=\"Open In Colab\"/></a>"
      ]
    },
    {
      "cell_type": "code",
      "metadata": {
        "id": "WS3WeHLy5zbx",
        "colab_type": "code",
        "colab": {}
      },
      "source": [
        "%load_ext autoreload\n",
        "%autoreload 1"
      ],
      "execution_count": 1,
      "outputs": []
    },
    {
      "cell_type": "code",
      "metadata": {
        "id": "9MEqqNow59rD",
        "colab_type": "code",
        "colab": {
          "base_uri": "https://localhost:8080/",
          "height": 55
        },
        "outputId": "e655795b-e3aa-416c-a2e1-8f160b42ac6c"
      },
      "source": [
        "%%writefile hp.py\n",
        "import numpy\n",
        "import math\n",
        "\n",
        "class LayerHP:\n",
        "  def __init__(self):\n",
        "    self.input_shape = None\n",
        "    self.output_shape = None\n",
        "\n",
        "    self.alpha = 0.1   # learning rate\n",
        "    self.alpha_n = 0.01 # neighbor learning rate\n",
        "    \n",
        "    self.enable_neighborhood_competition = False\n",
        "    self.neighborhood_shape = (4, 4)\n",
        "\n",
        "    self.enable_precision = True\n",
        "    self.enable_precision_weighted_distance = True\n",
        "    self.enable_per_neuron_learning_rate = True\n",
        "\n",
        "  @property\n",
        "  def input_size(self):\n",
        "    return numpy.prod(self.input_shape)\n",
        "\n",
        "  @property\n",
        "  def output_size(self):\n",
        "    return numpy.prod(self.output_shape)\n",
        "\n",
        "class DatasetHP:\n",
        "  def __init__(self):\n",
        "    self.image_batch_size = 200\n",
        "    self.kernel_shape = (5, 5)\n",
        "    self.patch_grid_shape = (10, 10)\n",
        "\n",
        "  @property\n",
        "  def kernel_size(self):\n",
        "    return numpy.prod(self.kernel_shape)\n",
        "\n",
        "  @property\n",
        "  def patch_grid_size(self):\n",
        "    return numpy.prod(self.patch_grid_shape)\n",
        "\n",
        "class HP:\n",
        "  def __init__(self):\n",
        "    self.mask_contrast = 3\n"
      ],
      "execution_count": 30,
      "outputs": [
        {
          "output_type": "stream",
          "text": [
            "Overwriting hp.py\n"
          ],
          "name": "stdout"
        }
      ]
    },
    {
      "cell_type": "code",
      "metadata": {
        "id": "yPyM7V-h8E4z",
        "colab_type": "code",
        "colab": {
          "base_uri": "https://localhost:8080/",
          "height": 55
        },
        "outputId": "6c64f59a-62a3-4e4b-d4cb-20cd294d9225"
      },
      "source": [
        "%%writefile util.py\n",
        "import torch\n",
        "import pdb\n",
        "from hp import HP\n",
        "from skimage.util.shape import view_as_windows\n",
        "\n",
        "device = torch.device('cuda:0' if torch.cuda.is_available() else 'cpu')\n",
        "\n",
        "class Util:\n",
        "  @staticmethod\n",
        "  def add_gaussian_noise(tensor, mean=0., std=1.):\n",
        "    t = tensor + torch.randn(tensor.size()).to(device) * std + mean\n",
        "    t.to(device)\n",
        "    return t\n",
        "\n",
        "  @staticmethod\n",
        "  def norm_scale(t):\n",
        "    epsilon = 0.00001\n",
        "\n",
        "    assert len(t.shape)==2, \"t shape must be (batch,size)\"\n",
        "    # print(\"mean\", t.mean())\n",
        "    # print(\"std\", t.std())\n",
        "    std = t.std(dim=-1).unsqueeze(-1)\n",
        "    std[std<epsilon] = epsilon\n",
        "    t = (t - t.mean(dim=-1).unsqueeze(-1)) / std\n",
        "    # print(\"max\", t.max())\n",
        "    # print(\"min\", t.min())\n",
        "    scale = (t.max(dim=-1)[0] - t.min(dim=-1)[0]).unsqueeze(-1)\n",
        "    scale[scale<epsilon] = epsilon\n",
        "    t = t / scale\n",
        "\n",
        "    t = t - t.min(dim=-1)[0].unsqueeze(-1)\n",
        "    # print(\"max\", t.max())\n",
        "    # print(\"min\", t.min())\n",
        "\n",
        "    return t\n",
        "\n",
        "  @staticmethod\n",
        "  def get_image_patch_indices(image_shape, kernel_shape, patch_grid_shape):\n",
        "    assert len(image_shape) == 2, \"Must be (image height, image width)\"\n",
        "    assert len(kernel_shape) == 2, \"Only 2D kernels allowed\"\n",
        "    assert len(patch_grid_shape) == 2, \"Only 2D patch grids allowed\"\n",
        "\n",
        "    image_height, image_width = image_shape\n",
        "    kernel_height, kernel_width = kernel_shape\n",
        "    patch_grid_height, patch_grid_width = patch_grid_shape\n",
        "\n",
        "    # We will find patch top-left coordinates\n",
        "    # First patch has top-left coordinates (0, 0)\n",
        "    # Last patch has top-left coordinates (image_height - kernel_height)\n",
        "    # (h, w)th patch has top-left coordinates\n",
        "    #      (h / patch_grid_height) * (image_height - kernel_height) ,\n",
        "    #      (w / patch_grid_width)  * (image_width  - kernel_width)\n",
        "\n",
        "    indices_y, indices_x = torch.meshgrid(\n",
        "        torch.linspace(0, image_height - kernel_height, patch_grid_height).long(),\n",
        "        torch.linspace(0, image_width  - kernel_width,  patch_grid_width ).long()\n",
        "    )\n",
        "    return indices_y, indices_x\n",
        "\n",
        "  @staticmethod\n",
        "  def get_image_patches(image, config):\n",
        "    image_as_windows = view_as_windows(image.numpy(), config.kernel_shape)\n",
        "    return torch.from_numpy(image_as_windows[config.image_patch_indices_y, config.image_patch_indices_x]).to(device)\n",
        "\n",
        "  @staticmethod\n",
        "  def conv_slice(images, kernel_shape, stride):\n",
        "    assert len(images.shape) == 3, \"Must be (image count, image height, image width)\"\n",
        "    images = images.unsqueeze(1)\n",
        "\n",
        "    fold_params = dict(kernel_size=kernel_shape, dilation=1, padding=0, stride=stride)\n",
        "    unfold = torch.nn.Unfold(**fold_params)\n",
        "    print(\"images\", images.shape)\n",
        "    unfolded = unfold(images)\n",
        "    unfolded = unfolded.view(images.shape[0], -1, unfolded.shape[-1])\n",
        "    unfolded = unfolded.transpose(1, 2)\n",
        "    return unfolded\n",
        "\n",
        "  @staticmethod\n",
        "  def var_to_precision(pattern_var, hp):\n",
        "    return torch.exp(-pattern_var * hp.mask_contrast)"
      ],
      "execution_count": 31,
      "outputs": [
        {
          "output_type": "stream",
          "text": [
            "Overwriting util.py\n"
          ],
          "name": "stdout"
        }
      ]
    },
    {
      "cell_type": "code",
      "metadata": {
        "id": "kzZVwNIE8MCF",
        "colab_type": "code",
        "colab": {
          "base_uri": "https://localhost:8080/",
          "height": 55
        },
        "outputId": "963f1ac2-91b2-4393-bf5e-f491b93b639b"
      },
      "source": [
        "%%writefile graphics_util.py\n",
        "import matplotlib.pyplot as plt\n",
        "import numpy as np\n",
        "import math\n",
        "import torch\n",
        "from util import Util\n",
        "\n",
        "class GraphicsUtil:\n",
        "  @staticmethod\n",
        "  def show_image_grid(images, alpha=None, vmin=0, vmax=1, grid_width=None, grid_height=None):\n",
        "    assert len(images.shape) == 3, \"Must be (image count, image height, image width)\"\n",
        "    (image_count, image_height, image_width) = images.shape\n",
        "\n",
        "    if alpha is not None:\n",
        "      assert images.shape == alpha.shape\n",
        "\n",
        "    if grid_width is None or grid_height is None:\n",
        "      image_grid_size = math.floor(image_count ** 0.5)\n",
        "      if image_grid_size > 15:\n",
        "        image_grid_size = 15\n",
        "\n",
        "      images = images[0:image_grid_size*image_grid_size]\n",
        "      if alpha is not None:\n",
        "        alpha = alpha[0:image_grid_size*image_grid_size]\n",
        "\n",
        "      grid_width = image_grid_size\n",
        "      grid_height = image_grid_size\n",
        "    else:\n",
        "      assert grid_width * grid_height == image_count\n",
        "\n",
        "    gutter_size = 2\n",
        "    composite_image = torch.zeros(((image_height + gutter_size) * grid_height - gutter_size, (image_width + gutter_size) * grid_width - gutter_size))\n",
        "    if alpha is not None:\n",
        "      composite_alpha = torch.ones_like(composite_image)\n",
        "\n",
        "    for row in range(grid_height):\n",
        "      for col in range(grid_width):\n",
        "        r1 = row * (image_height + gutter_size)\n",
        "        r2 = r1 + image_height\n",
        "        c1 = col * (image_width + gutter_size)\n",
        "        c2 = c1 + image_width\n",
        "        index = row * grid_height + col\n",
        "        composite_image[r1:r2, c1:c2] = images[index] \n",
        "        if alpha is not None:\n",
        "          composite_alpha[r1:r2, c1:c2] = alpha[index] \n",
        "\n",
        "    if alpha is None:\n",
        "      composite_alpha = None\n",
        "\n",
        "    plt.figure(figsize=(grid_height * 0.7, grid_width * 0.7))\n",
        "    plt.imshow(composite_image.cpu().numpy(), alpha=composite_alpha, vmin=vmin, vmax=vmax, interpolation='none', cmap=plt.cm.viridis)\n",
        "    plt.axis('off')\n",
        "    plt.show()\n",
        "\n"
      ],
      "execution_count": 32,
      "outputs": [
        {
          "output_type": "stream",
          "text": [
            "Overwriting graphics_util.py\n"
          ],
          "name": "stdout"
        }
      ]
    },
    {
      "cell_type": "code",
      "metadata": {
        "id": "p8-oUxcM8Onn",
        "colab_type": "code",
        "colab": {
          "base_uri": "https://localhost:8080/",
          "height": 55
        },
        "outputId": "580f4dbb-3163-492a-c10d-94528ec975a0"
      },
      "source": [
        "%%writefile dataset_loader.py\n",
        "from util import Util\n",
        "from graphics_util import GraphicsUtil\n",
        "import math\n",
        "import matplotlib.pyplot as plt\n",
        "import torch\n",
        "from torchvision import datasets, transforms\n",
        "\n",
        "device = torch.device('cuda:0' if torch.cuda.is_available() else 'cpu')\n",
        "\n",
        "def load_mnist(train=True, batch_size=64):\n",
        "  kwargs = {'num_workers': 1, 'pin_memory': True} if device==\"cuda\" else {}\n",
        "  loader = torch.utils.data.DataLoader(\n",
        "    datasets.MNIST('../data', train=train, download=True,\n",
        "                   transform=transforms.Compose([\n",
        "                       transforms.ToTensor(),\n",
        "                   ])),\n",
        "    batch_size=batch_size, shuffle=True, **kwargs)\n",
        "  \n",
        "  return loader\n",
        "\n",
        "def load_cifar10(train=True, batch_size=64):\n",
        "  kwargs = {'num_workers': 1, 'pin_memory': True} if device==\"cuda\" else {}\n",
        "  loader = torch.utils.data.DataLoader(\n",
        "    datasets.CIFAR10('../data', train=train, download=True,\n",
        "                   transform=transforms.Compose([\n",
        "                       transforms.ToTensor(),\n",
        "                   ])),\n",
        "    batch_size=batch_size, shuffle=True, **kwargs)\n",
        "  \n",
        "  return loader\n",
        "\n",
        "def load_imagefolder(batch_size=64):\n",
        "  loader = torch.utils.data.DataLoader(\n",
        "      datasets.ImageFolder('/content/drive/My Drive/work/datasets/digit',\n",
        "                   transform=transforms.Compose([\n",
        "                       transforms.ToTensor(),\n",
        "                   ])),\n",
        "    batch_size=batch_size, shuffle=True)\n",
        "  \n",
        "  return loader\n",
        "\n",
        "def load_dataset(config):\n",
        "  images = next(iter(load_mnist(batch_size=config.image_batch_size)))[0]\n",
        "  images = images[:, 0, :, :]\n",
        "  \n",
        "  # plt.imshow(images[0].permute(1,2,0))\n",
        "  # plt.show()\n",
        "\n",
        "  ib, ih, iw = images.shape\n",
        "  config.image_shape = (ih, iw)\n",
        "  print(\"images\", images.shape)\n",
        "\n",
        "  plt.imshow(images[0], vmin=0, vmax=1)\n",
        "  plt.show()\n",
        "\n",
        "  image_patch_indices_y, image_patch_indices_x = Util.get_image_patch_indices(config.image_shape, config.kernel_shape, config.patch_grid_shape)\n",
        "\n",
        "  config.image_patch_indices_y = image_patch_indices_y\n",
        "  config.image_patch_indices_x = image_patch_indices_x\n",
        "\n",
        "  image0_patches = Util.get_image_patches(images[0], config)\n",
        "  GraphicsUtil.show_image_grid(image0_patches.view(-1, config.kernel_shape[0], config.kernel_shape[0]))\n",
        "\n",
        "  dataset = torch.utils.data.TensorDataset(images)\n",
        "  \n",
        "  loader = torch.utils.data.DataLoader(dataset, batch_size=1, pin_memory=False)\n",
        "  return loader, images"
      ],
      "execution_count": 33,
      "outputs": [
        {
          "output_type": "stream",
          "text": [
            "Overwriting dataset_loader.py\n"
          ],
          "name": "stdout"
        }
      ]
    },
    {
      "cell_type": "code",
      "metadata": {
        "id": "JtBsKYEyBCyH",
        "colab_type": "code",
        "colab": {
          "base_uri": "https://localhost:8080/",
          "height": 697
        },
        "outputId": "ae75d197-36e7-4f18-d353-7464273933b2"
      },
      "source": [
        "%aimport hp\n",
        "%aimport util\n",
        "%aimport graphics_util\n",
        "%aimport dataset_loader\n",
        "\n",
        "from hp import DatasetHP\n",
        "from dataset_loader import load_dataset\n",
        "from graphics_util import GraphicsUtil\n",
        "\n",
        "dataset_hp = DatasetHP()\n",
        "original_dataset, original_images = dataset_loader.load_dataset(dataset_hp)\n",
        "# GraphicsUtil.show_image_grid(original_dataset.dataset.tensors[0][100:200].view(-1, HP.image_height, HP.image_width), vmin=0, vmax=1)"
      ],
      "execution_count": 34,
      "outputs": [
        {
          "output_type": "stream",
          "text": [
            "images torch.Size([200, 28, 28])\n"
          ],
          "name": "stdout"
        },
        {
          "output_type": "display_data",
          "data": {
            "image/png": "[encoded data removed]",
            "text/plain": [
              "<Figure size 432x288 with 1 Axes>"
            ]
          },
          "metadata": {
            "tags": [],
            "needs_background": "light"
          }
        },
        {
          "output_type": "display_data",
          "data": {
            "image/png": "[encoded data removed]",
            "text/plain": [
              "<Figure size 504x504 with 1 Axes>"
            ]
          },
          "metadata": {
            "tags": [],
            "needs_background": "light"
          }
        }
      ]
    },
    {
      "cell_type": "code",
      "metadata": {
        "id": "8oe_pIAuBI2G",
        "colab_type": "code",
        "colab": {
          "base_uri": "https://localhost:8080/",
          "height": 55
        },
        "outputId": "9d0aeb33-de3e-4f10-a080-d0fd483271f2"
      },
      "source": [
        "%%writefile som_layer.py\n",
        "from util import Util\n",
        "from graphics_util import GraphicsUtil\n",
        "import math\n",
        "import matplotlib.pyplot as plt\n",
        "import torch\n",
        "import pdb\n",
        "from hp import LayerHP\n",
        "device = torch.device('cuda:0' if torch.cuda.is_available() else 'cpu')\n",
        "\n",
        "class SOMLayer(torch.nn.Module):\n",
        "  def __init__(self, hp:LayerHP):\n",
        "    super().__init__()\n",
        "    self.hp = hp\n",
        "    self.weights = torch.rand((self.hp.output_size, self.hp.input_size)).to(device) * 0.01\n",
        "    self.alpha_i = torch.ones((self.hp.output_size,)).to(device)\n",
        "    self.variance = torch.ones_like(self.weights).to(device)\n",
        "    self.precision = self.get_precision(self.variance)\n",
        "\n",
        "    self.show_weights()\n",
        "\n",
        "  def get_precision(self, variance):\n",
        "    return torch.exp(-variance * 3)\n",
        "\n",
        "  def l2_cross_distance(self, x, x_precision, y, y_precision):\n",
        "    xs = x.shape\n",
        "    assert len(xs) == 2\n",
        "    assert (x_precision is None) or (x_precision.shape == xs), \"Precision, if specified, must be same shape as patterns\"\n",
        "\n",
        "    ys = y.shape\n",
        "    assert len(ys) == 2\n",
        "    assert (y_precision is None) or (y_precision.shape == ys), \"Precision, if specified, must be same shape as patterns\"\n",
        "\n",
        "    assert xs[1] == ys[1], \"Patch size, i.e. dim 1, must match\"\n",
        "\n",
        "    n = xs[0]\n",
        "    m = ys[0]\n",
        "    d = xs[1]\n",
        "\n",
        "    x = x.unsqueeze(1).expand(n, m, d)\n",
        "    y = y.unsqueeze(0).expand(n, m, d)\n",
        "\n",
        "    dist_1 = (x - y).abs()\n",
        "    dist_d = torch.pow(dist_1, 2)\n",
        "\n",
        "    if self.hp.enable_precision_weighted_distance:\n",
        "      if x_precision is not None:\n",
        "        dist_d = dist_d * x_precision.unsqueeze(1).expand(n, m, d)\n",
        "\n",
        "      if y_precision is not None:\n",
        "        dist_d = dist_d * y_precision.unsqueeze(0).expand(n, m, d)\n",
        "\n",
        "    dist = dist_d.sum(2).sqrt()\n",
        "    return dist_1, dist_d, dist\n",
        "\n",
        "  def l2_distance(self, x, x_precision, y, y_precision):\n",
        "    assert x.shape == y.shape\n",
        "\n",
        "    if x_precision is not None:\n",
        "      assert x.shape == x_precision.shape\n",
        "\n",
        "    if y_precision is not None:\n",
        "      assert y.shape == y_precision.shape\n",
        "\n",
        "    dist_1 = (x - y).abs()\n",
        "    dist_d = torch.pow(dist_1, 2)\n",
        "\n",
        "    if self.hp.enable_precision_weighted_distance:\n",
        "      if x_precision is not None:\n",
        "        dist_d = dist_d * x_precision\n",
        "\n",
        "      if y_precision is not None:\n",
        "        dist_d = dist_d * y_precision\n",
        "\n",
        "    dist = dist_d.sum(-1).sqrt()\n",
        "    return dist_1, dist_d, dist\n",
        "\n",
        "  def cross_similarity(self, x, x_precision, y, y_precision):\n",
        "    dist_1, dist_d, dist = self.l2_cross_distance(x=x, x_precision=x_precision, y=y, y_precision=y_precision)\n",
        "    sim = torch.exp(-dist)\n",
        "    return dist_1, dist_d, dist, sim\n",
        "\n",
        "  def similarity(self, x, x_precision, y, y_precision):\n",
        "    dist_1, dist_d, dist = self.l2_distance(x=x, x_precision=x_precision, y=y, y_precision=y_precision)\n",
        "    sim = torch.exp(-dist)\n",
        "    return dist_1, dist_d, dist, sim\n",
        "\n",
        "  def forward(self, image):\n",
        "    x = Util.get_image_patches(image, self.hp).view(-1, self.hp.input_size)\n",
        "    dist_1, dist_d, dist, sim = self.similarity(x=x, x_precision=None, y=self.weights, y_precision=self.precision)\n",
        "\n",
        "    if self.hp.enable_neighborhood_competition:\n",
        "      raise NotImplementedError()\n",
        "\n",
        "    alpha = self.hp.alpha * self.alpha_i\n",
        "    for i in range(sim.shape[0]):\n",
        "      # Everyone's a winner!\n",
        "      wi = i\n",
        "      self.weights[wi] = (1 - alpha[wi]) * self.weights[wi] + alpha[wi] * x[i]\n",
        "\n",
        "      if self.hp.enable_per_neuron_learning_rate:\n",
        "        self.alpha_i[wi] = self.alpha_i[wi] * 0.999\n",
        "\n",
        "      if self.hp.enable_precision:\n",
        "        self.variance[wi] = 0.9 * self.variance[wi] + 0.1 * dist_1[wi, :]\n",
        "        self.precision[wi] = self.get_precision(self.variance[wi])\n",
        "\n",
        "  def show_weights(self):\n",
        "    images = self.weights.view(-1, self.hp.input_shape[0], self.hp.input_shape[1])\n",
        "    if self.hp.enable_precision:\n",
        "      alpha = self.precision.view(-1, self.hp.input_shape[0], self.hp.input_shape[1])\n",
        "    else:\n",
        "      alpha = None\n",
        "    GraphicsUtil.show_image_grid(images=images, alpha=alpha, grid_height=self.hp.output_shape[0], grid_width=self.hp.output_shape[1])\n",
        "\n",
        "  def show_precision(self):\n",
        "    GraphicsUtil.show_image_grid(self.precision.view(-1, self.hp.input_shape[0], self.hp.input_shape[1]), grid_height=self.hp.output_shape[0], grid_width=self.hp.output_shape[1])\n"
      ],
      "execution_count": 37,
      "outputs": [
        {
          "output_type": "stream",
          "text": [
            "Overwriting som_layer.py\n"
          ],
          "name": "stdout"
        }
      ]
    },
    {
      "cell_type": "code",
      "metadata": {
        "id": "bkGUZuOaEPj9",
        "colab_type": "code",
        "colab": {
          "base_uri": "https://localhost:8080/",
          "height": 1000,
          "referenced_widgets": [
            "0f479377625b413fa07dfa3094f5764c",
            "cb6cbc85f61a42099970141db9e8b4c7",
            "c7a962cd085348f6829813b6c410a4a1",
            "84ffebdb9b0c43dfbae6d511bbf4771b",
            "20d10448bd994fc6b54ed6d441fa1d5a",
            "886383bf52984074ba2fa3b3879e0682",
            "b48acb8f7a8b441d930ee4423b7a064c",
            "9298f6389eeb48cba880d9de5a5803ec",
            "656ac68eaf324cd8a806c1f20a7b89e7",
            "4f7aaaf473fb42c4a47d1fc7fa32917e",
            "b39c6daaf8384f7f8736f973851e5825",
            "7f5b46b905344e0887857904818c8006",
            "a8a2ba2785e845c6ac1c7c3e428abddf",
            "87b956db71224bb0bc024fced7225732",
            "b2fafdb77a144e68a6b5ff4567b25caf",
            "91b6e7f2721e4d0ea9e7e2b5018378cb",
            "25f71fd9bac34782a5183bc421e30afa",
            "20ba4f25de0049438a1b2bf8edde033b",
            "5de05eb6dc604853b23f5ac5a76652f5",
            "90ab28e422a14091b3b39f026abf9c44",
            "37a2248b4ada4601bcf5f7e358c5589c",
            "ccda0c2d0536471596cbbc05a360a3d1",
            "461f736de5794c3cbdbc8ea6307c4abf",
            "0c1b748254f64960a711259e88379981",
            "002cb844a15947bdbc3c712fb14fb252",
            "e3fe12ffc0d049238ef004b90c75ec8c",
            "30e0dd6dca094576b2aa34863d223049",
            "626f061e7521444a9093ea9eb7361747",
            "57d87c43fe244e36876a367908be0399",
            "94a8d659fa9844db8085030867cda066",
            "f965b7dcb168476c9278bb95f56e4e49",
            "bdd53bb9a4694a2ab3170e9e93b1f6e2"
          ]
        },
        "outputId": "fe3fda5b-1276-4a3c-86a6-740c04209688"
      },
      "source": [
        "%aimport som_layer\n",
        "import torch\n",
        "from som_layer import SOMLayer\n",
        "from hp import LayerHP\n",
        "from tqdm.notebook import tqdm\n",
        "import matplotlib.pyplot as plt\n",
        "\n",
        "layer_hp = LayerHP()\n",
        "layer_hp.input_shape = dataset_hp.kernel_shape\n",
        "layer_hp.output_shape = dataset_hp.patch_grid_shape\n",
        "layer_hp.image_patch_indices_x = dataset_hp.image_patch_indices_x\n",
        "layer_hp.image_patch_indices_y = dataset_hp.image_patch_indices_y\n",
        "layer_hp.kernel_shape = dataset_hp.kernel_shape\n",
        "\n",
        "layer1 = SOMLayer(layer_hp)\n",
        "\n",
        "def run(epochs=8):\n",
        "  # dataset_precision = None\n",
        "\n",
        "  for i in range(epochs):\n",
        "    print(\"Epoch\", i)\n",
        "\n",
        "    for batch in tqdm(iter(original_dataset), \"Image\"):\n",
        "      assert len(batch) == 1, \"Process all patches for a single image\"\n",
        "      output = layer1(batch[0][0])\n",
        "      # plt.imshow(output)\n",
        "      # plt.show()\n",
        "\n",
        "    layer1.show_weights()\n",
        "\n",
        "# %lprun -f run -m pattern_memory_layer run(epochs=5)\n",
        "run(epochs=4)\n",
        "\n",
        "print(\"Patterns\")\n",
        "GraphicsUtil.show_image_grid(layer1.weights.view(-1, layer1.hp.input_shape[0], layer1.hp.input_shape[1]), grid_height=layer1.hp.output_shape[0], grid_width=layer1.hp.output_shape[1])\n",
        "print(\"Variance\")\n",
        "GraphicsUtil.show_image_grid(layer1.variance.view(-1, layer1.hp.input_shape[0], layer1.hp.input_shape[1]), grid_height=layer1.hp.output_shape[0], grid_width=layer1.hp.output_shape[1])\n",
        "print(\"Precision\")\n",
        "GraphicsUtil.show_image_grid(layer1.precision.view(-1, layer1.hp.input_shape[0], layer1.hp.input_shape[1]), grid_height=layer1.hp.output_shape[0], grid_width=layer1.hp.output_shape[1], vmin=0, vmax=1)\n"
      ],
      "execution_count": 38,
      "outputs": [
        {
          "output_type": "display_data",
          "data": {
            "image/png": "[encoded data removed]",
            "text/plain": [
              "<Figure size 504x504 with 1 Axes>"
            ]
          },
          "metadata": {
            "tags": [],
            "needs_background": "light"
          }
        },
        {
          "output_type": "stream",
          "text": [
            "Epoch 0\n"
          ],
          "name": "stdout"
        },
        {
          "output_type": "display_data",
          "data": {
            "application/vnd.jupyter.widget-view+json": {
              "model_id": "0f479377625b413fa07dfa3094f5764c",
              "version_minor": 0,
              "version_major": 2
            },
            "text/plain": [
              "HBox(children=(FloatProgress(value=0.0, description='Image', max=200.0, style=ProgressStyle(description_width=…"
            ]
          },
          "metadata": {
            "tags": []
          }
        },
        {
          "output_type": "stream",
          "text": [
            "\n"
          ],
          "name": "stdout"
        },
        {
          "output_type": "display_data",
          "data": {
            "image/png": "[encoded data removed]",
            "text/plain": [
              "<Figure size 504x504 with 1 Axes>"
            ]
          },
          "metadata": {
            "tags": [],
            "needs_background": "light"
          }
        },
        {
          "output_type": "stream",
          "text": [
            "Epoch 1\n"
          ],
          "name": "stdout"
        },
        {
          "output_type": "display_data",
          "data": {
            "application/vnd.jupyter.widget-view+json": {
              "model_id": "656ac68eaf324cd8a806c1f20a7b89e7",
              "version_minor": 0,
              "version_major": 2
            },
            "text/plain": [
              "HBox(children=(FloatProgress(value=0.0, description='Image', max=200.0, style=ProgressStyle(description_width=…"
            ]
          },
          "metadata": {
            "tags": []
          }
        },
        {
          "output_type": "stream",
          "text": [
            "\n"
          ],
          "name": "stdout"
        },
        {
          "output_type": "display_data",
          "data": {
            "image/png": "[encoded data removed]",
            "text/plain": [
              "<Figure size 504x504 with 1 Axes>"
            ]
          },
          "metadata": {
            "tags": [],
            "needs_background": "light"
          }
        },
        {
          "output_type": "stream",
          "text": [
            "Epoch 2\n"
          ],
          "name": "stdout"
        },
        {
          "output_type": "display_data",
          "data": {
            "application/vnd.jupyter.widget-view+json": {
              "model_id": "25f71fd9bac34782a5183bc421e30afa",
              "version_minor": 0,
              "version_major": 2
            },
            "text/plain": [
              "HBox(children=(FloatProgress(value=0.0, description='Image', max=200.0, style=ProgressStyle(description_width=…"
            ]
          },
          "metadata": {
            "tags": []
          }
        },
        {
          "output_type": "stream",
          "text": [
            "\n"
          ],
          "name": "stdout"
        },
        {
          "output_type": "display_data",
          "data": {
            "image/png": "[encoded data removed]",
            "text/plain": [
              "<Figure size 504x504 with 1 Axes>"
            ]
          },
          "metadata": {
            "tags": [],
            "needs_background": "light"
          }
        },
        {
          "output_type": "stream",
          "text": [
            "Epoch 3\n"
          ],
          "name": "stdout"
        },
        {
          "output_type": "display_data",
          "data": {
            "application/vnd.jupyter.widget-view+json": {
              "model_id": "002cb844a15947bdbc3c712fb14fb252",
              "version_minor": 0,
              "version_major": 2
            },
            "text/plain": [
              "HBox(children=(FloatProgress(value=0.0, description='Image', max=200.0, style=ProgressStyle(description_width=…"
            ]
          },
          "metadata": {
            "tags": []
          }
        },
        {
          "output_type": "stream",
          "text": [
            "\n"
          ],
          "name": "stdout"
        },
        {
          "output_type": "display_data",
          "data": {
            "image/png": "[encoded data removed]",
            "text/plain": [
              "<Figure size 504x504 with 1 Axes>"
            ]
          },
          "metadata": {
            "tags": [],
            "needs_background": "light"
          }
        }
      ]
    },
    {
      "cell_type": "code",
      "metadata": {
        "id": "Y6sd06jKFHN8",
        "colab_type": "code",
        "colab": {
          "base_uri": "https://localhost:8080/",
          "height": 1000
        },
        "outputId": "ded96c19-fd47-4b9c-ab50-3a7bbe67748f"
      },
      "source": [
        ""
      ],
      "execution_count": 39,
      "outputs": [
        {
          "output_type": "stream",
          "text": [
            "Patterns\n"
          ],
          "name": "stdout"
        },
        {
          "output_type": "display_data",
          "data": {
            "image/png": "[encoded data removed]",
            "text/plain": [
              "<Figure size 504x504 with 1 Axes>"
            ]
          },
          "metadata": {
            "tags": [],
            "needs_background": "light"
          }
        },
        {
          "output_type": "stream",
          "text": [
            "Variance\n"
          ],
          "name": "stdout"
        },
        {
          "output_type": "display_data",
          "data": {
            "image/png": "[encoded data removed]",
            "text/plain": [
              "<Figure size 504x504 with 1 Axes>"
            ]
          },
          "metadata": {
            "tags": [],
            "needs_background": "light"
          }
        },
        {
          "output_type": "stream",
          "text": [
            "Precision\n"
          ],
          "name": "stdout"
        },
        {
          "output_type": "display_data",
          "data": {
            "image/png": "[encoded data removed]",
            "text/plain": [
              "<Figure size 504x504 with 1 Axes>"
            ]
          },
          "metadata": {
            "tags": [],
            "needs_background": "light"
          }
        }
      ]
    },
    {
      "cell_type": "markdown",
      "metadata": {
        "id": "hAH4I_RrMdvb",
        "colab_type": "text"
      },
      "source": [
        "# Results\n",
        "- Each neuron (pattern) looks at its own image patch.\n",
        "- There is no competition yet, each neuron is a winner.\n",
        "- Each neuron's pattern ends up as the mean of the inputs it has seen.\n",
        "- Variance is high, because neurons do not specialize\n",
        "\n",
        "We will get to more interesting results when we add competition and asymmetries."
      ]
    },
    {
      "cell_type": "code",
      "metadata": {
        "id": "BU16KwrVMz4S",
        "colab_type": "code",
        "colab": {}
      },
      "source": [
        ""
      ],
      "execution_count": null,
      "outputs": []
    }
  ]
}