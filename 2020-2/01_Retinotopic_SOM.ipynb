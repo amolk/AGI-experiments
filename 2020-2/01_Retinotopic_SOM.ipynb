{
  "nbformat": 4,
  "nbformat_minor": 0,
  "metadata": {
    "colab": {
      "name": "01 Retinotopic SOM.ipynb",
      "provenance": [],
      "collapsed_sections": [],
      "authorship_tag": "ABX9TyOMgShqVc18sKXasM0vbXar",
      "include_colab_link": true
    },
    "kernelspec": {
      "name": "python3",
      "display_name": "Python 3"
    }
  },
  "cells": [
    {
      "cell_type": "markdown",
      "metadata": {
        "id": "view-in-github",
        "colab_type": "text"
      },
      "source": [
        "<a href=\"https://colab.research.google.com/github/amolk/AGI-experiments/blob/master/2020-2/01_Retinotopic_SOM.ipynb\" target=\"_parent\"><img src=\"https://colab.research.google.com/assets/colab-badge.svg\" alt=\"Open In Colab\"/></a>"
      ]
    },
    {
      "cell_type": "code",
      "metadata": {
        "id": "WS3WeHLy5zbx",
        "colab_type": "code",
        "colab": {}
      },
      "source": [
        "%load_ext autoreload\n",
        "%autoreload 1"
      ],
      "execution_count": 1,
      "outputs": []
    },
    {
      "cell_type": "code",
      "metadata": {
        "id": "9MEqqNow59rD",
        "colab_type": "code",
        "colab": {
          "base_uri": "https://localhost:8080/",
          "height": 55
        },
        "outputId": "0e0dcfd4-12c4-46ff-8f42-16fc4d97d15c"
      },
      "source": [
        "%%writefile hp.py\n",
        "import numpy\n",
        "import math\n",
        "\n",
        "class LayerHP:\n",
        "  def __init__(self):\n",
        "    self.input_shape = None\n",
        "    self.output_shape = None\n",
        "\n",
        "    self.alpha = 0.1   # learning rate\n",
        "    self.alpha_n = 0.01 # neighbor learning rate\n",
        "    \n",
        "    self.enable_neighborhood_competition = False\n",
        "    self.neighborhood_shape = (4, 4)\n",
        "\n",
        "    # self.enable_neighborhood_smoothing = True\n",
        "    # self.enable_precision = True\n",
        "    # self.enable_precision_weighted_distance = True\n",
        "    # self.enable_per_neuron_learning_rate = True\n",
        "    # self.enable_retinotopy = True\n",
        "    # self.retinotopic_local_grid_shape = (12, 12)\n",
        "\n",
        "  @property\n",
        "  def input_size(self):\n",
        "    return numpy.prod(self.input_shape)\n",
        "\n",
        "  @property\n",
        "  def output_size(self):\n",
        "    return numpy.prod(self.output_shape)\n",
        "\n",
        "class DatasetHP:\n",
        "  def __init__(self):\n",
        "    self.image_batch_size = 2\n",
        "    self.kernel_shape = (5, 5)\n",
        "    self.patch_grid_shape = (10, 10)\n",
        "\n",
        "  @property\n",
        "  def kernel_size(self):\n",
        "    return numpy.prod(self.kernel_shape)\n",
        "\n",
        "  @property\n",
        "  def patch_grid_size(self):\n",
        "    return numpy.prod(self.patch_grid_shape)\n",
        "\n",
        "class HP:\n",
        "  def __init__(self):\n",
        "    self.mask_contrast = 3\n"
      ],
      "execution_count": 10,
      "outputs": [
        {
          "output_type": "stream",
          "text": [
            "Overwriting hp.py\n"
          ],
          "name": "stdout"
        }
      ]
    },
    {
      "cell_type": "code",
      "metadata": {
        "id": "yPyM7V-h8E4z",
        "colab_type": "code",
        "colab": {
          "base_uri": "https://localhost:8080/",
          "height": 55
        },
        "outputId": "c12ec6fd-cdcb-4718-f755-5dcc547f81e2"
      },
      "source": [
        "%%writefile util.py\n",
        "import torch\n",
        "import pdb\n",
        "from hp import HP\n",
        "from skimage.util.shape import view_as_windows\n",
        "\n",
        "device = torch.device('cuda:0' if torch.cuda.is_available() else 'cpu')\n",
        "\n",
        "class Util:\n",
        "  @staticmethod\n",
        "  def add_gaussian_noise(tensor, mean=0., std=1.):\n",
        "    t = tensor + torch.randn(tensor.size()).to(device) * std + mean\n",
        "    t.to(device)\n",
        "    return t\n",
        "\n",
        "  @staticmethod\n",
        "  def norm_scale(t):\n",
        "    epsilon = 0.00001\n",
        "\n",
        "    assert len(t.shape)==2, \"t shape must be (batch,size)\"\n",
        "    # print(\"mean\", t.mean())\n",
        "    # print(\"std\", t.std())\n",
        "    std = t.std(dim=-1).unsqueeze(-1)\n",
        "    std[std<epsilon] = epsilon\n",
        "    t = (t - t.mean(dim=-1).unsqueeze(-1)) / std\n",
        "    # print(\"max\", t.max())\n",
        "    # print(\"min\", t.min())\n",
        "    scale = (t.max(dim=-1)[0] - t.min(dim=-1)[0]).unsqueeze(-1)\n",
        "    scale[scale<epsilon] = epsilon\n",
        "    t = t / scale\n",
        "\n",
        "    t = t - t.min(dim=-1)[0].unsqueeze(-1)\n",
        "    # print(\"max\", t.max())\n",
        "    # print(\"min\", t.min())\n",
        "\n",
        "    return t\n",
        "\n",
        "  @staticmethod\n",
        "  def get_image_patch_indices(image_shape, kernel_shape, patch_grid_shape):\n",
        "    assert len(image_shape) == 2, \"Must be (image height, image width)\"\n",
        "    assert len(kernel_shape) == 2, \"Only 2D kernels allowed\"\n",
        "    assert len(patch_grid_shape) == 2, \"Only 2D patch grids allowed\"\n",
        "\n",
        "    image_height, image_width = image_shape\n",
        "    kernel_height, kernel_width = kernel_shape\n",
        "    patch_grid_height, patch_grid_width = patch_grid_shape\n",
        "\n",
        "    # We will find patch top-left coordinates\n",
        "    # First patch has top-left coordinates (0, 0)\n",
        "    # Last patch has top-left coordinates (image_height - kernel_height)\n",
        "    # (h, w)th patch has top-left coordinates\n",
        "    #      (h / patch_grid_height) * (image_height - kernel_height) ,\n",
        "    #      (w / patch_grid_width)  * (image_width  - kernel_width)\n",
        "\n",
        "    indices_y, indices_x = torch.meshgrid(\n",
        "        torch.linspace(0, image_height - kernel_height, patch_grid_height).long(),\n",
        "        torch.linspace(0, image_width  - kernel_width,  patch_grid_width ).long()\n",
        "    )\n",
        "    return indices_y, indices_x\n",
        "\n",
        "  @staticmethod\n",
        "  def get_image_patches(image, config):\n",
        "    image_as_windows = view_as_windows(image.numpy(), config.kernel_shape)\n",
        "    return torch.from_numpy(image_as_windows[config.image_patch_indices_y, config.image_patch_indices_x]).to(device)\n",
        "\n",
        "  @staticmethod\n",
        "  def conv_slice(images, kernel_shape, stride):\n",
        "    assert len(images.shape) == 3, \"Must be (image count, image height, image width)\"\n",
        "    images = images.unsqueeze(1)\n",
        "\n",
        "    fold_params = dict(kernel_size=kernel_shape, dilation=1, padding=0, stride=stride)\n",
        "    unfold = torch.nn.Unfold(**fold_params)\n",
        "    print(\"images\", images.shape)\n",
        "    unfolded = unfold(images)\n",
        "    unfolded = unfolded.view(images.shape[0], -1, unfolded.shape[-1])\n",
        "    unfolded = unfolded.transpose(1, 2)\n",
        "    return unfolded\n",
        "\n",
        "  @staticmethod\n",
        "  def var_to_precision(pattern_var, hp):\n",
        "    return torch.exp(-pattern_var * hp.mask_contrast)"
      ],
      "execution_count": 94,
      "outputs": [
        {
          "output_type": "stream",
          "text": [
            "Overwriting util.py\n"
          ],
          "name": "stdout"
        }
      ]
    },
    {
      "cell_type": "code",
      "metadata": {
        "id": "kzZVwNIE8MCF",
        "colab_type": "code",
        "colab": {
          "base_uri": "https://localhost:8080/",
          "height": 55
        },
        "outputId": "b0afb3c9-ceb7-412c-a239-070b8115e58a"
      },
      "source": [
        "%%writefile graphics_util.py\n",
        "import matplotlib.pyplot as plt\n",
        "import numpy as np\n",
        "import math\n",
        "import torch\n",
        "from util import Util\n",
        "\n",
        "class GraphicsUtil:\n",
        "  @staticmethod\n",
        "  def show_image_grid(images, alpha=None, vmin=0, vmax=1, grid_width=None, grid_height=None):\n",
        "    assert len(images.shape) == 3, \"Must be (image count, image height, image width)\"\n",
        "    (image_count, image_height, image_width) = images.shape\n",
        "\n",
        "    if alpha is not None:\n",
        "      assert images.shape == alpha.shape\n",
        "\n",
        "    if grid_width is None or grid_height is None:\n",
        "      image_grid_size = math.floor(image_count ** 0.5)\n",
        "      if image_grid_size > 15:\n",
        "        image_grid_size = 15\n",
        "\n",
        "      images = images[0:image_grid_size*image_grid_size]\n",
        "      if alpha is not None:\n",
        "        alpha = alpha[0:image_grid_size*image_grid_size]\n",
        "\n",
        "      grid_width = image_grid_size\n",
        "      grid_height = image_grid_size\n",
        "    else:\n",
        "      assert grid_width * grid_height == image_count\n",
        "\n",
        "    gutter_size = 2\n",
        "    composite_image = torch.zeros(((image_height + gutter_size) * grid_height - gutter_size, (image_width + gutter_size) * grid_width - gutter_size))\n",
        "    if alpha is not None:\n",
        "      composite_alpha = torch.ones_like(composite_image)\n",
        "\n",
        "    for row in range(grid_height):\n",
        "      for col in range(grid_width):\n",
        "        r1 = row * (image_height + gutter_size)\n",
        "        r2 = r1 + image_height\n",
        "        c1 = col * (image_width + gutter_size)\n",
        "        c2 = c1 + image_width\n",
        "        index = row * grid_height + col\n",
        "        composite_image[r1:r2, c1:c2] = images[index] \n",
        "        if alpha is not None:\n",
        "          composite_alpha[r1:r2, c1:c2] = alpha[index] \n",
        "\n",
        "    if alpha is None:\n",
        "      composite_alpha = None\n",
        "\n",
        "    plt.figure(figsize=(grid_height * 0.7, grid_width * 0.7))\n",
        "    plt.imshow(composite_image.cpu().numpy(), alpha=composite_alpha, vmin=vmin, vmax=vmax, interpolation='none', cmap=plt.cm.viridis)\n",
        "    plt.axis('off')\n",
        "    plt.show()\n",
        "\n"
      ],
      "execution_count": 95,
      "outputs": [
        {
          "output_type": "stream",
          "text": [
            "Overwriting graphics_util.py\n"
          ],
          "name": "stdout"
        }
      ]
    },
    {
      "cell_type": "code",
      "metadata": {
        "id": "p8-oUxcM8Onn",
        "colab_type": "code",
        "colab": {
          "base_uri": "https://localhost:8080/",
          "height": 55
        },
        "outputId": "2ee088b5-b1c2-4fbb-9e28-7ba975b8d142"
      },
      "source": [
        "%%writefile dataset_loader.py\n",
        "from util import Util\n",
        "from graphics_util import GraphicsUtil\n",
        "import math\n",
        "import matplotlib.pyplot as plt\n",
        "import torch\n",
        "from torchvision import datasets, transforms\n",
        "\n",
        "device = torch.device('cuda:0' if torch.cuda.is_available() else 'cpu')\n",
        "\n",
        "def load_mnist(train=True, batch_size=64):\n",
        "  kwargs = {'num_workers': 1, 'pin_memory': True} if device==\"cuda\" else {}\n",
        "  loader = torch.utils.data.DataLoader(\n",
        "    datasets.MNIST('../data', train=train, download=True,\n",
        "                   transform=transforms.Compose([\n",
        "                       transforms.ToTensor(),\n",
        "                   ])),\n",
        "    batch_size=batch_size, shuffle=True, **kwargs)\n",
        "  \n",
        "  return loader\n",
        "\n",
        "def load_cifar10(train=True, batch_size=64):\n",
        "  kwargs = {'num_workers': 1, 'pin_memory': True} if device==\"cuda\" else {}\n",
        "  loader = torch.utils.data.DataLoader(\n",
        "    datasets.CIFAR10('../data', train=train, download=True,\n",
        "                   transform=transforms.Compose([\n",
        "                       transforms.ToTensor(),\n",
        "                   ])),\n",
        "    batch_size=batch_size, shuffle=True, **kwargs)\n",
        "  \n",
        "  return loader\n",
        "\n",
        "def load_imagefolder(batch_size=64):\n",
        "  loader = torch.utils.data.DataLoader(\n",
        "      datasets.ImageFolder('/content/drive/My Drive/work/datasets/digit',\n",
        "                   transform=transforms.Compose([\n",
        "                       transforms.ToTensor(),\n",
        "                   ])),\n",
        "    batch_size=batch_size, shuffle=True)\n",
        "  \n",
        "  return loader\n",
        "\n",
        "def load_dataset(config):\n",
        "  images = next(iter(load_mnist(batch_size=config.image_batch_size)))[0]\n",
        "  images = images[:, 0, :, :]\n",
        "  \n",
        "  # plt.imshow(images[0].permute(1,2,0))\n",
        "  # plt.show()\n",
        "\n",
        "  ib, ih, iw = images.shape\n",
        "  config.image_shape = (ih, iw)\n",
        "  print(\"images\", images.shape)\n",
        "\n",
        "  plt.imshow(images[0], vmin=0, vmax=1)\n",
        "  plt.show()\n",
        "\n",
        "  image_patch_indices_y, image_patch_indices_x = Util.get_image_patch_indices(config.image_shape, config.kernel_shape, config.patch_grid_shape)\n",
        "\n",
        "  config.image_patch_indices_y = image_patch_indices_y\n",
        "  config.image_patch_indices_x = image_patch_indices_x\n",
        "\n",
        "  image0_patches = Util.get_image_patches(images[0], config)\n",
        "  GraphicsUtil.show_image_grid(image0_patches.view(-1, config.kernel_shape[0], config.kernel_shape[0]))\n",
        "\n",
        "  dataset = torch.utils.data.TensorDataset(images)\n",
        "  \n",
        "  loader = torch.utils.data.DataLoader(dataset, batch_size=1, pin_memory=False)\n",
        "  return loader, images"
      ],
      "execution_count": 96,
      "outputs": [
        {
          "output_type": "stream",
          "text": [
            "Overwriting dataset_loader.py\n"
          ],
          "name": "stdout"
        }
      ]
    },
    {
      "cell_type": "code",
      "metadata": {
        "id": "JtBsKYEyBCyH",
        "colab_type": "code",
        "colab": {
          "base_uri": "https://localhost:8080/",
          "height": 697
        },
        "outputId": "fff2da1e-de83-4c5f-d03f-4bfbefa036c3"
      },
      "source": [
        "%aimport hp\n",
        "%aimport util\n",
        "%aimport graphics_util\n",
        "%aimport dataset_loader\n",
        "\n",
        "from hp import DatasetHP\n",
        "from dataset_loader import load_dataset\n",
        "from graphics_util import GraphicsUtil\n",
        "\n",
        "dataset_hp = DatasetHP()\n",
        "original_dataset, original_images = dataset_loader.load_dataset(dataset_hp)\n",
        "# GraphicsUtil.show_image_grid(original_dataset.dataset.tensors[0][100:200].view(-1, HP.image_height, HP.image_width), vmin=0, vmax=1)"
      ],
      "execution_count": 97,
      "outputs": [
        {
          "output_type": "stream",
          "text": [
            "images torch.Size([2, 28, 28])\n"
          ],
          "name": "stdout"
        },
        {
          "output_type": "display_data",
          "data": {
            "image/png": "[encoded data removed]",
            "text/plain": [
              "<Figure size 432x288 with 1 Axes>"
            ]
          },
          "metadata": {
            "tags": [],
            "needs_background": "light"
          }
        },
        {
          "output_type": "display_data",
          "data": {
            "image/png": "[encoded data removed]",
            "text/plain": [
              "<Figure size 504x504 with 1 Axes>"
            ]
          },
          "metadata": {
            "tags": [],
            "needs_background": "light"
          }
        }
      ]
    },
    {
      "cell_type": "code",
      "metadata": {
        "id": "8oe_pIAuBI2G",
        "colab_type": "code",
        "colab": {}
      },
      "source": [
        ""
      ],
      "execution_count": null,
      "outputs": []
    }
  ]
}