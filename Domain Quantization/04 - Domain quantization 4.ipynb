{
 "cells": [
  {
   "cell_type": "markdown",
   "metadata": {},
   "source": [
    "# Domain quantization 4\n",
    "\n",
    "Try domain quantization on mnist digits"
   ]
  },
  {
   "cell_type": "code",
   "execution_count": 1,
   "metadata": {},
   "outputs": [],
   "source": [
    "import torch\n",
    "from torch import nn\n",
    "import torch.optim as optim\n",
    "import numpy as np\n",
    "import matplotlib.pyplot as plt\n",
    "%matplotlib inline\n",
    "from scipy.stats import norm\n",
    "\n",
    "def normal_distribution(n, mean, var=0.05):\n",
    "    x = norm.pdf(np.arange(0, 1, 1.0 / n), mean, var)\n",
    "    x = x / np.sum(x)\n",
    "    #return torch.tensor(x).float()\n",
    "    return x"
   ]
  },
  {
   "cell_type": "code",
   "execution_count": 9,
   "metadata": {},
   "outputs": [],
   "source": [
    "import pandas as pd\n",
    "\n",
    "class DomainQuantizationLayer(nn.Module):\n",
    "    def __init__(self, input_features, bin_count=10, init_low_bound=0.0, init_high_bound=1.0):\n",
    "        assert bin_count > 1\n",
    "\n",
    "        super().__init__()\n",
    "        self.input_features = input_features\n",
    "        self.bin_count = bin_count\n",
    "        self.bins = [[] for _ in range(input_features)]\n",
    "        self.bins_initialized = False\n",
    "        self.values_used = 0\n",
    "\n",
    "    def forward(self, input):\n",
    "        assert input.shape[0] == self.input_features, f\"self.input_features is {self.input_features}, input is {input.shape}\"\n",
    "\n",
    "        # print('input shape = ', input.shape)\n",
    "        if self.training or not self.bins_initialized:\n",
    "            self.update_bins(input)\n",
    "        return self.map_values(input)\n",
    "\n",
    "    def extra_repr(self):\n",
    "        return f\"input_features = {self.input_features}, resolution = {self.resolution}\"\n",
    "    \n",
    "    def qcut_bins(self, values):\n",
    "        assert len(values.shape) == 1, \"Need 1D numpy array of values\"\n",
    "        _, bins = pd.qcut(values, q=self.bin_count-1, retbins=True, duplicates='drop', labels=False)\n",
    "        return bins\n",
    "\n",
    "    def map_values(self, values):\n",
    "        output = torch.stack([self.map_feature_values(feature_values, feature_index) for feature_index, feature_values in enumerate(values)])\n",
    "        return output\n",
    "        \n",
    "    def map_feature_values(self, values, feature_index):\n",
    "        assert len(values.shape) == 1\n",
    "\n",
    "        bins = self.bins[feature_index]\n",
    "        digits = np.digitize(values, bins)\n",
    "        output = digits.astype(float)\n",
    "        for index, digit in enumerate(digits):\n",
    "            if digit > 0 and digit < len(bins):\n",
    "                val_left = bins[digit-1]\n",
    "                val_right = bins[digit]\n",
    "                output[index] += (values[index] - val_left) / (val_right - val_left)\n",
    "\n",
    "        output -= 1\n",
    "        output.clip(0, len(bins) - 1, out=output)\n",
    "        #output = [normal_distribution(self.bin_count, item * 1.0 / self.bin_count) for item in output]\n",
    "        return torch.Tensor(output)\n",
    "    \n",
    "    def update_bins(self, values):\n",
    "        print('alpha = ', self.values_used / (self.values_used + values.shape[-1]))\n",
    "        for feature_index, feature_values in enumerate(values):\n",
    "            self.update_feature_bins(feature_values, feature_index)\n",
    "            \n",
    "        self.bins_initialized = True\n",
    "        self.values_used += values.shape[-1]\n",
    "        if self.values_used > 10000:\n",
    "            self.values_used = 10000\n",
    "        \n",
    "    def update_feature_bins(self, values, feature_index):\n",
    "        alpha = self.values_used / (self.values_used + values.size)\n",
    "        bins = self.qcut_bins(values)\n",
    "\n",
    "        if not self.bins_initialized or self.bins[feature_index].shape[0] < bins.shape[0]:\n",
    "            self.bins[feature_index] = bins\n",
    "        else:\n",
    "            if self.bins[feature_index].shape[0] == bins.shape[0]:\n",
    "                self.bins[feature_index] = self.bins[feature_index] * alpha + bins * (1 - alpha)\n",
    "            else:\n",
    "                pass # ignore smaller size bins, we never want to reduce resolution\n"
   ]
  },
  {
   "cell_type": "code",
   "execution_count": 10,
   "metadata": {},
   "outputs": [],
   "source": [
    "from sklearn import datasets\n",
    "mnist = datasets.fetch_mldata('MNIST original', data_home='datasets/')\n",
    "y = pd.Series(mnist.target).astype('int').astype('category').values\n",
    "X = pd.DataFrame(mnist.data).values"
   ]
  },
  {
   "cell_type": "code",
   "execution_count": 13,
   "metadata": {},
   "outputs": [
    {
     "name": "stdout",
     "output_type": "stream",
     "text": [
      "(70000, 784)\n"
     ]
    }
   ],
   "source": [
    "print(X.shape)\n",
    "feature_count = 28*28\n",
    "dq = DomainQuantizationLayer(feature_count, bin_count=30)\n",
    "batch_start_index = 10000"
   ]
  },
  {
   "cell_type": "code",
   "execution_count": 14,
   "metadata": {},
   "outputs": [
    {
     "name": "stdout",
     "output_type": "stream",
     "text": [
      "alpha =  0.0\n"
     ]
    },
    {
     "data": {
      "image/png": "[encoded data removed]",
      "text/plain": [
       "<Figure size 1080x360 with 1 Axes>"
      ]
     },
     "metadata": {
      "needs_background": "light"
     },
     "output_type": "display_data"
    },
    {
     "data": {
      "image/png": "[encoded data removed]",
      "text/plain": [
       "<Figure size 1080x360 with 1 Axes>"
      ]
     },
     "metadata": {
      "needs_background": "light"
     },
     "output_type": "display_data"
    },
    {
     "name": "stdout",
     "output_type": "stream",
     "text": [
      "alpha =  0.5\n"
     ]
    },
    {
     "data": {
      "image/png": "[encoded data removed]",
      "text/plain": [
       "<Figure size 1080x360 with 1 Axes>"
      ]
     },
     "metadata": {
      "needs_background": "light"
     },
     "output_type": "display_data"
    },
    {
     "data": {
      "image/png": "[encoded data removed]",
      "text/plain": [
       "<Figure size 1080x360 with 1 Axes>"
      ]
     },
     "metadata": {
      "needs_background": "light"
     },
     "output_type": "display_data"
    },
    {
     "name": "stdout",
     "output_type": "stream",
     "text": [
      "alpha =  0.6666666666666666\n"
     ]
    },
    {
     "data": {
      "image/png": "[encoded data removed]",
      "text/plain": [
       "<Figure size 1080x360 with 1 Axes>"
      ]
     },
     "metadata": {
      "needs_background": "light"
     },
     "output_type": "display_data"
    },
    {
     "data": {
      "image/png": "[encoded data removed]",
      "text/plain": [
       "<Figure size 1080x360 with 1 Axes>"
      ]
     },
     "metadata": {
      "needs_background": "light"
     },
     "output_type": "display_data"
    },
    {
     "name": "stdout",
     "output_type": "stream",
     "text": [
      "alpha =  0.75\n"
     ]
    },
    {
     "data": {
      "image/png": "[encoded data removed]",
      "text/plain": [
       "<Figure size 1080x360 with 1 Axes>"
      ]
     },
     "metadata": {
      "needs_background": "light"
     },
     "output_type": "display_data"
    },
    {
     "data": {
      "image/png": "[encoded data removed]",
      "text/plain": [
       "<Figure size 1080x360 with 1 Axes>"
      ]
     },
     "metadata": {
      "needs_background": "light"
     },
     "output_type": "display_data"
    },
    {
     "name": "stdout",
     "output_type": "stream",
     "text": [
      "alpha =  0.8\n"
     ]
    },
    {
     "data": {
      "image/png": "[encoded data removed]",
      "text/plain": [
       "<Figure size 1080x360 with 1 Axes>"
      ]
     },
     "metadata": {
      "needs_background": "light"
     },
     "output_type": "display_data"
    },
    {
     "data": {
      "image/png": "[encoded data removed]",
      "text/plain": [
       "<Figure size 1080x360 with 1 Axes>"
      ]
     },
     "metadata": {
      "needs_background": "light"
     },
     "output_type": "display_data"
    },
    {
     "name": "stdout",
     "output_type": "stream",
     "text": [
      "alpha =  0.8333333333333334\n"
     ]
    },
    {
     "data": {
      "image/png": "[encoded data removed]",
      "text/plain": [
       "<Figure size 1080x360 with 1 Axes>"
      ]
     },
     "metadata": {
      "needs_background": "light"
     },
     "output_type": "display_data"
    },
    {
     "data": {
      "image/png": "[encoded data removed]",
      "text/plain": [
       "<Figure size 1080x360 with 1 Axes>"
      ]
     },
     "metadata": {
      "needs_background": "light"
     },
     "output_type": "display_data"
    },
    {
     "name": "stdout",
     "output_type": "stream",
     "text": [
      "alpha =  0.8333333333333334\n"
     ]
    },
    {
     "data": {
      "image/png": "[encoded data removed]",
      "text/plain": [
       "<Figure size 1080x360 with 1 Axes>"
      ]
     },
     "metadata": {
      "needs_background": "light"
     },
     "output_type": "display_data"
    },
    {
     "data": {
      "image/png": "[encoded data removed]",
      "text/plain": [
       "<Figure size 1080x360 with 1 Axes>"
      ]
     },
     "metadata": {
      "needs_background": "light"
     },
     "output_type": "display_data"
    },
    {
     "name": "stdout",
     "output_type": "stream",
     "text": [
      "alpha =  0.8333333333333334\n"
     ]
    },
    {
     "data": {
      "image/png": "[encoded data removed]",
      "text/plain": [
       "<Figure size 1080x360 with 1 Axes>"
      ]
     },
     "metadata": {
      "needs_background": "light"
     },
     "output_type": "display_data"
    },
    {
     "data": {
      "image/png": "[encoded data removed]",
      "text/plain": [
       "<Figure size 1080x360 with 1 Axes>"
      ]
     },
     "metadata": {
      "needs_background": "light"
     },
     "output_type": "display_data"
    },
    {
     "name": "stdout",
     "output_type": "stream",
     "text": [
      "alpha =  0.8333333333333334\n"
     ]
    },
    {
     "data": {
      "image/png": "[encoded data removed]",
      "text/plain": [
       "<Figure size 1080x360 with 1 Axes>"
      ]
     },
     "metadata": {
      "needs_background": "light"
     },
     "output_type": "display_data"
    },
    {
     "data": {
      "image/png": "[encoded data removed]",
      "text/plain": [
       "<Figure size 1080x360 with 1 Axes>"
      ]
     },
     "metadata": {
      "needs_background": "light"
     },
     "output_type": "display_data"
    },
    {
     "name": "stdout",
     "output_type": "stream",
     "text": [
      "alpha =  0.8333333333333334\n"
     ]
    },
    {
     "data": {
      "image/png": "[encoded data removed]",
      "text/plain": [
       "<Figure size 1080x360 with 1 Axes>"
      ]
     },
     "metadata": {
      "needs_background": "light"
     },
     "output_type": "display_data"
    },
    {
     "data": {
      "image/png": "[encoded data removed]",
      "text/plain": [
       "<Figure size 1080x360 with 1 Axes>"
      ]
     },
     "metadata": {
      "needs_background": "light"
     },
     "output_type": "display_data"
    },
    {
     "name": "stdout",
     "output_type": "stream",
     "text": [
      "alpha =  0.8333333333333334\n"
     ]
    },
    {
     "data": {
      "image/png": "[encoded data removed]",
      "text/plain": [
       "<Figure size 1080x360 with 1 Axes>"
      ]
     },
     "metadata": {
      "needs_background": "light"
     },
     "output_type": "display_data"
    },
    {
     "data": {
      "image/png": "[encoded data removed]",
      "text/plain": [
       "<Figure size 1080x360 with 1 Axes>"
      ]
     },
     "metadata": {
      "needs_background": "light"
     },
     "output_type": "display_data"
    },
    {
     "name": "stdout",
     "output_type": "stream",
     "text": [
      "alpha =  0.8333333333333334\n"
     ]
    },
    {
     "data": {
      "image/png": "[encoded data removed]",
      "text/plain": [
       "<Figure size 1080x360 with 1 Axes>"
      ]
     },
     "metadata": {
      "needs_background": "light"
     },
     "output_type": "display_data"
    },
    {
     "data": {
      "image/png": "[encoded data removed]",
      "text/plain": [
       "<Figure size 1080x360 with 1 Axes>"
      ]
     },
     "metadata": {
      "needs_background": "light"
     },
     "output_type": "display_data"
    },
    {
     "name": "stdout",
     "output_type": "stream",
     "text": [
      "alpha =  0.8333333333333334\n"
     ]
    },
    {
     "data": {
      "image/png": "[encoded data removed]",
      "text/plain": [
       "<Figure size 1080x360 with 1 Axes>"
      ]
     },
     "metadata": {
      "needs_background": "light"
     },
     "output_type": "display_data"
    },
    {
     "data": {
      "image/png": "[encoded data removed]",
      "text/plain": [
       "<Figure size 1080x360 with 1 Axes>"
      ]
     },
     "metadata": {
      "needs_background": "light"
     },
     "output_type": "display_data"
    },
    {
     "name": "stdout",
     "output_type": "stream",
     "text": [
      "alpha =  0.8333333333333334\n"
     ]
    },
    {
     "data": {
      "image/png": "[encoded data removed]",
      "text/plain": [
       "<Figure size 1080x360 with 1 Axes>"
      ]
     },
     "metadata": {
      "needs_background": "light"
     },
     "output_type": "display_data"
    },
    {
     "data": {
      "image/png": "[encoded data removed]",
      "text/plain": [
       "<Figure size 1080x360 with 1 Axes>"
      ]
     },
     "metadata": {
      "needs_background": "light"
     },
     "output_type": "display_data"
    },
    {
     "name": "stdout",
     "output_type": "stream",
     "text": [
      "alpha =  0.8333333333333334\n"
     ]
    },
    {
     "data": {
      "image/png": "[encoded data removed]",
      "text/plain": [
       "<Figure size 1080x360 with 1 Axes>"
      ]
     },
     "metadata": {
      "needs_background": "light"
     },
     "output_type": "display_data"
    },
    {
     "data": {
      "image/png": "[encoded data removed]",
      "text/plain": [
       "<Figure size 1080x360 with 1 Axes>"
      ]
     },
     "metadata": {
      "needs_background": "light"
     },
     "output_type": "display_data"
    },
    {
     "name": "stdout",
     "output_type": "stream",
     "text": [
      "alpha =  0.8333333333333334\n"
     ]
    },
    {
     "data": {
      "image/png": "[encoded data removed]",
      "text/plain": [
       "<Figure size 1080x360 with 1 Axes>"
      ]
     },
     "metadata": {
      "needs_background": "light"
     },
     "output_type": "display_data"
    },
    {
     "data": {
      "image/png": "[encoded data removed]",
      "text/plain": [
       "<Figure size 1080x360 with 1 Axes>"
      ]
     },
     "metadata": {
      "needs_background": "light"
     },
     "output_type": "display_data"
    },
    {
     "name": "stdout",
     "output_type": "stream",
     "text": [
      "alpha =  0.8333333333333334\n"
     ]
    },
    {
     "data": {
      "image/png": "[encoded data removed]",
      "text/plain": [
       "<Figure size 1080x360 with 1 Axes>"
      ]
     },
     "metadata": {
      "needs_background": "light"
     },
     "output_type": "display_data"
    },
    {
     "data": {
      "image/png": "[encoded data removed]",
      "text/plain": [
       "<Figure size 1080x360 with 1 Axes>"
      ]
     },
     "metadata": {
      "needs_background": "light"
     },
     "output_type": "display_data"
    },
    {
     "name": "stdout",
     "output_type": "stream",
     "text": [
      "alpha =  0.8333333333333334\n"
     ]
    },
    {
     "data": {
      "image/png": "[encoded data removed]",
      "text/plain": [
       "<Figure size 1080x360 with 1 Axes>"
      ]
     },
     "metadata": {
      "needs_background": "light"
     },
     "output_type": "display_data"
    },
    {
     "data": {
      "image/png": "[encoded data removed]",
      "text/plain": [
       "<Figure size 1080x360 with 1 Axes>"
      ]
     },
     "metadata": {
      "needs_background": "light"
     },
     "output_type": "display_data"
    },
    {
     "name": "stdout",
     "output_type": "stream",
     "text": [
      "alpha =  0.8333333333333334\n"
     ]
    },
    {
     "data": {
      "image/png": "[encoded data removed]",
      "text/plain": [
       "<Figure size 1080x360 with 1 Axes>"
      ]
     },
     "metadata": {
      "needs_background": "light"
     },
     "output_type": "display_data"
    },
    {
     "data": {
      "image/png": "[encoded data removed]",
      "text/plain": [
       "<Figure size 1080x360 with 1 Axes>"
      ]
     },
     "metadata": {
      "needs_background": "light"
     },
     "output_type": "display_data"
    },
    {
     "name": "stdout",
     "output_type": "stream",
     "text": [
      "alpha =  0.8333333333333334\n"
     ]
    },
    {
     "data": {
      "image/png": "[encoded data removed]",
      "text/plain": [
       "<Figure size 1080x360 with 1 Axes>"
      ]
     },
     "metadata": {
      "needs_background": "light"
     },
     "output_type": "display_data"
    },
    {
     "data": {
      "image/png": "[encoded data removed]",
      "text/plain": [
       "<Figure size 1080x360 with 1 Axes>"
      ]
     },
     "metadata": {
      "needs_background": "light"
     },
     "output_type": "display_data"
    },
    {
     "name": "stdout",
     "output_type": "stream",
     "text": [
      "alpha =  0.8333333333333334\n"
     ]
    },
    {
     "data": {
      "image/png": "[encoded data removed]",
      "text/plain": [
       "<Figure size 1080x360 with 1 Axes>"
      ]
     },
     "metadata": {
      "needs_background": "light"
     },
     "output_type": "display_data"
    },
    {
     "data": {
      "image/png": "[encoded data removed]",
      "text/plain": [
       "<Figure size 1080x360 with 1 Axes>"
      ]
     },
     "metadata": {
      "needs_background": "light"
     },
     "output_type": "display_data"
    },
    {
     "name": "stdout",
     "output_type": "stream",
     "text": [
      "alpha =  0.8333333333333334\n"
     ]
    },
    {
     "data": {
      "image/png": "[encoded data removed]",
      "text/plain": [
       "<Figure size 1080x360 with 1 Axes>"
      ]
     },
     "metadata": {
      "needs_background": "light"
     },
     "output_type": "display_data"
    },
    {
     "data": {
      "image/png": "[encoded data removed]",
      "text/plain": [
       "<Figure size 1080x360 with 1 Axes>"
      ]
     },
     "metadata": {
      "needs_background": "light"
     },
     "output_type": "display_data"
    },
    {
     "name": "stdout",
     "output_type": "stream",
     "text": [
      "alpha =  0.8333333333333334\n"
     ]
    },
    {
     "data": {
      "image/png": "[encoded data removed]",
      "text/plain": [
       "<Figure size 1080x360 with 1 Axes>"
      ]
     },
     "metadata": {
      "needs_background": "light"
     },
     "output_type": "display_data"
    },
    {
     "data": {
      "image/png": "[encoded data removed]",
      "text/plain": [
       "<Figure size 1080x360 with 1 Axes>"
      ]
     },
     "metadata": {
      "needs_background": "light"
     },
     "output_type": "display_data"
    },
    {
     "name": "stdout",
     "output_type": "stream",
     "text": [
      "alpha =  0.8333333333333334\n"
     ]
    },
    {
     "data": {
      "image/png": "[encoded data removed]",
      "text/plain": [
       "<Figure size 1080x360 with 1 Axes>"
      ]
     },
     "metadata": {
      "needs_background": "light"
     },
     "output_type": "display_data"
    },
    {
     "data": {
      "image/png": "[encoded data removed]",
      "text/plain": [
       "<Figure size 1080x360 with 1 Axes>"
      ]
     },
     "metadata": {
      "needs_background": "light"
     },
     "output_type": "display_data"
    },
    {
     "name": "stdout",
     "output_type": "stream",
     "text": [
      "alpha =  0.8333333333333334\n"
     ]
    },
    {
     "data": {
      "image/png": "[encoded data removed]",
      "text/plain": [
       "<Figure size 1080x360 with 1 Axes>"
      ]
     },
     "metadata": {
      "needs_background": "light"
     },
     "output_type": "display_data"
    },
    {
     "data": {
      "image/png": "[encoded data removed]",
      "text/plain": [
       "<Figure size 1080x360 with 1 Axes>"
      ]
     },
     "metadata": {
      "needs_background": "light"
     },
     "output_type": "display_data"
    },
    {
     "name": "stdout",
     "output_type": "stream",
     "text": [
      "alpha =  0.8333333333333334\n"
     ]
    },
    {
     "data": {
      "image/png": "[encoded data removed]",
      "text/plain": [
       "<Figure size 1080x360 with 1 Axes>"
      ]
     },
     "metadata": {
      "needs_background": "light"
     },
     "output_type": "display_data"
    },
    {
     "data": {
      "image/png": "[encoded data removed]",
      "text/plain": [
       "<Figure size 1080x360 with 1 Axes>"
      ]
     },
     "metadata": {
      "needs_background": "light"
     },
     "output_type": "display_data"
    },
    {
     "name": "stdout",
     "output_type": "stream",
     "text": [
      "alpha =  0.8333333333333334\n"
     ]
    },
    {
     "data": {
      "image/png": "[encoded data removed]",
      "text/plain": [
       "<Figure size 1080x360 with 1 Axes>"
      ]
     },
     "metadata": {
      "needs_background": "light"
     },
     "output_type": "display_data"
    },
    {
     "data": {
      "image/png": "[encoded data removed]",
      "text/plain": [
       "<Figure size 1080x360 with 1 Axes>"
      ]
     },
     "metadata": {
      "needs_background": "light"
     },
     "output_type": "display_data"
    },
    {
     "name": "stdout",
     "output_type": "stream",
     "text": [
      "alpha =  0.8333333333333334\n"
     ]
    },
    {
     "data": {
      "image/png": "[encoded data removed]",
      "text/plain": [
       "<Figure size 1080x360 with 1 Axes>"
      ]
     },
     "metadata": {
      "needs_background": "light"
     },
     "output_type": "display_data"
    },
    {
     "data": {
      "image/png": "[encoded data removed]",
      "text/plain": [
       "<Figure size 1080x360 with 1 Axes>"
      ]
     },
     "metadata": {
      "needs_background": "light"
     },
     "output_type": "display_data"
    },
    {
     "name": "stdout",
     "output_type": "stream",
     "text": [
      "alpha =  0.8333333333333334\n"
     ]
    },
    {
     "data": {
      "image/png": "[encoded data removed]",
      "text/plain": [
       "<Figure size 1080x360 with 1 Axes>"
      ]
     },
     "metadata": {
      "needs_background": "light"
     },
     "output_type": "display_data"
    },
    {
     "data": {
      "image/png": "[encoded data removed]",
      "text/plain": [
       "<Figure size 1080x360 with 1 Axes>"
      ]
     },
     "metadata": {
      "needs_background": "light"
     },
     "output_type": "display_data"
    },
    {
     "name": "stdout",
     "output_type": "stream",
     "text": [
      "alpha =  0.8333333333333334\n"
     ]
    },
    {
     "data": {
      "image/png": "[encoded data removed]",
      "text/plain": [
       "<Figure size 1080x360 with 1 Axes>"
      ]
     },
     "metadata": {
      "needs_background": "light"
     },
     "output_type": "display_data"
    },
    {
     "data": {
      "image/png": "[encoded data removed]",
      "text/plain": [
       "<Figure size 1080x360 with 1 Axes>"
      ]
     },
     "metadata": {
      "needs_background": "light"
     },
     "output_type": "display_data"
    },
    {
     "name": "stdout",
     "output_type": "stream",
     "text": [
      "alpha =  0.8333333333333334\n"
     ]
    },
    {
     "data": {
      "image/png": "[encoded data removed]",
      "text/plain": [
       "<Figure size 1080x360 with 1 Axes>"
      ]
     },
     "metadata": {
      "needs_background": "light"
     },
     "output_type": "display_data"
    },
    {
     "data": {
      "image/png": "[encoded data removed]",
      "text/plain": [
       "<Figure size 1080x360 with 1 Axes>"
      ]
     },
     "metadata": {
      "needs_background": "light"
     },
     "output_type": "display_data"
    },
    {
     "name": "stdout",
     "output_type": "stream",
     "text": [
      "alpha =  0.8333333333333334\n"
     ]
    },
    {
     "data": {
      "image/png": "[encoded data removed]",
      "text/plain": [
       "<Figure size 1080x360 with 1 Axes>"
      ]
     },
     "metadata": {
      "needs_background": "light"
     },
     "output_type": "display_data"
    },
    {
     "data": {
      "image/png": "[encoded data removed]",
      "text/plain": [
       "<Figure size 1080x360 with 1 Axes>"
      ]
     },
     "metadata": {
      "needs_background": "light"
     },
     "output_type": "display_data"
    },
    {
     "name": "stdout",
     "output_type": "stream",
     "text": [
      "alpha =  0.8333333333333334\n"
     ]
    },
    {
     "data": {
      "image/png": "[encoded data removed]",
      "text/plain": [
       "<Figure size 1080x360 with 1 Axes>"
      ]
     },
     "metadata": {
      "needs_background": "light"
     },
     "output_type": "display_data"
    },
    {
     "data": {
      "image/png": "[encoded data removed]",
      "text/plain": [
       "<Figure size 1080x360 with 1 Axes>"
      ]
     },
     "metadata": {
      "needs_background": "light"
     },
     "output_type": "display_data"
    },
    {
     "name": "stdout",
     "output_type": "stream",
     "text": [
      "alpha =  0.8333333333333334\n"
     ]
    },
    {
     "data": {
      "image/png": "[encoded data removed]",
      "text/plain": [
       "<Figure size 1080x360 with 1 Axes>"
      ]
     },
     "metadata": {
      "needs_background": "light"
     },
     "output_type": "display_data"
    },
    {
     "data": {
      "image/png": "[encoded data removed]",
      "text/plain": [
       "<Figure size 1080x360 with 1 Axes>"
      ]
     },
     "metadata": {
      "needs_background": "light"
     },
     "output_type": "display_data"
    },
    {
     "name": "stdout",
     "output_type": "stream",
     "text": [
      "alpha =  0.8333333333333334\n"
     ]
    },
    {
     "data": {
      "image/png": "[encoded data removed]",
      "text/plain": [
       "<Figure size 1080x360 with 1 Axes>"
      ]
     },
     "metadata": {
      "needs_background": "light"
     },
     "output_type": "display_data"
    },
    {
     "data": {
      "image/png": "[encoded data removed]",
      "text/plain": [
       "<Figure size 1080x360 with 1 Axes>"
      ]
     },
     "metadata": {
      "needs_background": "light"
     },
     "output_type": "display_data"
    }
   ],
   "source": [
    "batch_start_index = 0\n",
    "for batch in range(35):\n",
    "    batch_size = 2000\n",
    "    pixel_data = X[batch_start_index:batch_start_index+batch_size,:].transpose()\n",
    "    output = dq(pixel_data)\n",
    "\n",
    "    # dq = DomainQuantizationLayer(X.shape[-1], bin_count=20)\n",
    "    # output = dq(X.transpose())\n",
    "\n",
    "    output_sample = output[:, 10].numpy().reshape(28, 28)\n",
    "    fig, ax1 = plt.subplots(figsize=(15, 5))\n",
    "    ax1.imshow(output_sample)\n",
    "    plt.show()\n",
    "\n",
    "    input_sample = X[batch_start_index+10].reshape(28, 28)\n",
    "    fig, ax1 = plt.subplots(figsize=(15, 5))\n",
    "    ax1.imshow(input_sample)\n",
    "    plt.show()\n",
    "\n",
    "#     fig, ax1 = plt.subplots(figsize=(15, 5))\n",
    "#     ax1.imshow(output_sample - input_sample)\n",
    "#     plt.show()\n",
    "\n",
    "    batch_start_index += batch_size"
   ]
  },
  {
   "cell_type": "code",
   "execution_count": 6,
   "metadata": {},
   "outputs": [
    {
     "data": {
      "text/plain": [
       "[array([0.]),\n",
       " array([0.]),\n",
       " array([0.]),\n",
       " array([0.]),\n",
       " array([0.]),\n",
       " array([0.]),\n",
       " array([0.]),\n",
       " array([0.]),\n",
       " array([0.]),\n",
       " array([0.]),\n",
       " array([0.]),\n",
       " array([0.]),\n",
       " array([ 0.        , 12.58536585]),\n",
       " array([  0.        , 216.92682927]),\n",
       " array([  0., 216.]),\n",
       " array([0., 9.]),\n",
       " array([0.]),\n",
       " array([0.]),\n",
       " array([0.]),\n",
       " array([0.]),\n",
       " array([0.]),\n",
       " array([0.]),\n",
       " array([0.]),\n",
       " array([0.]),\n",
       " array([0.]),\n",
       " array([0.]),\n",
       " array([0.]),\n",
       " array([0.]),\n",
       " array([0.]),\n",
       " array([0.]),\n",
       " array([0.]),\n",
       " array([0.]),\n",
       " array([ 0., 16.]),\n",
       " array([0.        , 8.95121951]),\n",
       " array([  0.       , 153.2195122]),\n",
       " array([ 0.       , 14.5134464]),\n",
       " array([  0.        , 149.72356347]),\n",
       " array([  0.        , 102.90423427]),\n",
       " array([  0.        , 169.87710887]),\n",
       " array([  0.        , 162.45673418]),\n",
       " array([  0.       , 222.7757602]),\n",
       " array([  0.        , 136.45274512]),\n",
       " array([  0.        , 206.48474993]),\n",
       " array([  0.        , 137.27924511]),\n",
       " array([  0.        , 215.07267771]),\n",
       " array([  0.        , 140.15291942]),\n",
       " array([ 0.        , 62.99044419]),\n",
       " array([  0.        , 187.73833726]),\n",
       " array([  0.        , 213.25296446]),\n",
       " array([  0.        , 195.17546744]),\n",
       " array([  0.        , 139.55798703]),\n",
       " array([  0.        , 192.56097561]),\n",
       " array([0.]),\n",
       " array([0.]),\n",
       " array([0.]),\n",
       " array([0.]),\n",
       " array([0.]),\n",
       " array([0.]),\n",
       " array([ 0., 64.]),\n",
       " array([ 0.       , 28.6097561]),\n",
       " array([ 0.        , 17.36356942]),\n",
       " array([ 0.        , 41.84524422]),\n",
       " array([ 0.        , 92.34517188]),\n",
       " array([  0.        , 161.00100112]),\n",
       " array([  0.        , 129.17400023]),\n",
       " array([  0.        , 251.03858342]),\n",
       " array([  0.        , 167.93730546]),\n",
       " array([  0.        ,   6.88888889, 255.        ]),\n",
       " array([  0.       ,  27.7389988, 255.       ]),\n",
       " array([  0.        ,   7.22222222, 124.        , 255.        ]),\n",
       " array([  0.        ,  64.44444444, 218.11111111, 255.        ]),\n",
       " array([  0.        ,  11.5748169 , 147.99575086, 255.        ]),\n",
       " array([  0.        ,  57.18176102, 195.18288033, 255.        ]),\n",
       " array([  0.        ,  57.30701334, 199.05570122, 255.        ]),\n",
       " array([  0.        ,  12.17615176, 178.75609756, 255.        ]),\n",
       " array([  0.       ,  87.5332055, 255.       ]),\n",
       " array([  0.,   8., 255.]),\n",
       " array([  0.        , 161.04833681]),\n",
       " array([ 0.        , 74.96493365]),\n",
       " array([  0.        , 193.00000012]),\n",
       " array([  0.        , 108.67012067]),\n",
       " array([  0.       , 157.8974885]),\n",
       " array([0.]),\n",
       " array([0.]),\n",
       " array([0.]),\n",
       " array([0.]),\n",
       " array([ 0.        , 43.49815225]),\n",
       " array([ 0.        , 75.84740629]),\n",
       " array([ 0.        , 73.87637121]),\n",
       " array([  0.        , 170.20097512]),\n",
       " array([  0.        , 201.26446065]),\n",
       " array([  0.       , 180.4999285]),\n",
       " array([  0.        , 164.06841565]),\n",
       " array([  0.        , 180.28517278]),\n",
       " array([  0.        ,  19.13139887, 254.95355587]),\n",
       " array([  0.       ,  51.1930653, 255.       ]),\n",
       " array([  0.        ,  11.85805194, 154.55200582, 255.        ]),\n",
       " array([  0.        ,   2.        ,  68.        , 170.        ,\n",
       "        236.55555556, 255.        ]),\n",
       " array([  0.        ,  43.        , 160.33333333, 236.11111111,\n",
       "        253.        , 255.        ]),\n",
       " array([  0.        ,   2.        ,  87.        , 149.        ,\n",
       "        230.11111111, 253.        , 255.        ]),\n",
       " array([  0.        ,   9.09756098,  81.65853659, 170.01626016,\n",
       "        228.01084011, 253.        , 255.        ]),\n",
       " array([  0.        ,  18.        ,  86.66666667, 169.        ,\n",
       "        222.11111111, 253.        , 255.        ]),\n",
       " array([  0.        ,  21.07343512, 109.55225064, 209.47564281,\n",
       "        252.02379536, 255.        ]),\n",
       " array([  0.        ,   8.11362284, 125.88227907, 234.18110913,\n",
       "        255.        ]),\n",
       " array([  0.        ,  29.6802168 , 177.75338753, 255.        ]),\n",
       " array([  0.        ,  13.91697541, 254.11614571]),\n",
       " array([  0.        , 176.48866404]),\n",
       " array([  0.        , 140.90358685]),\n",
       " array([  0.       , 205.8022168]),\n",
       " array([ 0.        , 79.05074482]),\n",
       " array([ 0.        , 48.80487805]),\n",
       " array([0.]),\n",
       " array([0.]),\n",
       " array([ 0., 38.]),\n",
       " array([  0.        , 132.72557821]),\n",
       " array([ 0.        , 63.66902977]),\n",
       " array([ 0.        , 86.73934069]),\n",
       " array([  0.        , 136.00855573]),\n",
       " array([  0.        , 162.76674761]),\n",
       " array([  0.        ,  14.60215054, 255.        ]),\n",
       " array([  0.        ,  62.33088485, 254.95630252]),\n",
       " array([  0.        ,  29.35135135, 174.86186186, 255.        ]),\n",
       " array([  0.        ,  13.42342342, 116.82282282, 237.1951952 ,\n",
       "        255.        ]),\n",
       " array([  0.        ,   7.10619711,  86.76876877, 182.29110929,\n",
       "        252.94430794, 255.        ]),\n",
       " array([  0.        ,  26.80630631,  98.40015015, 178.46086712,\n",
       "        251.01144895, 253.        , 255.        ]),\n",
       " array([  0.        ,  20.47747748, 103.84984985, 177.99099099,\n",
       "        250.35735736, 253.08108108, 255.        ]),\n",
       " array([  0.        ,   7.32407407, 105.        , 178.75617284,\n",
       "        238.7037037 , 253.        , 254.        , 255.        ]),\n",
       " array([  0.        ,  13.        ,  80.77777778, 155.22222222,\n",
       "        209.66666667, 252.        , 253.        , 255.        ]),\n",
       " array([  0.        ,  16.64227642,  75.06233062, 166.48780488,\n",
       "        230.5203252 , 252.        , 253.        , 255.        ]),\n",
       " array([  0.        ,   5.80581815,  58.95092775, 144.85999304,\n",
       "        226.120998  , 253.        , 255.        ]),\n",
       " array([  0.        ,  36.67876528, 142.72794373, 234.25074268,\n",
       "        253.        , 255.        ]),\n",
       " array([  0.        ,  11.75761432, 144.79053359, 251.59735527,\n",
       "        255.        ]),\n",
       " array([  0.        ,  21.50435845, 221.86000235, 255.        ]),\n",
       " array([  0.        ,  28.08579317, 254.84272729]),\n",
       " array([  0.        ,  96.20565091, 255.        ]),\n",
       " array([  0.        ,  14.77777778, 255.        ]),\n",
       " array([  0.        , 172.08861357]),\n",
       " array([  0.        , 141.71756577]),\n",
       " array([  0.        , 152.28345628]),\n",
       " array([ 0., 63.]),\n",
       " array([0.]),\n",
       " array([0.]),\n",
       " array([ 0.        , 71.92073426]),\n",
       " array([ 0.       , 77.2685939]),\n",
       " array([  0.        , 123.85704744]),\n",
       " array([  0.        , 168.20468389]),\n",
       " array([  0.        ,   7.19200119, 254.91034602]),\n",
       " array([  0.        ,  17.12685653, 148.40922333, 254.97735123]),\n",
       " array([  0.        ,  18.34409757, 129.55740412, 248.91930298,\n",
       "        255.        ]),\n",
       " array([  0.        ,   9.45153536,  82.16553745, 191.68321481,\n",
       "        252.6158381 , 255.        ]),\n",
       " array([  0.        ,   9.24133476,  81.93893736, 174.8638608 ,\n",
       "        240.56293499, 253.        , 255.        ]),\n",
       " array([  0.        ,   5.9613742 ,  74.33584753, 141.2517532 ,\n",
       "        204.13762876, 252.04535278, 253.08084352, 255.        ]),\n",
       " array([  0.        ,  21.45257453, 111.7398374 , 164.76151762,\n",
       "        229.14905149, 252.        , 253.        , 254.        ,\n",
       "        255.        ]),\n",
       " array([  0.        ,   3.72866726, 114.87967871, 195.80887055,\n",
       "        246.7736764 , 252.        , 253.        , 253.63025365,\n",
       "        255.        ]),\n",
       " array([  0.        ,  21.94741364, 125.29093517, 197.53066388,\n",
       "        245.8241679 , 252.01547666, 253.        , 253.98879785,\n",
       "        255.        ]),\n",
       " array([  0.        ,  11.7118446 ,  89.84539246, 158.84098311,\n",
       "        220.15108757, 251.55284553, 253.        , 253.97495853,\n",
       "        255.        ]),\n",
       " array([  0.        ,   4.38818173,  70.65278804, 156.72434371,\n",
       "        229.33823328, 252.        , 253.        , 254.        ,\n",
       "        255.        ]),\n",
       " array([  0.        ,  10.48777637,  96.42271546, 162.14065524,\n",
       "        227.16919618, 251.46878347, 253.15095322, 255.        ]),\n",
       " array([  0.        ,   7.72486772,  79.77328844, 156.91502325,\n",
       "        227.27609428, 252.        , 253.        , 255.        ]),\n",
       " array([  0.        ,   6.96879287,  67.17832647, 156.70884774,\n",
       "        243.48079561, 253.        , 255.        ]),\n",
       " array([  0.        ,   1.44774936,  51.16260163, 149.85623637,\n",
       "        252.00059488, 255.        ]),\n",
       " array([  0.        ,  48.20666825, 147.82663471, 250.97213527,\n",
       "        255.        ]),\n",
       " array([  0.        ,   5.86416815, 113.61028488, 245.36492828,\n",
       "        255.        ]),\n",
       " array([  0.        ,  35.18184978, 162.51467236, 255.        ]),\n",
       " array([  0.        ,  56.37738861, 254.90929444]),\n",
       " array([  0.        , 151.40400178]),\n",
       " array([ 0.        , 91.20057491]),\n",
       " array([ 0.        , 22.49864974]),\n",
       " array([0.]),\n",
       " array([0.        , 4.07317073]),\n",
       " array([ 0.        , 41.86569016]),\n",
       " array([  0.        , 103.44875515]),\n",
       " array([  0.        , 172.01781191]),\n",
       " array([  0.        ,  28.73089647, 254.02494265]),\n",
       " array([  0.        ,   3.64889541, 153.5258101 , 254.95239477]),\n",
       " array([  0.        ,   6.49883398, 115.1275688 , 249.48350349,\n",
       "        255.        ]),\n",
       " array([  0.        ,   9.71112751,  82.05603533, 192.67451756,\n",
       "        252.17733709, 255.        ]),\n",
       " array([  0.        ,   2.99048186,  67.70163263, 156.12882543,\n",
       "        233.50267698, 252.        , 253.        , 255.        ]),\n",
       " array([  0.        ,  10.91348549,  91.10051444, 162.66557363,\n",
       "        227.63028685, 252.        , 253.        , 255.        ]),\n",
       " array([  0.        ,  35.64769648, 129.95121951, 188.73712737,\n",
       "        237.38753388, 252.        , 253.        , 254.        ,\n",
       "        255.        ]),\n",
       " array([  0.        ,  58.27143489, 150.73320215, 211.7346597 ,\n",
       "        249.38262057, 251.81492498, 252.97620464, 253.97620464,\n",
       "        255.        ]),\n",
       " array([  0.        ,  13.56812663,  93.78411019, 188.57563183,\n",
       "        239.70366953, 251.90456644, 253.        , 254.        ,\n",
       "        255.        ]),\n",
       " array([  0.        ,  26.77364427, 121.29665987, 199.3741079 ,\n",
       "        245.50676429, 252.        , 253.        , 253.98001134,\n",
       "        255.        ]),\n",
       " array([  0.        ,  13.10786431, 113.62009292, 192.46706889,\n",
       "        240.34107177, 251.67840049, 253.        , 253.9628032 ,\n",
       "        255.        ]),\n",
       " array([  0.        ,  23.03277391, 129.64661854, 210.78890248,\n",
       "        247.29041282, 252.        , 252.99263455, 253.96585003,\n",
       "        255.        ]),\n",
       " array([  0.        ,   7.66858008, 102.7116751 , 198.56439057,\n",
       "        248.44846793, 251.95528966, 252.96646724, 253.96646724,\n",
       "        255.        ]),\n",
       " array([  0.        ,  35.98634549, 126.61375837, 202.86032134,\n",
       "        245.40490952, 252.04531134, 253.03549074, 255.        ]),\n",
       " array([  0.        ,   8.44880854,  76.98040268, 174.76878842,\n",
       "        231.7821854 , 252.02321499, 253.02321499, 255.        ]),\n",
       " array([  0.        ,  17.38622981,  97.35372519, 192.6607956 ,\n",
       "        248.68918012, 253.02379536, 255.        ]),\n",
       " array([  0.        ,  56.059785  , 152.23607521, 230.96191289,\n",
       "        253.        , 255.        ]),\n",
       " array([  0.        ,   4.13082611,  90.05663005, 201.71028343,\n",
       "        253.        , 255.        ]),\n",
       " array([  0.        ,  22.09892551, 125.55570139, 245.99537602,\n",
       "        255.        ]),\n",
       " array([  0.        ,  33.00861703, 170.26248321, 255.        ]),\n",
       " array([  0.        ,  23.16959865, 254.929746  ]),\n",
       " array([ 0.        , 94.98580826]),\n",
       " array([ 0.        , 85.90350825]),\n",
       " array([ 0., 47.]),\n",
       " array([  0.        , 114.76905758]),\n",
       " array([  0.        , 108.04862593]),\n",
       " array([  0.       , 166.2897024]),\n",
       " array([  0.        , 183.30756371]),\n",
       " array([  0.        ,  20.53580373, 254.95977476]),\n",
       " array([  0.        ,  22.71563281, 192.87319292, 255.        ]),\n",
       " array([  0.        ,  19.50376065, 139.70324665, 250.69356057,\n",
       "        255.        ]),\n",
       " array([  0.        ,  18.65258888, 117.35982896, 226.91537317,\n",
       "        252.72086721, 255.        ]),\n",
       " array([  0.        ,   0.33333333,  52.88888889, 142.        ,\n",
       "        214.66666667, 252.        , 253.        , 255.        ]),\n",
       " array([  0.        ,   3.87789016,  82.94910737, 160.91476578,\n",
       "        218.97131342, 252.        , 253.        , 255.        ]),\n",
       " array([  0.        ,  16.74606447,  80.93142649, 166.15620794,\n",
       "        231.30065047, 251.79867763, 253.        , 255.        ]),\n",
       " array([  0.        ,  11.21680217,  69.14634146, 157.7100271 ,\n",
       "        216.51761518, 250.04878049, 252.02439024, 253.02439024,\n",
       "        255.        ]),\n",
       " array([  0.        ,  75.41715901, 171.87930626, 222.49982685,\n",
       "        248.58445141, 251.65364532, 252.97620464, 253.96613852,\n",
       "        255.        ]),\n",
       " array([  0.        ,   9.80535051, 100.82814745, 188.39370818,\n",
       "        240.75605334, 251.95470247, 253.        , 253.99041892,\n",
       "        255.        ]),\n",
       " array([  0.        ,  12.9701871 , 104.39110747, 187.91141915,\n",
       "        240.5427279 , 252.        , 253.        , 254.        ,\n",
       "        255.        ]),\n",
       " array([  0.        ,  21.35171831, 117.28434394, 201.35410727,\n",
       "        247.00097774, 252.        , 253.        , 253.72805751,\n",
       "        255.        ]),\n",
       " array([  0.        ,  14.001443  , 125.22222222, 206.33766234,\n",
       "        248.94805195, 252.        , 253.        , 253.95959596,\n",
       "        255.        ]),\n",
       " array([  0.        ,  11.44304837, 112.38241494, 192.99753634,\n",
       "        234.98102981, 251.1065944 , 252.18723824, 253.18723824,\n",
       "        255.        ]),\n",
       " array([  0.        ,   7.88888889,  68.33333333, 142.77777778,\n",
       "        197.66666667, 242.66666667, 252.        , 253.        ,\n",
       "        255.        ]),\n",
       " array([  0.        ,  18.55555556,  89.35185185, 171.22222222,\n",
       "        229.33333333, 252.01851852, 253.        , 255.        ]),\n",
       " array([  0.        ,  11.55783369,  78.99497102, 175.8580646 ,\n",
       "        242.94130003, 252.91323481, 255.        ]),\n",
       " array([  0.        ,  30.50356356, 125.22071964, 207.52960682,\n",
       "        252.95464722, 255.        ]),\n",
       " array([  0.        ,   3.4164188 , 103.54233591, 204.66012294,\n",
       "        252.97560976, 255.        ]),\n",
       " array([  0.        ,  35.48780488, 132.66058563, 228.09326459,\n",
       "        255.        ]),\n",
       " array([  0.        ,  90.21929661, 254.91637362]),\n",
       " array([  0.        , 102.65412258]),\n",
       " array([  0.        , 141.90483374]),\n",
       " array([ 0.        , 56.36585366]),\n",
       " array([ 0.        , 86.15900283]),\n",
       " array([  0.        , 117.18668773]),\n",
       " array([  0.        , 168.27066941]),\n",
       " array([  0.        ,  33.17492529, 254.93369746]),\n",
       " array([  0.        ,   9.67602595, 154.92966297, 255.        ]),\n",
       " array([  0.        ,  18.92824936, 111.99461175, 244.63166537,\n",
       "        255.        ]),\n",
       " array([  0.        ,  30.8652611 , 108.97350398, 196.8600542 ,\n",
       "        252.14248344, 255.        ]),\n",
       " array([  0.        ,   9.33333333,  76.33333333, 153.44444444,\n",
       "        228.        , 252.        , 253.        , 255.        ]),\n",
       " array([  0.        ,  11.95904177,  78.00986529, 162.16489993,\n",
       "        226.02231451, 252.02690677, 253.03636659, 255.        ]),\n",
       " array([  0.        ,  37.42428449, 126.20999405, 195.9961002 ,\n",
       "        242.74776919, 252.        , 253.        , 254.        ,\n",
       "        255.        ]),\n",
       " array([  0.        ,  39.22290554, 124.04544213, 193.53011449,\n",
       "        240.07581582, 251.78861789, 252.97560976, 253.97560976,\n",
       "        255.        ]),\n",
       " array([  0.        ,  16.        ,  90.77777778, 153.33333333,\n",
       "        206.        , 248.        , 252.        , 253.        ,\n",
       "        254.        , 255.        ]),\n",
       " array([  0.        ,  25.76015432, 117.36551645, 178.78215536,\n",
       "        226.31718121, 251.81051129, 253.        , 253.98915989,\n",
       "        255.        ]),\n",
       " array([  0.        ,  21.27318341,  84.08763627, 182.74208346,\n",
       "        234.33358001, 251.78921632, 253.        , 254.        ,\n",
       "        255.        ]),\n",
       " array([  0.        ,  12.53024297,  89.61500978, 181.92086998,\n",
       "        233.57912261, 252.31949586, 253.        , 254.        ,\n",
       "        255.        ]),\n",
       " array([  0.        ,   5.10303041, 107.73684661, 177.81323933,\n",
       "        239.77969204, 252.        , 253.        , 254.        ,\n",
       "        255.        ]),\n",
       " array([  0.        ,  31.8345957 , 112.15258706, 193.85559521,\n",
       "        246.26610175, 251.64680443, 252.93776974, 253.93531459,\n",
       "        255.        ]),\n",
       " array([  0.        ,  34.2577476 , 134.84288291, 217.17603407,\n",
       "        251.27042717, 252.61906627, 253.        , 254.        ,\n",
       "        255.        ]),\n",
       " array([  0.        ,   2.86178862,  77.86178862, 151.38211382,\n",
       "        221.14634146, 248.6097561 , 252.        , 253.        ,\n",
       "        255.        ]),\n",
       " array([  0.        ,  18.62738029,  98.96350176, 184.80836323,\n",
       "        235.23937171, 252.        , 253.        , 255.        ]),\n",
       " array([  0.        ,   8.03030303,  73.46969697, 161.7979798 ,\n",
       "        231.89393939, 251.7979798 , 253.        , 255.        ]),\n",
       " array([  0.        ,  21.18231091, 110.66444937, 215.43261887,\n",
       "        252.37521557, 255.        ]),\n",
       " array([  0.        ,  67.71953729, 189.51566062, 252.03819965,\n",
       "        255.        ]),\n",
       " array([  0.        ,  17.66666667, 128.        , 230.55555556,\n",
       "        255.        ]),\n",
       " array([  0.        ,  77.95135264, 254.93470893]),\n",
       " array([  0.        , 212.03986672]),\n",
       " array([  0.        , 124.51998232]),\n",
       " array([ 0.        , 35.82629387]),\n",
       " array([  0.        , 103.10174777]),\n",
       " array([  0.        , 109.27086229]),\n",
       " array([  0.        ,  23.22222222, 255.        ]),\n",
       " array([  0.        ,   2.11111111, 194.33333333, 255.        ]),\n",
       " array([  0.        ,   0.66666667, 118.11111111, 252.        ,\n",
       "        255.        ]),\n",
       " array([  0.        ,   1.65371142, 112.80725758, 217.17344173,\n",
       "        252.97620464, 255.        ]),\n",
       " array([  0.        ,  26.79772708, 116.88992046, 208.1138313 ,\n",
       "        251.61922451, 253.        , 255.        ]),\n",
       " array([  0.        ,   8.30099679,  92.71237923, 183.16262903,\n",
       "        240.54004343, 252.00271003, 253.        , 255.        ]),\n",
       " array([  0.        ,  35.52574526, 148.08130081, 218.48238482,\n",
       "        250.80487805, 252.6504065 , 253.        , 254.        ,\n",
       "        255.        ]),\n",
       " array([  0.        ,  36.18666138, 126.36585366, 192.8178994 ,\n",
       "        237.02207681, 252.        , 253.        , 254.        ,\n",
       "        255.        ]),\n",
       " array([  0.        ,  48.48092226, 132.00482266, 206.90853479,\n",
       "        247.57277231, 252.        , 252.99206821, 253.97620464,\n",
       "        255.        ]),\n",
       " array([  0.        ,   4.49870834, 106.02007085, 183.94337133,\n",
       "        234.32382664, 252.        , 253.        , 254.        ,\n",
       "        255.        ]),\n",
       " array([  0.        ,  19.94660876, 127.54512171, 209.72537317,\n",
       "        244.48813537, 251.98102981, 253.        , 254.        ,\n",
       "        255.        ]),\n",
       " array([  0.        ,   8.79932895,  88.86488579, 161.67144148,\n",
       "        228.85998193, 252.        , 253.        , 254.        ,\n",
       "        255.        ]),\n",
       " array([  0.        ,  17.91720353, 106.86898692, 171.98917101,\n",
       "        219.86733122, 250.38294689, 252.97948134, 253.97013394,\n",
       "        255.        ]),\n",
       " array([  0.        ,  32.42547425, 116.95392954, 187.73170732,\n",
       "        226.48238482, 251.78590786, 252.6504065 , 253.        ,\n",
       "        254.        , 255.        ]),\n",
       " array([  0.        ,  11.5733876 ,  92.82854629, 162.67762137,\n",
       "        220.93300495, 252.        , 253.        , 254.        ,\n",
       "        255.        ]),\n",
       " array([  0.        ,   3.8040571 , 102.04919363, 181.10675921,\n",
       "        231.13460553, 252.00479054, 253.        , 254.        ,\n",
       "        255.        ]),\n",
       " array([  0.        ,  18.03670855,  97.15668884, 174.57181572,\n",
       "        234.16383346, 252.        , 253.        , 254.        ,\n",
       "        255.        ]),\n",
       " array([  0.        ,  38.46834196, 122.50036955, 200.80192166,\n",
       "        244.82532644, 252.79822616, 253.75880759, 255.        ]),\n",
       " array([  0.        ,  12.77777778,  92.        , 179.        ,\n",
       "        243.        , 252.66666667, 253.        , 255.        ]),\n",
       " array([  0.        ,  17.21212121, 102.62626263, 194.07878788,\n",
       "        248.25454545, 253.        , 255.        ]),\n",
       " array([  0.        ,  15.92255892, 103.30078563, 228.96632997,\n",
       "        255.        ]),\n",
       " array([  0.        ,   8.84281843, 143.94308943, 255.        ]),\n",
       " array([  0.        ,  32.18766736, 254.95239477]),\n",
       " array([ 0.        , 88.92833219]),\n",
       " array([ 0.        , 86.07021946]),\n",
       " array([ 0.        , 10.57346817]),\n",
       " array([  0.        , 152.77026068]),\n",
       " array([  0.        , 159.71750459]),\n",
       " array([  0.        ,  26.66666667, 255.        ]),\n",
       " array([  0.        , 114.50764181, 254.95405233]),\n",
       " array([  0.        ,  80.13623637, 236.97991649, 255.        ]),\n",
       " array([  0.        ,  16.8102981 ,  96.05691057, 203.93224932,\n",
       "        252.97560976, 255.        ]),\n",
       " array([  0.        ,  10.98843281, 102.98849891, 197.49652984,\n",
       "        252.        , 253.        , 255.        ]),\n",
       " array([  0.        ,   5.33333333,  68.33333333, 157.        ,\n",
       "        239.66666667, 252.        , 253.        , 255.        ]),\n",
       " array([  0.        ,   6.47871989,  81.0335193 , 170.81597596,\n",
       "        232.1041414 , 252.03373764, 253.08907565, 255.        ]),\n",
       " array([  0.        ,  38.96276352, 117.57617992, 184.99549502,\n",
       "        240.84274804, 252.        , 253.        , 254.        ,\n",
       "        255.        ]),\n",
       " array([  0.        ,   5.50184833,  53.9615792 , 150.00713861,\n",
       "        219.99270985, 241.65849789, 252.07140059, 254.        ,\n",
       "        255.        ]),\n",
       " array([  0.        ,  47.16238592, 120.71046458, 194.1186786 ,\n",
       "        241.27509271, 252.69819951, 253.72668796, 255.        ]),\n",
       " array([  0.        ,  15.96672222,  81.05502963, 147.46391448,\n",
       "        216.20970425, 251.95519773, 253.80072836, 255.        ]),\n",
       " array([  0.        ,  31.9554553 ,  95.99585631, 170.49690894,\n",
       "        227.33988304, 251.70967419, 253.        , 254.        ,\n",
       "        255.        ]),\n",
       " array([  0.        ,  55.48358081, 138.28948106, 194.89986364,\n",
       "        239.61842172, 252.        , 253.        , 254.        ,\n",
       "        255.        ]),\n",
       " array([  0.        ,  43.32481308, 122.20816746, 199.17699981,\n",
       "        245.4249232 , 251.75308274, 253.        , 253.98942428,\n",
       "        255.        ]),\n",
       " array([  0.        ,  61.6000795 , 155.37075277, 209.62377634,\n",
       "        247.98542361, 252.39018826, 252.97948134, 253.96990026,\n",
       "        255.        ]),\n",
       " array([  0.        ,  14.28971436,  82.10265867, 149.17570725,\n",
       "        213.40281543, 249.84618054, 252.97560976, 253.96754953,\n",
       "        255.        ]),\n",
       " array([  0.        ,  14.25474255, 111.49593496, 189.97831978,\n",
       "        248.00271003, 252.6504065 , 253.        , 254.        ,\n",
       "        255.        ]),\n",
       " array([  0.        ,  19.08080808, 104.90909091, 171.12121212,\n",
       "        228.81818182, 252.        , 253.        , 253.63636364,\n",
       "        255.        ]),\n",
       " array([  0.        ,  17.47407407, 102.33333333, 183.2962963 ,\n",
       "        237.8       , 251.9       , 253.        , 255.        ]),\n",
       " array([  0.        ,  17.125     , 100.625     , 193.22222222,\n",
       "        247.95833333, 252.        , 253.        , 255.        ]),\n",
       " array([  0.        ,  13.63055556,  84.24166667, 174.39166667,\n",
       "        252.        , 255.        ]),\n",
       " array([  0.        ,  33.45289805, 254.57110476]),\n",
       " array([  0.        , 155.47082879]),\n",
       " array([ 0.        , 88.78067585]),\n",
       " array([ 0.        , 43.71235151]),\n",
       " array([  0.        , 124.21269279]),\n",
       " array([ 0.        , 75.81249748]),\n",
       " array([ 0.        , 88.51986037]),\n",
       " array([  0.        , 194.50104681]),\n",
       " array([  0.        ,  72.32760739, 254.97998179]),\n",
       " array([  0.        ,   7.33578304, 206.89033479, 255.        ]),\n",
       " array([  0.        ,   4.46057845,  97.96355671, 226.11351389,\n",
       "        255.        ]),\n",
       " array([  0.        ,  24.66130365, 114.45886247, 220.33857128,\n",
       "        252.34237284, 255.        ]),\n",
       " array([  0.        ,  12.71815718,  93.88279133, 176.93981481,\n",
       "        238.19884824, 252.        , 253.        , 255.        ]),\n",
       " array([  0.        ,   5.2195122 ,  67.        , 129.33875339,\n",
       "        207.97560976, 251.73170732, 253.        , 254.        ,\n",
       "        255.        ]),\n",
       " array([  0.        ,  11.1221425 ,  81.30740347, 151.08085097,\n",
       "        208.1007443 , 246.24886095, 253.        , 254.        ,\n",
       "        255.        ]),\n",
       " array([  0.        ,  27.84497267, 105.59851945, 182.23445432,\n",
       "        234.72526908, 251.92907716, 253.        , 254.        ,\n",
       "        255.        ]),\n",
       " array([  0.        ,   8.06496061,  70.95623469, 135.99222818,\n",
       "        194.96369015, 241.01208224, 252.95525488, 253.97790364,\n",
       "        255.        ]),\n",
       " array([  0.        ,   6.82488439,  55.63770672, 113.23230852,\n",
       "        177.5551708 , 228.88014468, 252.46895554, 255.        ]),\n",
       " array([  0.        ,  26.77777778,  94.66666667, 152.33333333,\n",
       "        208.        , 245.        , 252.        , 253.        ,\n",
       "        254.        , 255.        ]),\n",
       " array([  0.        ,   8.        ,  73.77777778, 164.66666667,\n",
       "        220.77777778, 250.        , 252.        , 253.        ,\n",
       "        254.        , 255.        ]),\n",
       " array([  0.        ,  14.13799083,  83.40227135, 159.90139066,\n",
       "        226.08969676, 250.76325783, 252.04940588, 253.04940588,\n",
       "        255.        ]),\n",
       " array([  0.        ,  16.47755554,  96.90136115, 164.27968121,\n",
       "        218.06742331, 247.44797686, 252.30307169, 253.30307169,\n",
       "        255.        ]),\n",
       " array([  0.        ,  28.09387239,  95.73107327, 162.43804009,\n",
       "        219.84579566, 251.45532129, 252.9518144 , 253.9518144 ,\n",
       "        255.        ]),\n",
       " array([  0.        ,   4.04878049,  73.26472338, 170.83475445,\n",
       "        240.18619869, 252.        , 253.        , 254.        ,\n",
       "        255.        ]),\n",
       " array([  0.        ,  18.45502646,  98.11111111, 170.62962963,\n",
       "        228.96825397, 251.80952381, 253.        , 255.        ]),\n",
       " array([  0.        ,  29.25252525, 114.75757576, 187.68686869,\n",
       "        235.97979798, 251.72727273, 253.        , 255.        ]),\n",
       " array([  0.        ,  21.64761905, 109.12063492, 185.65873016,\n",
       "        243.61428571, 252.        , 253.        , 255.        ]),\n",
       " array([  0.        ,  23.86026936, 106.07070707, 204.42929293,\n",
       "        252.27104377, 255.        ]),\n",
       " array([  0.        ,  80.61111111, 254.58333333]),\n",
       " array([  0.       , 148.7176596]),\n",
       " array([  0.        , 168.10697394]),\n",
       " array([ 0.        , 17.71803256]),\n",
       " array([ 0.       , 67.3902439]),\n",
       " array([ 0.       , 52.9122825]),\n",
       " array([  0.        , 115.70772809]),\n",
       " array([  0.        , 205.84203921]),\n",
       " array([  0.        ,   2.71815718, 254.02439024]),\n",
       " array([  0.        ,   8.11111111, 110.11111111, 255.        ]),\n",
       " array([  0.        ,   0.66666667,  70.66666667, 209.        ,\n",
       "        252.        , 255.        ]),\n",
       " array([  0.        ,  26.23135579, 114.55905275, 205.20409929,\n",
       "        250.63388796, 252.97620464, 255.        ]),\n",
       " array([  0.        ,  14.        ,  76.        , 142.88888889,\n",
       "        201.44444444, 243.        , 252.        , 253.        ,\n",
       "        255.        ]),\n",
       " array([  0.        ,  38.82237805, 125.5633734 , 197.82821662,\n",
       "        237.86808762, 251.86641868, 253.        , 253.66126899,\n",
       "        255.        ]),\n",
       " array([  0.        ,   8.79089139,  87.0535538 , 163.99685196,\n",
       "        225.90811328, 251.37194428, 252.98176119, 254.        ,\n",
       "        255.        ]),\n",
       " array([  0.        ,  30.44705022, 122.18419314, 196.12546048,\n",
       "        241.01512327, 251.79612627, 253.        , 254.        ,\n",
       "        255.        ]),\n",
       " array([  0.        ,  11.0445456 ,  71.8689746 , 156.03338493,\n",
       "        220.85972989, 251.2924982 , 252.95298965, 253.95298965,\n",
       "        255.        ]),\n",
       " array([  0.        ,  12.94442944,  54.39171677, 109.37666614,\n",
       "        156.95263248, 205.36331453, 245.05655444, 253.09404936,\n",
       "        255.        ]),\n",
       " array([  0.        ,  36.18818164, 124.32738449, 206.09141384,\n",
       "        242.11606848, 252.        , 253.        , 254.        ,\n",
       "        255.        ]),\n",
       " array([  0.        , 103.53642963, 187.84689052, 235.7340261 ,\n",
       "        251.3051893 , 252.81918202, 253.09102022, 254.        ,\n",
       "        255.        ]),\n",
       " array([  0.        ,   7.13549554,  75.24958862, 144.72087776,\n",
       "        192.12476113, 241.34994362, 252.11902107, 253.10843874,\n",
       "        255.        ]),\n",
       " array([  0.        ,   7.4200542 ,  80.98644986, 151.41463415,\n",
       "        201.30623306, 241.14634146, 252.        , 253.        ,\n",
       "        254.        , 255.        ]),\n",
       " array([  0.        ,  38.67080563, 114.10129901, 180.53375562,\n",
       "        234.68004349, 252.        , 253.        , 254.        ,\n",
       "        255.        ]),\n",
       " array([  0.        ,   8.79088618,  80.98707538, 155.2586101 ,\n",
       "        223.17472662, 252.0481856 , 253.03760989, 255.        ]),\n",
       " array([  0.        ,  13.36507937,  89.61904762, 166.20634921,\n",
       "        217.96825397, 251.57142857, 253.14285714, 255.        ]),\n",
       " array([  0.        ,  26.83838384, 110.63636364, 183.52525253,\n",
       "        235.7979798 , 251.81818182, 253.09090909, 255.        ]),\n",
       " array([  0.        ,  30.48677249, 124.85008818, 199.83597884,\n",
       "        247.5026455 , 252.        , 253.        , 255.        ]),\n",
       " array([  0.        ,   3.11111111,  89.66666667, 168.66666667,\n",
       "        249.22222222, 253.        , 255.        ]),\n",
       " array([  0.        ,   3.72222222, 128.625     , 254.875     ]),\n",
       " array([  0.       , 160.8338482]),\n",
       " array([  0.        , 134.03201807]),\n",
       " array([  0.        , 105.95504541]),\n",
       " array([ 0., 32.]),\n",
       " array([ 0.        , 67.99014486]),\n",
       " array([  0.        , 100.49554273]),\n",
       " array([  0.        , 159.78820639]),\n",
       " array([  0.        , 225.63246856]),\n",
       " array([  0.        ,  32.25      , 158.73106061, 255.        ]),\n",
       " array([  0.        ,  26.44823232, 126.68371212, 225.87247475,\n",
       "        252.7209596 , 255.        ]),\n",
       " array([  0.        ,  20.35328899, 106.40133038, 191.77925597,\n",
       "        243.31189948, 252.        , 253.        , 255.        ]),\n",
       " array([  0.        ,  37.76983629, 140.54131851, 197.03363838,\n",
       "        246.44525643, 252.01586357, 253.        , 254.        ,\n",
       "        255.        ]),\n",
       " array([  0.        ,  31.87519462, 129.49961182, 192.81538384,\n",
       "        238.22279422, 252.01586357, 253.        , 254.        ,\n",
       "        255.        ]),\n",
       " array([  0.        ,  11.99247721,  83.05544697, 167.47156871,\n",
       "        215.44759068, 250.71394176, 253.        , 254.        ,\n",
       "        255.        ]),\n",
       " array([  0.        ,  12.74495357,  82.34617267, 173.82055332,\n",
       "        231.60261901, 252.        , 253.        , 253.61675695,\n",
       "        255.        ]),\n",
       " array([  0.        ,  12.04097006,  91.29444876, 187.05746807,\n",
       "        233.19829152, 252.        , 253.        , 254.        ,\n",
       "        255.        ]),\n",
       " array([  0.        ,  20.16      ,  72.00444444, 125.46666667,\n",
       "        167.63111111, 205.76      , 241.65333333, 251.92444444,\n",
       "        253.04      , 255.        ]),\n",
       " array([  0.        ,  18.32407136, 127.76128327, 206.7577545 ,\n",
       "        247.41031927, 252.87311766, 254.        , 255.        ]),\n",
       " array([  0.        ,  78.57684357, 150.75758631, 208.27937707,\n",
       "        245.16401743, 252.        , 253.        , 254.        ,\n",
       "        255.        ]),\n",
       " array([  0.        ,   8.03252033,  93.4498645 , 177.59349593,\n",
       "        224.72628726, 245.14363144, 252.        , 253.        ,\n",
       "        254.        , 255.        ]),\n",
       " array([  0.        ,  45.29645053, 150.00667592, 213.18481063,\n",
       "        245.3940115 , 251.95663957, 252.97560976, 253.10840108,\n",
       "        254.        , 255.        ]),\n",
       " array([  0.        ,   1.88888889,  62.77777778, 146.33333333,\n",
       "        211.33333333, 244.22222222, 252.        , 253.        ,\n",
       "        254.        , 255.        ]),\n",
       " array([  0.        ,  13.38322546,  76.96095574, 165.17059451,\n",
       "        225.97572611, 252.02103163, 253.02103163, 255.        ]),\n",
       " array([  0.        ,  41.78145   , 122.23510346, 197.24952627,\n",
       "        249.32983234, 253.        , 255.        ]),\n",
       " array([  0.        ,  29.46031746, 122.42857143, 193.14285714,\n",
       "        250.14285714, 252.66666667, 253.        , 254.        ,\n",
       "        255.        ]),\n",
       " array([  0.        ,  19.25925926,  93.55555556, 170.7654321 ,\n",
       "        238.74074074, 252.        , 253.        , 255.        ]),\n",
       " array([  0.        ,   3.11111111,  87.66666667, 187.        ,\n",
       "        252.        , 253.        , 255.        ]),\n",
       " array([  0.        ,  11.79398148, 149.76157407, 254.875     ]),\n",
       " array([  0.        , 182.85616308]),\n",
       " array([ 0.       , 72.6999368]),\n",
       " array([  0.        , 238.18157182]),\n",
       " array([  0., 113.]),\n",
       " array([ 0.        , 98.98856556]),\n",
       " array([ 0.        , 44.00276922]),\n",
       " array([  0.        , 141.87798703]),\n",
       " array([  0.        , 203.32323658]),\n",
       " array([  0.        ,  10.06818182, 116.67676768, 235.50252525,\n",
       "        255.        ]),\n",
       " array([  0.        ,  20.78535354, 102.09090909, 198.75      ,\n",
       "        250.19444444, 253.        , 255.        ]),\n",
       " array([  0.        ,   8.22222222,  88.25      , 188.375     ,\n",
       "        244.59722222, 252.        , 253.        , 254.        ,\n",
       "        255.        ]),\n",
       " array([  0.        ,  22.59413415, 104.17332499, 184.39551627,\n",
       "        233.26842626, 252.01586357, 253.        , 254.        ,\n",
       "        255.        ]),\n",
       " array([  0.        ,   9.0091035 , 110.57836046, 189.2520644 ,\n",
       "        239.85341388, 252.        , 253.        , 254.        ,\n",
       "        255.        ]),\n",
       " array([  0.        ,  31.04672988, 111.24059122, 182.85236371,\n",
       "        233.15668381, 252.        , 253.        , 254.        ,\n",
       "        255.        ]),\n",
       " array([  0.        ,   3.13682332,  83.72912949, 177.43690925,\n",
       "        231.04911098, 252.        , 253.        , 254.        ,\n",
       "        255.        ]),\n",
       " array([  0.        ,  13.        ,  85.        , 158.33333333,\n",
       "        214.        , 243.        , 252.        , 253.        ,\n",
       "        254.        , 255.        ]),\n",
       " array([  0.        ,  56.44444444, 112.        , 169.33333333,\n",
       "        208.        , 240.22222222, 252.66666667, 253.        ,\n",
       "        254.        , 255.        ]),\n",
       " array([  0.        ,  18.5314321 , 106.7330554 , 190.26949105,\n",
       "        239.65880107, 252.69706639, 253.76099826, 255.        ]),\n",
       " array([  0.        ,  88.        , 146.        , 191.        ,\n",
       "        218.77777778, 244.        , 252.        , 253.        ,\n",
       "        254.        , 255.        ]),\n",
       " array([  0.        ,   8.44444444,  70.88888889, 158.33333333,\n",
       "        205.77777778, 238.22222222, 252.        , 253.        ,\n",
       "        254.        , 255.        ]),\n",
       " array([  0.        ,  15.24108212,  92.5966495 , 173.6289267 ,\n",
       "        231.17751843, 251.45641099, 252.98651524, 253.98066818,\n",
       "        255.        ]),\n",
       " array([  0.        ,  20.1346927 ,  90.6901576 , 169.9217641 ,\n",
       "        231.18666845, 251.9248682 , 253.        , 254.        ,\n",
       "        255.        ]),\n",
       " array([  0.        ,   1.77777778,  77.        , 167.        ,\n",
       "        226.        , 252.        , 253.        , 254.        ,\n",
       "        255.        ]),\n",
       " array([  0.        ,  38.81892092, 116.72973639, 197.16013797,\n",
       "        245.63094358, 252.97560976, 253.97560976, 255.        ]),\n",
       " array([  0.        ,  18.2979798 ,  99.62121212, 183.06060606,\n",
       "        233.27272727, 252.        , 253.        , 254.        ,\n",
       "        255.        ]),\n",
       " array([  0.        ,   4.        ,  65.55555556, 156.22222222,\n",
       "        231.        , 252.        , 253.        , 255.        ]),\n",
       " array([  0.        ,  27.99621212, 132.80113636, 234.73042929,\n",
       "        253.        , 255.        ]),\n",
       " array([  0.        ,  14.32175926, 153.34953704, 254.875     ]),\n",
       " array([  0.        , 178.08728716]),\n",
       " array([ 0.        , 72.65417927]),\n",
       " array([ 0.        , 28.42361111]),\n",
       " array([ 0.        , 36.26829268]),\n",
       " array([  0.        , 220.63414634]),\n",
       " array([ 0.        , 77.04833834]),\n",
       " array([  0.        , 148.94131158]),\n",
       " array([  0.        ,  24.42929293, 255.        ]),\n",
       " array([  0.        ,   2.22222222, 101.        , 195.22222222,\n",
       "        253.        , 255.        ]),\n",
       " array([  0.        ,   3.        ,  76.        , 157.22222222,\n",
       "        232.        , 252.        , 253.        , 255.        ]),\n",
       " array([  0.        ,  20.77777778, 128.        , 203.77777778,\n",
       "        247.22222222, 252.        , 253.        , 254.        ,\n",
       "        255.        ]),\n",
       " array([  0.        ,  22.        , 119.08130081, 171.34146341,\n",
       "        235.08943089, 252.02439024, 253.00271003, 254.        ,\n",
       "        255.        ]),\n",
       " array([  0.        ,  62.73585307, 152.59246357, 218.6875855 ,\n",
       "        248.78240097, 252.84126524, 253.09347392, 254.        ,\n",
       "        255.        ]),\n",
       " array([  0.        ,  10.26153543,  93.81862869, 178.09757217,\n",
       "        233.1346007 , 252.        , 253.        , 254.        ,\n",
       "        255.        ]),\n",
       " array([  0.        ,  49.84638773, 120.4201864 , 188.51371538,\n",
       "        229.97904686, 251.7804878 , 253.        , 253.98915989,\n",
       "        255.        ]),\n",
       " array([  0.        ,  15.50326478,  72.29943683, 136.37006925,\n",
       "        196.30090739, 241.37973622, 252.13770313, 253.13770313,\n",
       "        255.        ]),\n",
       " array([  0.        , 104.92055823, 174.26303404, 221.67319741,\n",
       "        247.27380632, 252.01418936, 253.        , 254.        ,\n",
       "        255.        ]),\n",
       " array([  0.        ,  27.09530971, 116.26478857, 184.18293236,\n",
       "        239.43301896, 251.60691049, 253.        , 253.98942428,\n",
       "        255.        ]),\n",
       " array([  0.        ,  22.96511856,  79.74755046, 134.74551734,\n",
       "        178.57436802, 214.21183617, 248.55467372, 253.        ,\n",
       "        254.        , 255.        ]),\n",
       " array([  0.        ,  17.51366249,  96.38320071, 187.3481651 ,\n",
       "        236.75362769, 250.81519085, 252.95883036, 253.92935735,\n",
       "        255.        ]),\n",
       " array([  0.        ,   6.66614369,  92.55074553, 171.37567473,\n",
       "        219.50187405, 251.76669967, 253.        , 254.        ,\n",
       "        255.        ]),\n",
       " array([  0.        ,  20.46650934,  89.11061174, 175.42731722,\n",
       "        222.5330947 , 251.10914853, 253.        , 254.        ,\n",
       "        255.        ]),\n",
       " array([  0.        ,  11.20426862,  71.64431997, 149.27719689,\n",
       "        227.47680948, 252.07978004, 253.1132701 , 255.        ]),\n",
       " array([  0.        ,  23.88888889,  91.        , 146.55555556,\n",
       "        219.        , 252.        , 253.        , 254.        ,\n",
       "        255.        ]),\n",
       " array([  0.        ,  19.40151515,  96.86363636, 175.64646465,\n",
       "        233.78535354, 252.09090909, 253.09090909, 255.        ]),\n",
       " array([  0.        ,   3.88888889,  69.62962963, 150.12962963,\n",
       "        235.11111111, 252.01851852, 253.        , 255.        ]),\n",
       " array([  0.        ,  25.53935185, 122.81944444, 231.99768519,\n",
       "        253.        , 255.        ]),\n",
       " array([  0.        ,   6.22222222, 132.33333333, 255.        ]),\n",
       " array([  0.        , 184.04492836]),\n",
       " array([ 0.        , 85.97000741]),\n",
       " array([ 0.       , 95.2649967]),\n",
       " array([ 0., 40.]),\n",
       " array([ 0.        , 12.69701301]),\n",
       " array([ 0.        , 54.76854517]),\n",
       " array([  0.        , 155.71847622]),\n",
       " array([  0.        ,  54.28634259, 255.        ]),\n",
       " array([  0.        ,  21.07126824, 116.7037037 , 215.08417508,\n",
       "        253.        , 255.        ]),\n",
       " array([  0.        ,  36.91990741, 133.48070988, 218.28806584,\n",
       "        251.12916667, 253.        , 255.        ]),\n",
       " array([  0.        ,  47.96103896, 129.84415584, 204.23232323,\n",
       "        246.29148629, 252.1038961 , 253.05772006, 255.        ]),\n",
       " array([  0.        ,  31.15152614, 113.20884017, 193.05332048,\n",
       "        241.5317557 , 252.13783775, 253.25031672, 255.        ]),\n",
       " array([  0.        ,  15.29445419, 103.26860943, 173.18566033,\n",
       "        238.39886962, 252.        , 253.        , 254.        ,\n",
       "        255.        ]),\n",
       " array([  0.        ,  26.13475409, 109.57570722, 179.10666906,\n",
       "        235.01209839, 252.        , 253.        , 254.        ,\n",
       "        255.        ]),\n",
       " array([  0.        ,  26.69585839, 106.41488193, 174.43483374,\n",
       "        227.24741258, 251.86314495, 253.        , 254.        ,\n",
       "        255.        ]),\n",
       " array([  0.        ,   6.        ,  78.88888889, 146.        ,\n",
       "        203.77777778, 242.22222222, 252.        , 253.        ,\n",
       "        254.        , 255.        ]),\n",
       " array([  0.        ,  67.1138829 , 148.17614292, 208.95030453,\n",
       "        244.15930066, 251.65177522, 252.97678501, 253.97678501,\n",
       "        255.        ]),\n",
       " array([  0.        ,   0.88888889, 101.22222222, 179.66666667,\n",
       "        237.55555556, 252.        , 253.        , 253.11111111,\n",
       "        254.        , 255.        ]),\n",
       " array([  0.        ,  19.23865056,  61.84428049, 114.39223579,\n",
       "        166.09747469, 207.3060331 , 248.27200451, 253.11614571,\n",
       "        255.        ]),\n",
       " array([  0.        ,  16.95746522, 100.45144315, 194.08141786,\n",
       "        248.66488819, 252.        , 253.        , 253.65583764,\n",
       "        255.        ]),\n",
       " array([  0.        ,  31.44444444, 114.        , 186.33333333,\n",
       "        226.        , 251.22222222, 253.        , 253.11111111,\n",
       "        254.        , 255.        ]),\n",
       " array([  0.        ,  11.90785952,  91.96794689, 166.47001005,\n",
       "        223.60546523, 251.99206821, 253.        , 254.        ,\n",
       "        255.        ]),\n",
       " array([  0.        ,  13.        ,  77.33333333, 147.77777778,\n",
       "        211.22222222, 251.        , 253.        , 254.        ,\n",
       "        255.        ]),\n",
       " array([  0.        ,  13.38446126,  93.80071811, 175.07031913,\n",
       "        228.71243536, 252.04737967, 253.09497039, 255.        ]),\n",
       " array([  0.        ,  29.77777778, 116.88888889, 191.83950617,\n",
       "        234.33333333, 252.        , 253.        , 255.        ]),\n",
       " array([  0.        ,  22.61868687, 100.76010101, 194.63636364,\n",
       "        248.90782828, 253.        , 255.        ]),\n",
       " array([  0.        ,  30.46969697, 139.94107744, 247.72895623,\n",
       "        254.89393939]),\n",
       " array([  0.        ,  39.90828   , 254.01128444]),\n",
       " array([  0.        , 178.65984539]),\n",
       " array([  0.        , 153.79498589]),\n",
       " array([ 0.        , 29.15754779]),\n",
       " array([0.]),\n",
       " array([ 0.        , 99.52065017]),\n",
       " array([ 0.        , 93.08779256]),\n",
       " array([  0.       , 153.7937273]),\n",
       " array([  0.        ,  76.29389044, 255.        ]),\n",
       " array([  0.        ,  36.        , 132.63636364, 233.18181818,\n",
       "        253.09090909, 255.        ]),\n",
       " array([  0.        ,  32.72222222, 132.94444444, 221.87962963,\n",
       "        251.83333333, 253.        , 255.        ]),\n",
       " array([  0.        ,  52.04040404, 136.6969697 , 206.23232323,\n",
       "        248.13131313, 252.        , 253.        , 255.        ]),\n",
       " array([  0.        ,  18.90641821,  96.51585329, 176.95957356,\n",
       "        235.73871755, 251.8307017 , 253.        , 255.        ]),\n",
       " array([  0.        ,  21.21057588, 126.094996  , 191.54291259,\n",
       "        241.50246685, 252.        , 253.        , 254.        ,\n",
       "        255.        ]),\n",
       " array([  0.        ,   7.77744729,  68.45581334, 162.73950691,\n",
       "        230.02630709, 252.02439024, 253.00271003, 253.57697138,\n",
       "        255.        ]),\n",
       " array([  0.        ,  10.32361467,  77.2098558 , 164.36192519,\n",
       "        234.31885803, 252.01586357, 253.        , 254.        ,\n",
       "        255.        ]),\n",
       " array([  0.        ,   0.44444444,  77.88888889, 158.66666667,\n",
       "        226.        , 250.        , 252.        , 253.        ,\n",
       "        254.        , 255.        ]),\n",
       " array([  0.        ,  79.56480373, 160.93545382, 219.8516794 ,\n",
       "        248.14721656, 251.90481856, 253.        , 253.98678036,\n",
       "        255.        ]),\n",
       " array([  0.        ,  32.88888889, 103.77777778, 159.33333333,\n",
       "        212.77777778, 251.        , 252.        , 253.        ,\n",
       "        254.        , 255.        ]),\n",
       " array([  0.        ,   1.0222751 ,  83.22797277, 179.92702756,\n",
       "        239.94117258, 251.71445568, 253.        , 254.        ,\n",
       "        255.        ]),\n",
       " array([  0.        ,  10.88888889,  90.77777778, 165.33333333,\n",
       "        214.55555556, 252.        , 253.        , 253.11111111,\n",
       "        254.        , 255.        ]),\n",
       " array([  0.        ,   4.84480269,  75.1566868 , 145.71447975,\n",
       "        215.70392996, 251.16357376, 253.        , 254.        ,\n",
       "        255.        ]),\n",
       " array([  0.        ,   1.77777778,  53.33333333, 146.77777778,\n",
       "        223.88888889, 252.        , 253.        , 254.        ,\n",
       "        255.        ]),\n",
       " array([  0.        ,   4.21190842,  67.64535667, 149.1989994 ,\n",
       "        217.5123968 , 250.72402832, 252.93531459, 253.92524847,\n",
       "        255.        ]),\n",
       " array([  0.        ,   6.        ,  89.66666667, 186.55555556,\n",
       "        235.        , 252.        , 253.        , 254.        ,\n",
       "        255.        ]),\n",
       " array([  0.        ,  16.87121212,  82.71464646, 167.00252525,\n",
       "        231.3030303 , 252.01515152, 253.        , 255.        ]),\n",
       " array([  0.        ,   1.77777778,  64.        , 150.33333333,\n",
       "        235.33333333, 253.        , 255.        ]),\n",
       " array([  0.        ,   1.        ,  84.55555556, 222.11111111,\n",
       "        255.        ]),\n",
       " array([  0.        ,  22.42201577, 254.39273649]),\n",
       " array([  0.        , 159.63722824]),\n",
       " array([ 0.       , 87.2044191]),\n",
       " array([ 0.        , 88.48478807]),\n",
       " array([0.       , 4.3902439]),\n",
       " array([ 0.        , 17.59880193]),\n",
       " array([ 0.        , 70.35929984]),\n",
       " array([  0.        , 154.64567529]),\n",
       " array([  0.        ,  92.40211051, 254.9755945 ]),\n",
       " array([  0.        ,  31.77777778, 128.54545455, 233.68686869,\n",
       "        253.        , 255.        ]),\n",
       " array([  0.        ,  31.        , 126.33333333, 201.        ,\n",
       "        250.        , 252.11111111, 253.        , 255.        ]),\n",
       " array([  0.        ,  58.77777778, 147.66666667, 204.55555556,\n",
       "        250.        , 252.        , 253.        , 254.        ,\n",
       "        255.        ]),\n",
       " array([  0.        ,  27.77635871, 110.66130319, 183.22726404,\n",
       "        239.18932359, 252.03161986, 253.02861685, 255.        ]),\n",
       " array([  0.        ,  17.38357007, 102.78548776, 176.25030539,\n",
       "        231.34964233, 252.        , 253.        , 254.        ,\n",
       "        255.        ]),\n",
       " array([  0.        ,  13.9503394 , 107.45193734, 189.2639052 ,\n",
       "        240.93520103, 251.95479386, 253.00222425, 254.        ,\n",
       "        255.        ]),\n",
       " array([  0.        ,   9.11252942,  90.68982457, 167.57090157,\n",
       "        211.76611978, 252.        , 253.        , 254.        ,\n",
       "        255.        ]),\n",
       " array([  0.        ,  24.04063703, 117.35569707, 208.95730453,\n",
       "        247.8909806 , 252.03552455, 253.        , 253.97825433,\n",
       "        255.        ]),\n",
       " array([  0.        ,   8.24444444,  97.39555556, 154.84      ,\n",
       "        213.34666667, 251.        , 252.        , 253.        ,\n",
       "        254.        , 255.        ]),\n",
       " array([  0.        ,   1.44444444,  65.88888889, 148.33333333,\n",
       "        204.77777778, 250.        , 252.        , 253.        ,\n",
       "        254.        , 255.        ]),\n",
       " array([  0.        ,  19.37125915, 112.08023175, 189.71220581,\n",
       "        241.49538707, 252.51580269, 253.        , 254.        ,\n",
       "        255.        ]),\n",
       " array([  0.        ,   4.39678072,  77.41373437, 140.55100301,\n",
       "        197.73608565, 244.19718209, 253.        , 253.98942428,\n",
       "        255.        ]),\n",
       " array([  0.        ,  11.18882737,  77.78897805, 161.71182183,\n",
       "        216.74481902, 248.08003508, 253.        , 254.        ,\n",
       "        255.        ]),\n",
       " array([  0.        ,  35.00934467, 101.69367049, 187.60202069,\n",
       "        228.26781372, 251.93040753, 253.        , 253.97884212,\n",
       "        255.        ]),\n",
       " array([  0.        ,   6.49421026,  72.09841793, 147.13243793,\n",
       "        204.51196932, 242.85282965, 252.21609376, 253.21609376,\n",
       "        255.        ]),\n",
       " array([  0.        ,  14.68609318,  78.08232553, 159.58823584,\n",
       "        231.03031535, 251.72334182, 253.        , 255.        ]),\n",
       " array([  0.        ,  19.70104167,  98.69166667, 189.04895833,\n",
       "        244.14861111, 253.        , 255.        ]),\n",
       " array([  0.        ,  31.62651223, 145.82076362, 244.96525097,\n",
       "        255.        ]),\n",
       " array([  0.        ,  27.00625626, 152.78928929, 255.        ]),\n",
       " array([  0.,  10., 140., 255.]),\n",
       " array([  0.        , 140.24738832]),\n",
       " array([  0.        , 130.13272314]),\n",
       " array([  0.        , 124.03768631]),\n",
       " array([ 0., 15.]),\n",
       " array([ 0.        , 58.19790327]),\n",
       " array([  0.        , 120.86133943]),\n",
       " array([  0.,  13., 254.]),\n",
       " array([  0.        ,   7.70467836, 214.04678363, 255.        ]),\n",
       " array([  0.        ,  16.49090909, 112.62424242, 222.05656566,\n",
       "        253.        , 255.        ]),\n",
       " array([  0.        ,  33.75751634, 133.81960784, 221.42875817,\n",
       "        251.50588235, 253.        , 255.        ]),\n",
       " array([  0.        ,  33.43650794, 130.94285714, 200.36349206,\n",
       "        245.35714286, 252.1       , 253.1       , 255.        ]),\n",
       " array([  0.        ,  20.24183673,  96.6085034 , 193.38480726,\n",
       "        235.71349206, 252.11632653, 253.11632653, 255.        ]),\n",
       " array([  0.        ,  10.46264324,  97.89465192, 175.85496184,\n",
       "        231.50096085, 251.87618675, 253.        , 254.        ,\n",
       "        255.        ]),\n",
       " array([  0.        ,  25.62620414, 118.54753072, 197.50675648,\n",
       "        242.75255852, 252.01519901, 253.        , 254.        ,\n",
       "        255.        ]),\n",
       " array([  0.        ,  54.57214195, 124.47844229, 199.1650886 ,\n",
       "        243.21502317, 252.        , 253.        , 254.        ,\n",
       "        255.        ]),\n",
       " array([  0.        ,  28.23727944, 121.50326702, 193.83529796,\n",
       "        243.37619906, 252.        , 253.        , 254.        ,\n",
       "        255.        ]),\n",
       " array([  0.        ,  51.84735295, 115.70129692, 180.33404761,\n",
       "        231.00347282, 251.99039929, 253.        , 253.96842859,\n",
       "        255.        ]),\n",
       " array([  0.        ,   6.11997895,  78.01748098, 161.11270934,\n",
       "        227.94180145, 251.94476375, 253.        , 253.98993388,\n",
       "        255.        ]),\n",
       " array([  0.        ,   6.27291522,  88.01037901, 177.12583008,\n",
       "        227.96718562, 252.        , 253.        , 253.98993388,\n",
       "        255.        ]),\n",
       " array([  0.        ,  68.49472192, 155.18214971, 223.31131449,\n",
       "        247.414917  , 251.86236765, 253.        , 254.        ,\n",
       "        255.        ]),\n",
       " array([  0.        ,  24.21815406, 106.47027174, 167.15399757,\n",
       "        213.14441144, 244.43458912, 252.        , 253.        ,\n",
       "        254.        , 255.        ]),\n",
       " array([  0.        ,   1.58814198,  62.49983475, 143.1376165 ,\n",
       "        201.00528786, 235.55852998, 252.        , 253.        ,\n",
       "        254.        , 255.        ]),\n",
       " array([  0.        ,   5.88075881,  64.08130081, 138.09756098,\n",
       "        207.100271  , 242.98373984, 252.        , 253.        ,\n",
       "        255.        ]),\n",
       " array([  0.        ,   1.83333333,  56.42592593, 156.55555556,\n",
       "        220.        , 252.        , 253.        , 255.        ]),\n",
       " array([  0.        ,  20.90660661,  98.86373874, 197.0356982 ,\n",
       "        251.76441441, 255.        ]),\n",
       " array([  0.        ,  20.36461916,  97.0042588 , 195.66497406,\n",
       "        252.94348894, 255.        ]),\n",
       " array([  0.        ,  14.87207207, 115.20600601, 229.10952129,\n",
       "        255.        ]),\n",
       " array([  0.        ,   9.56989247, 164.609319  , 255.        ]),\n",
       " array([  0.        , 117.74896567]),\n",
       " array([  0.        , 196.45826448]),\n",
       " array([ 0.        , 98.15642361]),\n",
       " array([0.]),\n",
       " array([  0.        , 123.12501396]),\n",
       " array([  0.        , 143.74905302]),\n",
       " array([  0.        ,  37.77506775, 254.02439024]),\n",
       " array([  0.        ,  16.6980057 , 220.48433048, 255.        ]),\n",
       " array([  0.        ,  38.28701204, 152.93179216, 250.77270229,\n",
       "        255.        ]),\n",
       " array([  0.        ,  32.00029448, 124.80157353, 216.42948838,\n",
       "        251.24533258, 253.        , 255.        ]),\n",
       " array([  0.        ,  24.47555556, 118.86444444, 198.66296296,\n",
       "        246.32      , 252.09666667, 253.0537037 , 255.        ]),\n",
       " array([  0.        ,  43.59474843, 133.96133038, 205.00976193,\n",
       "        243.53696879, 252.43463593, 253.43463593, 255.        ]),\n",
       " array([  0.        ,  26.98134431, 116.92757202, 198.36666667,\n",
       "        236.95829904, 252.        , 253.        , 254.        ,\n",
       "        255.        ]),\n",
       " array([  0.        ,  21.33768304,  98.81330952, 183.39742864,\n",
       "        227.57257723, 251.87371244, 253.        , 254.        ,\n",
       "        255.        ]),\n",
       " array([  0.        ,  55.11807941, 144.28328509, 210.53847541,\n",
       "        244.92176451, 252.        , 253.        , 254.        ,\n",
       "        255.        ]),\n",
       " array([  0.        ,  10.3904557 ,  88.71288092, 159.39084907,\n",
       "        212.08810493, 252.        , 253.        , 253.64127764,\n",
       "        255.        ]),\n",
       " array([  0.        ,  17.8474    ,  93.22596955, 172.85176142,\n",
       "        232.0407498 , 251.98611436, 253.00271003, 254.        ,\n",
       "        255.        ]),\n",
       " array([  0.        ,  43.84723147, 161.996342  , 219.62178746,\n",
       "        248.45292776, 251.97625989, 253.00239527, 254.        ,\n",
       "        255.        ]),\n",
       " array([  0.        ,  29.        , 129.88888889, 205.33333333,\n",
       "        244.        , 252.        , 253.        , 253.11111111,\n",
       "        254.        , 255.        ]),\n",
       " array([  0.        ,  32.87651042, 118.73785888, 194.63759273,\n",
       "        237.57384865, 251.95240928, 253.        , 253.66126899,\n",
       "        255.        ]),\n",
       " array([  0.        ,   3.35833458,  65.25535839, 141.58057293,\n",
       "        192.97986422, 238.48367938, 251.92682927, 253.        ,\n",
       "        254.        , 255.        ]),\n",
       " array([  0.        ,  12.82882979,  61.27294535, 139.81725131,\n",
       "        203.96251264, 244.57482722, 252.        , 253.        ,\n",
       "        255.        ]),\n",
       " array([  0.        ,   9.73785445,  69.57452575, 158.9652764 ,\n",
       "        222.42507767, 252.        , 253.        , 255.        ]),\n",
       " array([  0.        ,  11.00563063,  87.66188063, 188.49746622,\n",
       "        251.15503003, 253.        , 255.        ]),\n",
       " array([  0.        ,  23.23723724, 107.44144144, 221.16216216,\n",
       "        252.97297297, 255.        ]),\n",
       " array([  0.        ,  13.24324324, 104.54354354, 243.07207207,\n",
       "        255.        ]),\n",
       " array([  0.        ,  12.52688172,  95.82078853, 226.71684588,\n",
       "        255.        ]),\n",
       " array([  0.        ,  34.86486486, 254.24324324]),\n",
       " array([  0.        , 114.24888741]),\n",
       " array([  0.        , 150.89025174]),\n",
       " array([ 0.        , 50.97560976]),\n",
       " array([ 0., 32.]),\n",
       " array([ 0.        , 27.17790788]),\n",
       " array([  0.        , 113.45734415]),\n",
       " array([  0.        ,   1.15718157, 254.02439024]),\n",
       " array([  0.        ,  28.11111111, 180.11111111, 255.        ]),\n",
       " array([  0.        ,   4.77202381, 103.5125    , 223.17053571,\n",
       "        255.        ]),\n",
       " array([  0.        ,   2.06725146,  54.88011696, 140.71052632,\n",
       "        243.23684211, 253.        , 255.        ]),\n",
       " array([  0.        ,   4.85555556,  79.68888889, 170.05185185,\n",
       "        243.67777778, 252.01111111, 253.        , 255.        ]),\n",
       " array([  0.        ,  72.        , 161.33333333, 228.        ,\n",
       "        251.        , 252.66666667, 253.        , 254.        ,\n",
       "        255.        ]),\n",
       " array([  0.        ,  32.57128933, 130.76434318, 205.97389861,\n",
       "        246.10464015, 252.        , 253.        , 253.96297434,\n",
       "        255.        ]),\n",
       " array([  0.        ,  15.73582766, 106.39455782, 182.94104308,\n",
       "        236.69387755, 252.        , 253.        , 254.        ,\n",
       "        255.        ]),\n",
       " array([  0.        ,  11.65611448,  97.62934005, 176.90815855,\n",
       "        238.74444431, 250.32233539, 252.90977975, 253.90977975,\n",
       "        255.        ]),\n",
       " array([  0.        ,   5.        ,  78.88888889, 155.        ,\n",
       "        214.        , 245.        , 252.        , 253.        ,\n",
       "        254.        , 255.        ]),\n",
       " array([  0.        ,   4.44444444, 111.88888889, 153.33333333,\n",
       "        199.77777778, 245.        , 252.        , 253.        ,\n",
       "        254.        , 255.        ]),\n",
       " array([  0.        ,  13.44444444, 128.        , 168.        ,\n",
       "        214.77777778, 251.        , 252.        , 253.        ,\n",
       "        254.        , 255.        ]),\n",
       " array([  0.        ,   7.44444444,  95.        , 142.33333333,\n",
       "        178.55555556, 230.        , 252.        , 253.        ,\n",
       "        254.        , 255.        ]),\n",
       " array([  0.        ,   6.58897419,  89.43540416, 167.9566934 ,\n",
       "        208.05559282, 242.67201593, 252.10899943, 253.13221442,\n",
       "        255.        ]),\n",
       " array([  0.        ,   7.80758808,  60.97560976, 133.19783198,\n",
       "        205.99457995, 241.94308943, 252.        , 253.        ,\n",
       "        255.        ]),\n",
       " array([  0.        ,   5.85980546,  62.08554392, 143.97975948,\n",
       "        220.90318217, 251.09375899, 253.        , 255.        ]),\n",
       " array([  0.        ,  20.55555556,  96.        , 183.        ,\n",
       "        248.        , 253.        , 255.        ]),\n",
       " array([  0.        ,  14.07634908,  91.22577123, 199.11129311,\n",
       "        252.94266994, 255.        ]),\n",
       " array([  0.        ,   5.25694444,  84.01041667, 189.85069444,\n",
       "        251.9375    , 255.        ]),\n",
       " array([  0.        ,   9.69892473, 114.83154122, 250.56989247,\n",
       "        255.        ]),\n",
       " array([  0.        ,  17.18047079, 180.69291873, 254.05841325]),\n",
       " array([  0.        ,  10.88204702, 254.11580521]),\n",
       " array([  0.        , 114.97501399]),\n",
       " array([  0.        , 159.29463544]),\n",
       " array([ 0., 39.]),\n",
       " array([ 0., 31.]),\n",
       " array([ 0.        , 10.45380943]),\n",
       " array([  0.        , 123.35081656]),\n",
       " array([  0.        , 154.49674035]),\n",
       " array([  0.        ,  44.10496468, 253.42419622]),\n",
       " array([  0.        ,   1.        ,  89.11111111, 211.88888889,\n",
       "        255.        ]),\n",
       " array([  0.        ,  29.53929539, 125.41463415, 228.05149051,\n",
       "        252.95121951, 255.        ]),\n",
       " array([  0.        ,  11.63306233,  77.06775068, 164.37940379,\n",
       "        239.72520325, 253.        , 255.        ]),\n",
       " array([  0.        ,  29.17054475, 107.73956272, 193.35993951,\n",
       "        240.58325943, 251.80758808, 253.        , 255.        ]),\n",
       " array([  0.        ,  10.92061604,  96.99881023, 184.51397977,\n",
       "        242.42983674, 251.68292683, 253.        , 253.57697138,\n",
       "        255.        ]),\n",
       " array([  0.        ,   9.47643616, 121.51228323, 200.96338713,\n",
       "        239.92508699, 251.95357003, 253.        , 253.99065261,\n",
       "        255.        ]),\n",
       " array([  0.        ,  37.51425156, 141.1227412 , 216.73159097,\n",
       "        246.4512541 , 251.73473914, 252.97620464, 253.96613852,\n",
       "        255.        ]),\n",
       " array([  0.        ,   3.        ,  80.        , 141.33333333,\n",
       "        201.77777778, 241.22222222, 252.        , 253.        ,\n",
       "        254.        , 255.        ]),\n",
       " array([  0.        ,   5.        ,  75.88888889, 149.66666667,\n",
       "        205.77777778, 244.        , 252.        , 253.        ,\n",
       "        254.        , 255.        ]),\n",
       " array([  0.        ,  18.91501525, 122.42102957, 192.20628421,\n",
       "        235.68260507, 251.68133319, 252.89377773, 253.68133319,\n",
       "        255.        ]),\n",
       " array([  0.        ,   5.50406504,  95.77447287, 180.6728138 ,\n",
       "        225.55687752, 250.18652918, 252.        , 253.        ,\n",
       "        254.        , 255.        ]),\n",
       " array([  0.        ,   1.88888889,  57.66666667, 134.77777778,\n",
       "        202.22222222, 245.66666667, 252.        , 253.        ,\n",
       "        255.        ]),\n",
       " array([  0.        ,   4.24603514,  61.72806078, 133.74012877,\n",
       "        206.16259912, 251.04424866, 253.        , 255.        ]),\n",
       " array([  0.        ,   1.97560976,  60.51219512, 164.82926829,\n",
       "        241.72899729, 252.97560976, 255.        ]),\n",
       " array([  0.        ,   8.82475038,  78.211523  , 219.55450764,\n",
       "        254.3130166 ]),\n",
       " array([  0.        ,  12.84375   , 119.42708333, 240.18055556,\n",
       "        255.        ]),\n",
       " array([  0.        ,  24.95741196, 163.85312585, 255.        ]),\n",
       " array([  0.        ,   4.48387097, 133.52688172, 255.        ]),\n",
       " array([  0.        ,  41.81921922, 254.97220077]),\n",
       " array([  0.        , 122.73082957]),\n",
       " array([  0.        , 111.16346994]),\n",
       " array([ 0.        , 82.94073375]),\n",
       " array([ 0., 72.]),\n",
       " array([0.]),\n",
       " array([0.]),\n",
       " array([ 0.        , 39.27260336]),\n",
       " array([  0.        , 111.92413208]),\n",
       " array([  0.        , 185.24892101]),\n",
       " array([  0.        ,  18.61963832, 253.49042601]),\n",
       " array([  0.        ,   0.7       ,  64.08333333, 192.30833333,\n",
       "        255.        ]),\n",
       " array([  0.        ,   5.15176152,  83.74796748, 163.46070461,\n",
       "        252.02439024, 255.        ]),\n",
       " array([  0.        ,  18.35205525,  79.8330375 , 146.40253817,\n",
       "        211.51568865, 253.        , 255.        ]),\n",
       " array([  0.        ,  31.8601549 , 109.44732821, 153.67643605,\n",
       "        219.16512789, 252.        , 253.        , 255.        ]),\n",
       " array([  0.        ,   9.98978268,  75.56027381, 135.47336581,\n",
       "        197.23555881, 249.6948957 , 253.01355014, 255.        ]),\n",
       " array([  0.        ,  66.88295251, 143.34000009, 193.73106926,\n",
       "        243.66378202, 251.95357003, 253.        , 254.        ,\n",
       "        255.        ]),\n",
       " array([  0.        ,  25.44444444, 127.55555556, 185.33333333,\n",
       "        230.        , 251.        , 252.        , 253.        ,\n",
       "        254.        , 255.        ]),\n",
       " array([  0.        ,   0.88888889, 111.88888889, 175.66666667,\n",
       "        218.77777778, 249.        , 252.        , 253.        ,\n",
       "        254.        , 255.        ]),\n",
       " array([  0.        ,  24.61189704, 112.13107277, 175.5210539 ,\n",
       "        237.5798136 , 252.        , 253.        , 254.        ,\n",
       "        255.        ]),\n",
       " array([  0.        ,  12.17027962,  78.38654722, 134.71766899,\n",
       "        196.20002489, 252.        , 253.01355014, 255.        ]),\n",
       " array([  0.        ,   5.67026514,  50.85015738, 129.45089121,\n",
       "        205.40954365, 252.29271513, 255.        ]),\n",
       " array([  0.        ,   1.97247857,  46.4198295 , 151.87978168,\n",
       "        251.58287959, 255.        ]),\n",
       " array([  0.        ,   3.32520325,  64.3197832 , 199.27913279,\n",
       "        255.        ]),\n",
       " array([0.00000000e+00, 1.11111111e-01, 7.50000000e+01, 2.55000000e+02]),\n",
       " array([  0.        ,  15.11351044, 254.934915  ]),\n",
       " array([  0.       ,  13.1827957, 255.       ]),\n",
       " array([  0.,   6., 255.]),\n",
       " array([  0.        , 152.55759899]),\n",
       " array([  0.        , 120.83848315]),\n",
       " array([ 0.        , 78.75670849]),\n",
       " array([ 0.        , 62.76645852]),\n",
       " array([0.]),\n",
       " array([0.]),\n",
       " array([0.]),\n",
       " array([ 0.        , 40.91570198]),\n",
       " array([ 0.        , 66.02624203]),\n",
       " array([  0.        , 150.18723845]),\n",
       " array([  0.        , 208.16161089]),\n",
       " array([  0.        ,   2.9590458 , 254.07140059]),\n",
       " array([  0.        ,  66.48642257, 254.79863643]),\n",
       " array([  0.        ,  19.35837777, 161.55604404, 254.95851146]),\n",
       " array([  0.        ,   9.36450075, 149.08406724, 249.69596823,\n",
       "        254.97560976]),\n",
       " array([  0.        ,  10.45750392, 117.7115739 , 233.72821987,\n",
       "        252.97620464, 255.        ]),\n",
       " array([  0.        ,  19.71308036,  99.49752651, 203.28688107,\n",
       "        251.42686232, 253.        , 255.        ]),\n",
       " array([  0.        ,  15.73585904, 109.76024525, 195.37363289,\n",
       "        250.76561364, 253.        , 255.        ]),\n",
       " array([  0.        ,  16.89929566, 116.50298644, 201.36958633,\n",
       "        251.79549955, 253.        , 255.        ]),\n",
       " array([  0.        ,  20.77777778, 123.        , 203.        ,\n",
       "        252.        , 253.        , 255.        ]),\n",
       " array([  0.        ,  26.69647696, 122.54174103, 236.12023267,\n",
       "        252.97560976, 255.        ]),\n",
       " array([  0.        ,   8.69363474,  85.99101064, 192.48582193,\n",
       "        255.        ]),\n",
       " array([  0.        ,  11.89078696, 158.8632239 , 254.9535134 ]),\n",
       " array([  0.        ,  27.29221319, 253.70136223]),\n",
       " array([  0.        ,  53.73712693, 254.97678501]),\n",
       " array([  0.        , 211.31336199]),\n",
       " array([  0.        , 193.01986677]),\n",
       " array([  0.        , 142.73968765]),\n",
       " array([  0.        , 154.73130076]),\n",
       " array([ 0.        , 92.44169809]),\n",
       " array([ 0.        , 81.96795995]),\n",
       " array([ 0.        , 20.66666667]),\n",
       " array([0.]),\n",
       " array([0.]),\n",
       " array([0.]),\n",
       " array([ 0.        , 16.63414634]),\n",
       " array([ 0.        , 51.36788018]),\n",
       " array([  0.        , 190.17714854]),\n",
       " array([  0.        , 139.39428549]),\n",
       " array([  0.        , 161.76475314]),\n",
       " array([  0.        ,  60.77677588, 254.97735123]),\n",
       " array([  0.        ,  17.38224236, 220.94450832, 255.        ]),\n",
       " array([  0.        ,   6.64213617, 138.10342276, 246.9442921 ,\n",
       "        255.        ]),\n",
       " array([  0.        ,  26.22222222, 103.33333333, 203.        ,\n",
       "        253.        , 255.        ]),\n",
       " array([  0.        ,  17.37959363, 112.35241043, 213.7358713 ,\n",
       "        252.93422325, 255.        ]),\n",
       " array([  0.        ,  26.88784367, 122.86593672, 225.06056492,\n",
       "        252.91520625, 255.        ]),\n",
       " array([  0.        ,   5.        ,  73.22222222, 162.        ,\n",
       "        241.11111111, 253.        , 255.        ]),\n",
       " array([  0.        ,  41.75338753, 154.22764228, 233.09485095,\n",
       "        252.97560976, 255.        ]),\n",
       " array([  0.        ,   5.51207905, 118.58092599, 239.60287543,\n",
       "        255.        ]),\n",
       " array([  0.        ,  24.27772169, 211.41792986, 254.97735123]),\n",
       " array([  0.        ,  83.24712304, 254.97790364]),\n",
       " array([  0.        , 199.07714281]),\n",
       " array([  0.        , 223.71803036]),\n",
       " array([  0.        , 167.22476508]),\n",
       " array([  0.        , 202.93237727]),\n",
       " array([  0.        , 205.63483273]),\n",
       " array([ 0.        , 70.02856244]),\n",
       " array([ 0.        , 34.65955727]),\n",
       " array([ 0., 87.]),\n",
       " array([  0., 104.]),\n",
       " array([0.]),\n",
       " array([0.]),\n",
       " array([0.]),\n",
       " array([0.]),\n",
       " array([0.]),\n",
       " array([ 0.        , 32.75791988]),\n",
       " array([  0.        , 106.16495929]),\n",
       " array([  0.        , 166.34485796]),\n",
       " array([  0.        , 164.12494745]),\n",
       " array([  0.        ,  96.05513685, 254.11112954]),\n",
       " array([  0.        , 139.36590697, 254.93840678]),\n",
       " array([  0.        ,  25.96818484, 187.94228198, 254.97948134]),\n",
       " array([  0.        ,  49.3977143 , 184.41957404, 254.97896837]),\n",
       " array([  0.        ,  21.51219512, 137.38211382, 240.93224932,\n",
       "        255.        ]),\n",
       " array([  0.        ,  45.66666667, 148.11111111, 227.55555556,\n",
       "        255.        ]),\n",
       " array([  0.        ,  11.66666667, 127.        , 222.11111111,\n",
       "        255.        ]),\n",
       " array([  0.        ,  45.21758406, 186.55636808, 255.        ]),\n",
       " array([  0.        ,  82.60320588, 254.89307871]),\n",
       " array([  0.        ,   5.32050383, 254.92977467]),\n",
       " array([  0.        , 208.58681728]),\n",
       " array([  0.        , 213.93745638]),\n",
       " array([  0.        , 219.07158184]),\n",
       " array([ 0.        , 92.52428311]),\n",
       " array([ 0.        , 64.30006477]),\n",
       " array([  0.        , 104.08742544]),\n",
       " array([0., 3.]),\n",
       " array([ 0., 59.]),\n",
       " array([0.]),\n",
       " array([0.]),\n",
       " array([0.]),\n",
       " array([0.]),\n",
       " array([0.]),\n",
       " array([0.]),\n",
       " array([ 0.        , 10.14336704]),\n",
       " array([  0.        , 173.99933147]),\n",
       " array([  0.        , 189.93374041]),\n",
       " array([  0.        , 239.33675246]),\n",
       " array([  0.        , 238.90248472]),\n",
       " array([  0.        , 241.02038005]),\n",
       " array([  0.        , 148.24859132]),\n",
       " array([  0.        , 254.34765797]),\n",
       " array([  0.        , 251.11527034]),\n",
       " array([  0.        , 135.04621042]),\n",
       " array([  0.        , 157.36022787]),\n",
       " array([  0.        , 147.01677674]),\n",
       " array([  0.        , 204.32877018]),\n",
       " array([  0.        , 132.99911468]),\n",
       " array([  0.        , 248.62535778]),\n",
       " array([  0.        , 229.44450076]),\n",
       " array([  0.        , 153.80610655]),\n",
       " array([  0.        , 177.56444335]),\n",
       " array([  0.        , 125.26710291]),\n",
       " array([ 0.        , 61.90243902]),\n",
       " array([0.]),\n",
       " array([0.]),\n",
       " array([0.]),\n",
       " array([0.])]"
      ]
     },
     "execution_count": 6,
     "metadata": {},
     "output_type": "execute_result"
    }
   ],
   "source": [
    "dq.bins"
   ]
  },
  {
   "cell_type": "code",
   "execution_count": null,
   "metadata": {},
   "outputs": [],
   "source": []
  }
 ],
 "metadata": {
  "kernelspec": {
   "display_name": "Python 3",
   "language": "python",
   "name": "python3"
  },
  "language_info": {
   "codemirror_mode": {
    "name": "ipython",
    "version": 3
   },
   "file_extension": ".py",
   "mimetype": "text/x-python",
   "name": "python",
   "nbconvert_exporter": "python",
   "pygments_lexer": "ipython3",
   "version": "3.6.5"
  }
 },
 "nbformat": 4,
 "nbformat_minor": 2
}
