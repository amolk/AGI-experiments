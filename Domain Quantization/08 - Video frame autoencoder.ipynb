{
 "cells": [
  {
   "cell_type": "markdown",
   "metadata": {},
   "source": [
    "2D image (width, height) ==> (width * features * resolution, height)"
   ]
  },
  {
   "cell_type": "code",
   "execution_count": 89,
   "metadata": {},
   "outputs": [],
   "source": [
    "import torch\n",
    "from torch import nn\n",
    "import torch.nn.functional as F\n",
    "import torch.optim as optim\n",
    "import pdb\n",
    "import matplotlib.pyplot as plt\n",
    "import matplotlib.ticker as ticker\n",
    "import numpy as np\n",
    "import random\n",
    "from scipy.ndimage.filters import gaussian_filter\n",
    "from skimage.draw import line_aa\n",
    "%matplotlib inline\n",
    "\n",
    "from scipy.stats import norm\n",
    "\n",
    "device = \"cuda\" if torch.cuda.is_available() else \"cpu\"\n",
    "\n",
    "class NormalDistributionCollection(object):\n",
    "    def __init__(self, resolution, var=0.07):\n",
    "        self.gaussians = torch.stack([self.normal_distribution(resolution, index.item() / resolution, var) for index in np.arange(resolution)])\n",
    "\n",
    "    @staticmethod\n",
    "    def normal_distribution(n, mean, var=0.05):\n",
    "      x = norm.pdf(np.arange(0, 1, 1.0 / n), mean, var)\n",
    "      x = x / np.max(x)\n",
    "      return torch.tensor(x).float()\n",
    "\n",
    "    @staticmethod\n",
    "    def to_pdf(frames):\n",
    "        element_count = np.prod(frames.shape)\n",
    "        frames_shape = frames.shape\n",
    "        frames_view = frames.contiguous().view((element_count,))\n",
    "        frames_pdf = torch.stack([NormalDistributionCollection.normal_distribution(resolution, mean.item()) for mean in frames_view])\n",
    "        frames_pdf = frames_pdf.view(frames_shape[:-1] + (frames_shape[-1] * resolution, ))\n",
    "        return frames_pdf\n",
    "\n",
    "\n",
    "def generate_frames1(width, height):\n",
    "    frames = []\n",
    "    for _ in range(100):\n",
    "        frame = np.zeros((width, height))\n",
    "        rr, cc, val = line_aa(random.randint(0, height-1), random.randint(0, width-1), random.randint(0, height-1), random.randint(0, width-1))\n",
    "        frame[rr, cc] = val\n",
    "        frame=gaussian_filter(frame, 0.5)\n",
    "        frames.append(frame)\n",
    "\n",
    "    return torch.as_tensor(frames).to(device)\n",
    "\n",
    "def generate_frames(width, height):\n",
    "    return torch.as_tensor([[[0, 0], [1, 1]], [[1, 1], [0, 0]]])\n",
    "    \n",
    "def show_image(image, vmin=None, vmax=None, title=None, print_values=False):\n",
    "    #print(\"image \", image.shape)\n",
    "    fig, ax1 = plt.subplots(figsize=(6, 2))\n",
    "    if title:\n",
    "        plt.title(title)\n",
    "    #i = image.reshape((height, width))\n",
    "    #print(\"i \", i.shape)\n",
    "    ax1.imshow(image, vmin=vmin, vmax=vmax)\n",
    "    plt.show()\n",
    "    if print_values:\n",
    "        print(image)\n",
    "        \n",
    "class Encoder(torch.nn.Module): \n",
    "  \n",
    "    def __init__(self, out_channels, resolution, kernel_size=4):\n",
    "        super().__init__() \n",
    "        self.e1 = nn.Conv2d(in_channels=1, out_channels=out_channels, kernel_size=(kernel_size, kernel_size*resolution), stride=(2, 2*resolution)).to(device)\n",
    "        self.bn1 = nn.BatchNorm2d(out_channels).to(device)\n",
    "        #self.pool1 = nn.MaxPool2d(2).to(device)\n",
    "        self.tanh = nn.Tanh()\n",
    "\n",
    "    def forward(self, x):\n",
    "        x = x[:, None, :, :]  # assume 1 feature\n",
    "        x = self.e1(x)\n",
    "        x = self.bn1(x)\n",
    "        #x = self.pool1(x)\n",
    "        x = self.tanh(x)\n",
    "        return x\n",
    "\n",
    "class Decoder(torch.nn.Module): \n",
    "  \n",
    "    def __init__(self, height, width, resolution):\n",
    "        super().__init__() \n",
    "        self.height = height\n",
    "        self.width = width\n",
    "        self.resolution = resolution\n",
    "        #self.tanh = nn.Tanh()\n",
    "        self.relu = nn.ReLU()\n",
    "        self.d1 = None\n",
    "  \n",
    "    def forward(self, z):\n",
    "        if len(z.shape) > 2:\n",
    "            z = z.view(z.shape[0], -1)\n",
    "        \n",
    "        if self.d1 is None:\n",
    "            print(\"z \", z.shape)\n",
    "            print(\"self.height * self.width * self.resolution \", self.height * self.width * self.resolution)\n",
    "            self.d1 = nn.Linear(z.shape[-1], self.height * self.width * self.resolution).to(device)\n",
    "            \n",
    "        z = self.d1(z)\n",
    "        #z = self.tanh(z)\n",
    "        z = self.relu(z)\n",
    "        z = z.view(z.shape[0], self.height, self.width * self.resolution)\n",
    "        return z\n",
    "\n",
    "class Network(torch.nn.Module):\n",
    "    \n",
    "    def __init__(self, height, width, resolution, out_channels, kernel_size=4):\n",
    "        super().__init__()\n",
    "        self.encoder = Encoder(out_channels, resolution, kernel_size=kernel_size).to(device)\n",
    "        self.decoder = Decoder(height, width, resolution).to(device)\n",
    "        self.hidden_state = None\n",
    "        \n",
    "    def forward(self, x):\n",
    "        x = self.hidden_state = self.encoder(x)\n",
    "        x = self.decoder(x)\n",
    "        return x\n",
    "    \n",
    "class Layer(object):\n",
    "    def __init__(self):\n",
    "        self.hidden_state = \"uninitialized\"\n",
    "    \n",
    "    def train(self, frames, resolution, out_channels=10, epochs=1000, kernel_size=4):\n",
    "        print(\"--------------------------------\")\n",
    "        print(\"Training with frames \", frames.shape)\n",
    "        _, height, width = frames.shape\n",
    "        \n",
    "        frames_pdf = NormalDistributionCollection.to_pdf(frames).to(device)\n",
    "        print(\"frames_pdf \", frames_pdf.shape)\n",
    "        self.model = model = Network(height, width, resolution, out_channels, kernel_size=kernel_size).to(device)\n",
    "        \n",
    "        out = model(frames_pdf)\n",
    "        \n",
    "        for index in range(10, 11):\n",
    "            show_image(frames[index].detach().cpu().numpy(), title=f\"frame {index} : {frames[index].shape}\", vmin=0, vmax=1)\n",
    "            show_image(frames_pdf[index].detach().cpu().numpy(), title=f\"frame pdf {index} : {frames_pdf[index].shape}\", vmin=0, vmax=1)\n",
    "            show_image(out[index].detach().cpu().numpy(), title=f\"out {index} : {out[index].shape}\", vmin=0, vmax=1)\n",
    "\n",
    "        optimizer = optim.Adam(model.parameters(), lr=1e-4)\n",
    "        for epoch in range(epochs):\n",
    "            model.train()\n",
    "            optimizer.zero_grad()\n",
    "            out = model(frames_pdf)\n",
    "            loss = F.mse_loss(out, frames_pdf)\n",
    "            if (epoch + 1) % int(epochs/10) == 0:\n",
    "                print(f\"epoch {epoch}:\\tloss {loss}\")\n",
    "            loss.backward()\n",
    "            optimizer.step()\n",
    "\n",
    "        for index in range(10, 11):\n",
    "            show_image(frames[index].detach().cpu().numpy(), title=f\"frame {index} : {frames[index].shape}\", vmin=0, vmax=1)\n",
    "            show_image(frames_pdf[index].detach().cpu().numpy(), title=f\"frame pdf {index} : {frames_pdf[index].shape}\", vmin=0, vmax=1)\n",
    "            show_image(out[index].detach().cpu().numpy(), title=f\"out {index} : {out[index].shape}\", vmin=0, vmax=1)\n",
    "\n",
    "        self.hidden_state = model.hidden_state\n",
    "\n",
    "        # show info\n",
    "        print(\"frames_pdf \", frames_pdf.shape)\n",
    "        h = model.hidden_state\n",
    "        print(\"h \", h.shape)"
   ]
  },
  {
   "cell_type": "code",
   "execution_count": 90,
   "metadata": {},
   "outputs": [
    {
     "name": "stdout",
     "output_type": "stream",
     "text": [
      "--------------------------------\n",
      "Training with frames  torch.Size([100, 8, 8])\n",
      "frames_pdf  torch.Size([100, 8, 64])\n",
      "z  torch.Size([100, 36])\n",
      "self.height * self.width * self.resolution  512\n"
     ]
    },
    {
     "data": {
      "image/png": "[encoded data removed]",
      "text/plain": [
       "<Figure size 432x144 with 1 Axes>"
      ]
     },
     "metadata": {
      "needs_background": "light"
     },
     "output_type": "display_data"
    },
    {
     "data": {
      "image/png": "[encoded data removed]",
      "text/plain": [
       "<Figure size 432x144 with 1 Axes>"
      ]
     },
     "metadata": {
      "needs_background": "light"
     },
     "output_type": "display_data"
    },
    {
     "data": {
      "image/png": "[encoded data removed]",
      "text/plain": [
       "<Figure size 432x144 with 1 Axes>"
      ]
     },
     "metadata": {
      "needs_background": "light"
     },
     "output_type": "display_data"
    },
    {
     "name": "stdout",
     "output_type": "stream",
     "text": [
      "epoch 999:\tloss 0.03744203969836235\n",
      "epoch 1999:\tloss 0.021651770919561386\n",
      "epoch 2999:\tloss 0.014965665526688099\n",
      "epoch 3999:\tloss 0.01166677474975586\n",
      "epoch 4999:\tloss 0.009873498231172562\n",
      "epoch 5999:\tloss 0.008976330049335957\n",
      "epoch 6999:\tloss 0.008438343182206154\n",
      "epoch 7999:\tloss 0.007919249124825\n",
      "epoch 8999:\tloss 0.007549745962023735\n",
      "epoch 9999:\tloss 0.007298314478248358\n"
     ]
    },
    {
     "data": {
      "image/png": "[encoded data removed]",
      "text/plain": [
       "<Figure size 432x144 with 1 Axes>"
      ]
     },
     "metadata": {
      "needs_background": "light"
     },
     "output_type": "display_data"
    },
    {
     "data": {
      "image/png": "[encoded data removed]",
      "text/plain": [
       "<Figure size 432x144 with 1 Axes>"
      ]
     },
     "metadata": {
      "needs_background": "light"
     },
     "output_type": "display_data"
    },
    {
     "data": {
      "image/png": "[encoded data removed]",
      "text/plain": [
       "<Figure size 432x144 with 1 Axes>"
      ]
     },
     "metadata": {
      "needs_background": "light"
     },
     "output_type": "display_data"
    },
    {
     "name": "stdout",
     "output_type": "stream",
     "text": [
      "frames_pdf  torch.Size([100, 8, 64])\n",
      "h  torch.Size([100, 4, 3, 3])\n"
     ]
    }
   ],
   "source": [
    "# Layer 1 autoencoder\n",
    "resolution = 8\n",
    "frames1 = generate_frames1(8, 8)\n",
    "layer1 = Layer()\n",
    "epochs = 10000 if device == \"cuda\" else 10000\n",
    "a = 2\n",
    "\n",
    "layer1.train(frames1, resolution, out_channels=a**2, epochs=epochs, kernel_size=4)"
   ]
  },
  {
   "cell_type": "code",
   "execution_count": 126,
   "metadata": {},
   "outputs": [
    {
     "name": "stdout",
     "output_type": "stream",
     "text": [
      "--------------------------------\n",
      "Training with frames  torch.Size([100, 6, 6])\n",
      "frames_pdf  torch.Size([100, 6, 48])\n",
      "z  torch.Size([100, 36])\n",
      "self.height * self.width * self.resolution  288\n"
     ]
    },
    {
     "data": {
      "image/png": "[encoded data removed]",
      "text/plain": [
       "<Figure size 432x144 with 1 Axes>"
      ]
     },
     "metadata": {
      "needs_background": "light"
     },
     "output_type": "display_data"
    },
    {
     "data": {
      "image/png": "[encoded data removed]",
      "text/plain": [
       "<Figure size 432x144 with 1 Axes>"
      ]
     },
     "metadata": {
      "needs_background": "light"
     },
     "output_type": "display_data"
    },
    {
     "data": {
      "image/png": "[encoded data removed]",
      "text/plain": [
       "<Figure size 432x144 with 1 Axes>"
      ]
     },
     "metadata": {
      "needs_background": "light"
     },
     "output_type": "display_data"
    },
    {
     "name": "stdout",
     "output_type": "stream",
     "text": [
      "epoch 999:\tloss 0.051108743995428085\n",
      "epoch 1999:\tloss 0.02782553993165493\n",
      "epoch 2999:\tloss 0.018772421404719353\n",
      "epoch 3999:\tloss 0.014873762615025043\n",
      "epoch 4999:\tloss 0.01283378154039383\n",
      "epoch 5999:\tloss 0.011611870490014553\n",
      "epoch 6999:\tloss 0.010716754011809826\n",
      "epoch 7999:\tloss 0.01001899316906929\n",
      "epoch 8999:\tloss 0.009590103290975094\n",
      "epoch 9999:\tloss 0.009400046430528164\n"
     ]
    },
    {
     "data": {
      "image/png": "[encoded data removed]",
      "text/plain": [
       "<Figure size 432x144 with 1 Axes>"
      ]
     },
     "metadata": {
      "needs_background": "light"
     },
     "output_type": "display_data"
    },
    {
     "data": {
      "image/png": "[encoded data removed]",
      "text/plain": [
       "<Figure size 432x144 with 1 Axes>"
      ]
     },
     "metadata": {
      "needs_background": "light"
     },
     "output_type": "display_data"
    },
    {
     "data": {
      "image/png": "[encoded data removed]",
      "text/plain": [
       "<Figure size 432x144 with 1 Axes>"
      ]
     },
     "metadata": {
      "needs_background": "light"
     },
     "output_type": "display_data"
    },
    {
     "name": "stdout",
     "output_type": "stream",
     "text": [
      "frames_pdf  torch.Size([100, 6, 48])\n",
      "h  torch.Size([100, 9, 2, 2])\n"
     ]
    }
   ],
   "source": [
    "# Assume input (samples, feature maps, height, width) and that \n",
    "# features maps is a perfect squere, e.g. 9, of an integer 'a', e.g. 3 in this case\n",
    "# Output (samples, height * a, width * a)\n",
    "def flatten_feature_maps(f):\n",
    "    s = f.shape\n",
    "    f = f.permute(0, 2, 3, 1) # move features to the end\n",
    "    s = f.shape\n",
    "    a = int(s[3] ** 0.5)  # feature maps are at pos 3 now that we want to first split into a square of size (a X a)\n",
    "    assert a * a == s[3], \"Feature map count must be a perfect square\"\n",
    "    f = f.view(s[0], s[1], s[2], a, a)\n",
    "    f = f.permute(0, 1, 3, 2, 4).contiguous() # frame count, height, sqr(features), width, sqr(features)\n",
    "    s = f.shape\n",
    "    f = f.view(s[0], s[1] * s[2], s[3] * s[4]) # each point becomes a square of features\n",
    "    return f, a\n",
    "\n",
    "# Layer 2 autoencoder\n",
    "layer2 = Layer()\n",
    "f, a = flatten_feature_maps(layer1.hidden_state)\n",
    "layer2.train(f, resolution, out_channels=(a+1)**2, epochs=epochs, kernel_size=4)"
   ]
  },
  {
   "cell_type": "code",
   "execution_count": 4,
   "metadata": {},
   "outputs": [
    {
     "name": "stdout",
     "output_type": "stream",
     "text": [
      "--------------------------------\n",
      "Training with frames  torch.Size([50, 6, 6])\n",
      "frames_pdf  torch.Size([50, 6, 48])\n",
      "z  torch.Size([50, 64])\n",
      "self.height * self.width * self.resolution  288\n"
     ]
    },
    {
     "data": {
      "image/png": "[encoded data removed]",
      "text/plain": [
       "<Figure size 432x144 with 1 Axes>"
      ]
     },
     "metadata": {
      "needs_background": "light"
     },
     "output_type": "display_data"
    },
    {
     "data": {
      "image/png": "[encoded data removed]",
      "text/plain": [
       "<Figure size 432x144 with 1 Axes>"
      ]
     },
     "metadata": {
      "needs_background": "light"
     },
     "output_type": "display_data"
    },
    {
     "data": {
      "image/png": "[encoded data removed]",
      "text/plain": [
       "<Figure size 432x144 with 1 Axes>"
      ]
     },
     "metadata": {
      "needs_background": "light"
     },
     "output_type": "display_data"
    },
    {
     "name": "stdout",
     "output_type": "stream",
     "text": [
      "epoch 199:\tloss 0.09906333684921265\n",
      "epoch 399:\tloss 0.07081414014101028\n",
      "epoch 599:\tloss 0.05699486285448074\n",
      "epoch 799:\tloss 0.04666639491915703\n",
      "epoch 999:\tloss 0.038456059992313385\n",
      "epoch 1199:\tloss 0.031794045120477676\n",
      "epoch 1399:\tloss 0.02631179802119732\n",
      "epoch 1599:\tloss 0.02174377627670765\n",
      "epoch 1799:\tloss 0.017894305288791656\n",
      "epoch 1999:\tloss 0.014622598886489868\n"
     ]
    },
    {
     "data": {
      "image/png": "[encoded data removed]",
      "text/plain": [
       "<Figure size 432x144 with 1 Axes>"
      ]
     },
     "metadata": {
      "needs_background": "light"
     },
     "output_type": "display_data"
    },
    {
     "data": {
      "image/png": "[encoded data removed]",
      "text/plain": [
       "<Figure size 432x144 with 1 Axes>"
      ]
     },
     "metadata": {
      "needs_background": "light"
     },
     "output_type": "display_data"
    },
    {
     "data": {
      "image/png": "[encoded data removed]",
      "text/plain": [
       "<Figure size 432x144 with 1 Axes>"
      ]
     },
     "metadata": {
      "needs_background": "light"
     },
     "output_type": "display_data"
    },
    {
     "name": "stdout",
     "output_type": "stream",
     "text": [
      "frames_pdf  torch.Size([50, 6, 48])\n",
      "h  torch.Size([50, 16, 2, 2])\n"
     ]
    }
   ],
   "source": [
    "# Layer 3 autoencoder\n",
    "layer3 = Layer()\n",
    "f, a = flatten_feature_maps(layer2.hidden_state)\n",
    "layer3.train(f, resolution, out_channels=(a+1)**2, epochs=epochs, kernel_size=4)"
   ]
  },
  {
   "cell_type": "code",
   "execution_count": 116,
   "metadata": {},
   "outputs": [],
   "source": [
    "from scipy import stats\n",
    "\n",
    "def sample_from_frame_pdf(mu_bar):\n",
    "    assert len(mu_bar.shape) == 3\n",
    "    \n",
    "    # reshape mu_pdf from (frame count, height, width*resolution) into (frame count*height*width, resolution)\n",
    "    s = mu_bar.shape\n",
    "    mu_pdf = mu_bar.view(s[0], s[1], int(s[2] / resolution), resolution)\n",
    "    s = mu_pdf.shape\n",
    "    mu_pdf = mu_pdf.view(s[0] * s[1] * s[2], s[3])\n",
    "\n",
    "    # sample single value from each distributions into (frame count*height*width, 1)\n",
    "    sample = torch.Tensor([sample_from_pdf(item.numpy()) for item in mu_pdf])\n",
    "    \n",
    "    # reshape back into (frame count, height, width)\n",
    "    sample = sample.view(s[0], s[1], s[2])\n",
    "\n",
    "    return sample\n",
    "    \n",
    "def sample_from_pdf(mu_pdf):\n",
    "    assert mu_pdf.shape == (resolution, )\n",
    "\n",
    "    pk = mu_pdf.copy()\n",
    "    xk = np.arange(resolution)\n",
    "    pk[pk<0] = 0\n",
    "    sum_pk = sum(pk)\n",
    "    if sum(pk) > 0:\n",
    "        pk = pk / sum_pk\n",
    "        custm = stats.rv_discrete(name='custm', values=(xk, pk))\n",
    "        value = custm.rvs(size=1) / resolution\n",
    "        # apply scale (conflates value and confidence!)\n",
    "        value = value * sum_pk\n",
    "        return value\n",
    "    else:\n",
    "        return [0]\n"
   ]
  },
  {
   "cell_type": "code",
   "execution_count": 142,
   "metadata": {},
   "outputs": [
    {
     "name": "stdout",
     "output_type": "stream",
     "text": [
      "mu1 shape torch.Size([1, 8, 8])\n"
     ]
    },
    {
     "data": {
      "image/png": "[encoded data removed]",
      "text/plain": [
       "<Figure size 432x144 with 1 Axes>"
      ]
     },
     "metadata": {
      "needs_background": "light"
     },
     "output_type": "display_data"
    },
    {
     "name": "stdout",
     "output_type": "stream",
     "text": [
      "mu_pdf1 shape torch.Size([1, 8, 64])\n"
     ]
    },
    {
     "data": {
      "image/png": "[encoded data removed]",
      "text/plain": [
       "<Figure size 432x144 with 1 Axes>"
      ]
     },
     "metadata": {
      "needs_background": "light"
     },
     "output_type": "display_data"
    },
    {
     "data": {
      "image/png": "[encoded data removed]",
      "text/plain": [
       "<Figure size 432x144 with 1 Axes>"
      ]
     },
     "metadata": {
      "needs_background": "light"
     },
     "output_type": "display_data"
    },
    {
     "name": "stdout",
     "output_type": "stream",
     "text": [
      "h1 shape torch.Size([1, 4, 3, 3])\n",
      "mu_bar1 shape torch.Size([1, 8, 64])\n"
     ]
    },
    {
     "data": {
      "image/png": "[encoded data removed]",
      "text/plain": [
       "<Figure size 432x144 with 1 Axes>"
      ]
     },
     "metadata": {
      "needs_background": "light"
     },
     "output_type": "display_data"
    },
    {
     "data": {
      "image/png": "[encoded data removed]",
      "text/plain": [
       "<Figure size 432x144 with 1 Axes>"
      ]
     },
     "metadata": {
      "needs_background": "light"
     },
     "output_type": "display_data"
    },
    {
     "name": "stdout",
     "output_type": "stream",
     "text": [
      "mu2 shape torch.Size([100, 6, 6])\n"
     ]
    },
    {
     "data": {
      "image/png": "[encoded data removed]",
      "text/plain": [
       "<Figure size 432x144 with 1 Axes>"
      ]
     },
     "metadata": {
      "needs_background": "light"
     },
     "output_type": "display_data"
    },
    {
     "name": "stdout",
     "output_type": "stream",
     "text": [
      "mu_pdf2 shape torch.Size([100, 6, 48])\n"
     ]
    },
    {
     "data": {
      "image/png": "[encoded data removed]",
      "text/plain": [
       "<Figure size 432x144 with 1 Axes>"
      ]
     },
     "metadata": {
      "needs_background": "light"
     },
     "output_type": "display_data"
    },
    {
     "data": {
      "image/png": "[encoded data removed]",
      "text/plain": [
       "<Figure size 432x144 with 1 Axes>"
      ]
     },
     "metadata": {
      "needs_background": "light"
     },
     "output_type": "display_data"
    },
    {
     "name": "stdout",
     "output_type": "stream",
     "text": [
      "h2 shape torch.Size([100, 9, 2, 2])\n",
      "mu_bar2 shape torch.Size([100, 6, 48])\n"
     ]
    },
    {
     "data": {
      "image/png": "[encoded data removed]",
      "text/plain": [
       "<Figure size 432x144 with 1 Axes>"
      ]
     },
     "metadata": {
      "needs_background": "light"
     },
     "output_type": "display_data"
    },
    {
     "data": {
      "image/png": "[encoded data removed]",
      "text/plain": [
       "<Figure size 432x144 with 1 Axes>"
      ]
     },
     "metadata": {
      "needs_background": "light"
     },
     "output_type": "display_data"
    },
    {
     "ename": "RuntimeError",
     "evalue": "size mismatch, m1: [6 x 6], m2: [36 x 512] at /Users/soumith/miniconda2/conda-bld/pytorch_1532623076075/work/aten/src/TH/generic/THTensorMath.cpp:2070",
     "output_type": "error",
     "traceback": [
      "\u001b[0;31m---------------------------------------------------------------------------\u001b[0m",
      "\u001b[0;31mRuntimeError\u001b[0m                              Traceback (most recent call last)",
      "\u001b[0;32m<ipython-input-142-1e815be88016>\u001b[0m in \u001b[0;36m<module>\u001b[0;34m\u001b[0m\n\u001b[1;32m     34\u001b[0m \u001b[0;34m\u001b[0m\u001b[0m\n\u001b[1;32m     35\u001b[0m \u001b[0;31m# mu2_bar_sampled decoded by layer 1 should reproduce mu1\u001b[0m\u001b[0;34m\u001b[0m\u001b[0;34m\u001b[0m\u001b[0m\n\u001b[0;32m---> 36\u001b[0;31m \u001b[0mmu_bar\u001b[0m \u001b[0;34m=\u001b[0m \u001b[0mlayer1\u001b[0m\u001b[0;34m.\u001b[0m\u001b[0mmodel\u001b[0m\u001b[0;34m.\u001b[0m\u001b[0mdecoder\u001b[0m\u001b[0;34m(\u001b[0m\u001b[0mmu2_bar_sampled\u001b[0m\u001b[0;34m)\u001b[0m\u001b[0;34m\u001b[0m\u001b[0m\n\u001b[0m\u001b[1;32m     37\u001b[0m \u001b[0mmu_bar\u001b[0m \u001b[0;34m=\u001b[0m \u001b[0munflatten_feature_maps\u001b[0m\u001b[0;34m(\u001b[0m\u001b[0mmu_bar\u001b[0m\u001b[0;34m)\u001b[0m \u001b[0;31m### TODO\u001b[0m\u001b[0;34m\u001b[0m\u001b[0m\n\u001b[1;32m     38\u001b[0m \u001b[0mshow_image\u001b[0m\u001b[0;34m(\u001b[0m\u001b[0mmu_bar\u001b[0m\u001b[0;34m)\u001b[0m\u001b[0;34m\u001b[0m\u001b[0m\n",
      "\u001b[0;32m~/work/miniconda3/lib/python3.6/site-packages/torch/nn/modules/module.py\u001b[0m in \u001b[0;36m__call__\u001b[0;34m(self, *input, **kwargs)\u001b[0m\n\u001b[1;32m    475\u001b[0m             \u001b[0mresult\u001b[0m \u001b[0;34m=\u001b[0m \u001b[0mself\u001b[0m\u001b[0;34m.\u001b[0m\u001b[0m_slow_forward\u001b[0m\u001b[0;34m(\u001b[0m\u001b[0;34m*\u001b[0m\u001b[0minput\u001b[0m\u001b[0;34m,\u001b[0m \u001b[0;34m**\u001b[0m\u001b[0mkwargs\u001b[0m\u001b[0;34m)\u001b[0m\u001b[0;34m\u001b[0m\u001b[0m\n\u001b[1;32m    476\u001b[0m         \u001b[0;32melse\u001b[0m\u001b[0;34m:\u001b[0m\u001b[0;34m\u001b[0m\u001b[0m\n\u001b[0;32m--> 477\u001b[0;31m             \u001b[0mresult\u001b[0m \u001b[0;34m=\u001b[0m \u001b[0mself\u001b[0m\u001b[0;34m.\u001b[0m\u001b[0mforward\u001b[0m\u001b[0;34m(\u001b[0m\u001b[0;34m*\u001b[0m\u001b[0minput\u001b[0m\u001b[0;34m,\u001b[0m \u001b[0;34m**\u001b[0m\u001b[0mkwargs\u001b[0m\u001b[0;34m)\u001b[0m\u001b[0;34m\u001b[0m\u001b[0m\n\u001b[0m\u001b[1;32m    478\u001b[0m         \u001b[0;32mfor\u001b[0m \u001b[0mhook\u001b[0m \u001b[0;32min\u001b[0m \u001b[0mself\u001b[0m\u001b[0;34m.\u001b[0m\u001b[0m_forward_hooks\u001b[0m\u001b[0;34m.\u001b[0m\u001b[0mvalues\u001b[0m\u001b[0;34m(\u001b[0m\u001b[0;34m)\u001b[0m\u001b[0;34m:\u001b[0m\u001b[0;34m\u001b[0m\u001b[0m\n\u001b[1;32m    479\u001b[0m             \u001b[0mhook_result\u001b[0m \u001b[0;34m=\u001b[0m \u001b[0mhook\u001b[0m\u001b[0;34m(\u001b[0m\u001b[0mself\u001b[0m\u001b[0;34m,\u001b[0m \u001b[0minput\u001b[0m\u001b[0;34m,\u001b[0m \u001b[0mresult\u001b[0m\u001b[0;34m)\u001b[0m\u001b[0;34m\u001b[0m\u001b[0m\n",
      "\u001b[0;32m<ipython-input-89-352872581a46>\u001b[0m in \u001b[0;36mforward\u001b[0;34m(self, z)\u001b[0m\n\u001b[1;32m     99\u001b[0m             \u001b[0mself\u001b[0m\u001b[0;34m.\u001b[0m\u001b[0md1\u001b[0m \u001b[0;34m=\u001b[0m \u001b[0mnn\u001b[0m\u001b[0;34m.\u001b[0m\u001b[0mLinear\u001b[0m\u001b[0;34m(\u001b[0m\u001b[0mz\u001b[0m\u001b[0;34m.\u001b[0m\u001b[0mshape\u001b[0m\u001b[0;34m[\u001b[0m\u001b[0;34m-\u001b[0m\u001b[0;36m1\u001b[0m\u001b[0;34m]\u001b[0m\u001b[0;34m,\u001b[0m \u001b[0mself\u001b[0m\u001b[0;34m.\u001b[0m\u001b[0mheight\u001b[0m \u001b[0;34m*\u001b[0m \u001b[0mself\u001b[0m\u001b[0;34m.\u001b[0m\u001b[0mwidth\u001b[0m \u001b[0;34m*\u001b[0m \u001b[0mself\u001b[0m\u001b[0;34m.\u001b[0m\u001b[0mresolution\u001b[0m\u001b[0;34m)\u001b[0m\u001b[0;34m.\u001b[0m\u001b[0mto\u001b[0m\u001b[0;34m(\u001b[0m\u001b[0mdevice\u001b[0m\u001b[0;34m)\u001b[0m\u001b[0;34m\u001b[0m\u001b[0m\n\u001b[1;32m    100\u001b[0m \u001b[0;34m\u001b[0m\u001b[0m\n\u001b[0;32m--> 101\u001b[0;31m         \u001b[0mz\u001b[0m \u001b[0;34m=\u001b[0m \u001b[0mself\u001b[0m\u001b[0;34m.\u001b[0m\u001b[0md1\u001b[0m\u001b[0;34m(\u001b[0m\u001b[0mz\u001b[0m\u001b[0;34m)\u001b[0m\u001b[0;34m\u001b[0m\u001b[0m\n\u001b[0m\u001b[1;32m    102\u001b[0m         \u001b[0;31m#z = self.tanh(z)\u001b[0m\u001b[0;34m\u001b[0m\u001b[0;34m\u001b[0m\u001b[0m\n\u001b[1;32m    103\u001b[0m         \u001b[0mz\u001b[0m \u001b[0;34m=\u001b[0m \u001b[0mself\u001b[0m\u001b[0;34m.\u001b[0m\u001b[0mrelu\u001b[0m\u001b[0;34m(\u001b[0m\u001b[0mz\u001b[0m\u001b[0;34m)\u001b[0m\u001b[0;34m\u001b[0m\u001b[0m\n",
      "\u001b[0;32m~/work/miniconda3/lib/python3.6/site-packages/torch/nn/modules/module.py\u001b[0m in \u001b[0;36m__call__\u001b[0;34m(self, *input, **kwargs)\u001b[0m\n\u001b[1;32m    475\u001b[0m             \u001b[0mresult\u001b[0m \u001b[0;34m=\u001b[0m \u001b[0mself\u001b[0m\u001b[0;34m.\u001b[0m\u001b[0m_slow_forward\u001b[0m\u001b[0;34m(\u001b[0m\u001b[0;34m*\u001b[0m\u001b[0minput\u001b[0m\u001b[0;34m,\u001b[0m \u001b[0;34m**\u001b[0m\u001b[0mkwargs\u001b[0m\u001b[0;34m)\u001b[0m\u001b[0;34m\u001b[0m\u001b[0m\n\u001b[1;32m    476\u001b[0m         \u001b[0;32melse\u001b[0m\u001b[0;34m:\u001b[0m\u001b[0;34m\u001b[0m\u001b[0m\n\u001b[0;32m--> 477\u001b[0;31m             \u001b[0mresult\u001b[0m \u001b[0;34m=\u001b[0m \u001b[0mself\u001b[0m\u001b[0;34m.\u001b[0m\u001b[0mforward\u001b[0m\u001b[0;34m(\u001b[0m\u001b[0;34m*\u001b[0m\u001b[0minput\u001b[0m\u001b[0;34m,\u001b[0m \u001b[0;34m**\u001b[0m\u001b[0mkwargs\u001b[0m\u001b[0;34m)\u001b[0m\u001b[0;34m\u001b[0m\u001b[0m\n\u001b[0m\u001b[1;32m    478\u001b[0m         \u001b[0;32mfor\u001b[0m \u001b[0mhook\u001b[0m \u001b[0;32min\u001b[0m \u001b[0mself\u001b[0m\u001b[0;34m.\u001b[0m\u001b[0m_forward_hooks\u001b[0m\u001b[0;34m.\u001b[0m\u001b[0mvalues\u001b[0m\u001b[0;34m(\u001b[0m\u001b[0;34m)\u001b[0m\u001b[0;34m:\u001b[0m\u001b[0;34m\u001b[0m\u001b[0m\n\u001b[1;32m    479\u001b[0m             \u001b[0mhook_result\u001b[0m \u001b[0;34m=\u001b[0m \u001b[0mhook\u001b[0m\u001b[0;34m(\u001b[0m\u001b[0mself\u001b[0m\u001b[0;34m,\u001b[0m \u001b[0minput\u001b[0m\u001b[0;34m,\u001b[0m \u001b[0mresult\u001b[0m\u001b[0;34m)\u001b[0m\u001b[0;34m\u001b[0m\u001b[0m\n",
      "\u001b[0;32m~/work/miniconda3/lib/python3.6/site-packages/torch/nn/modules/linear.py\u001b[0m in \u001b[0;36mforward\u001b[0;34m(self, input)\u001b[0m\n\u001b[1;32m     53\u001b[0m \u001b[0;34m\u001b[0m\u001b[0m\n\u001b[1;32m     54\u001b[0m     \u001b[0;32mdef\u001b[0m \u001b[0mforward\u001b[0m\u001b[0;34m(\u001b[0m\u001b[0mself\u001b[0m\u001b[0;34m,\u001b[0m \u001b[0minput\u001b[0m\u001b[0;34m)\u001b[0m\u001b[0;34m:\u001b[0m\u001b[0;34m\u001b[0m\u001b[0m\n\u001b[0;32m---> 55\u001b[0;31m         \u001b[0;32mreturn\u001b[0m \u001b[0mF\u001b[0m\u001b[0;34m.\u001b[0m\u001b[0mlinear\u001b[0m\u001b[0;34m(\u001b[0m\u001b[0minput\u001b[0m\u001b[0;34m,\u001b[0m \u001b[0mself\u001b[0m\u001b[0;34m.\u001b[0m\u001b[0mweight\u001b[0m\u001b[0;34m,\u001b[0m \u001b[0mself\u001b[0m\u001b[0;34m.\u001b[0m\u001b[0mbias\u001b[0m\u001b[0;34m)\u001b[0m\u001b[0;34m\u001b[0m\u001b[0m\n\u001b[0m\u001b[1;32m     56\u001b[0m \u001b[0;34m\u001b[0m\u001b[0m\n\u001b[1;32m     57\u001b[0m     \u001b[0;32mdef\u001b[0m \u001b[0mextra_repr\u001b[0m\u001b[0;34m(\u001b[0m\u001b[0mself\u001b[0m\u001b[0;34m)\u001b[0m\u001b[0;34m:\u001b[0m\u001b[0;34m\u001b[0m\u001b[0m\n",
      "\u001b[0;32m~/work/miniconda3/lib/python3.6/site-packages/torch/nn/functional.py\u001b[0m in \u001b[0;36mlinear\u001b[0;34m(input, weight, bias)\u001b[0m\n\u001b[1;32m   1022\u001b[0m     \u001b[0;32mif\u001b[0m \u001b[0minput\u001b[0m\u001b[0;34m.\u001b[0m\u001b[0mdim\u001b[0m\u001b[0;34m(\u001b[0m\u001b[0;34m)\u001b[0m \u001b[0;34m==\u001b[0m \u001b[0;36m2\u001b[0m \u001b[0;32mand\u001b[0m \u001b[0mbias\u001b[0m \u001b[0;32mis\u001b[0m \u001b[0;32mnot\u001b[0m \u001b[0;32mNone\u001b[0m\u001b[0;34m:\u001b[0m\u001b[0;34m\u001b[0m\u001b[0m\n\u001b[1;32m   1023\u001b[0m         \u001b[0;31m# fused op is marginally faster\u001b[0m\u001b[0;34m\u001b[0m\u001b[0;34m\u001b[0m\u001b[0m\n\u001b[0;32m-> 1024\u001b[0;31m         \u001b[0;32mreturn\u001b[0m \u001b[0mtorch\u001b[0m\u001b[0;34m.\u001b[0m\u001b[0maddmm\u001b[0m\u001b[0;34m(\u001b[0m\u001b[0mbias\u001b[0m\u001b[0;34m,\u001b[0m \u001b[0minput\u001b[0m\u001b[0;34m,\u001b[0m \u001b[0mweight\u001b[0m\u001b[0;34m.\u001b[0m\u001b[0mt\u001b[0m\u001b[0;34m(\u001b[0m\u001b[0;34m)\u001b[0m\u001b[0;34m)\u001b[0m\u001b[0;34m\u001b[0m\u001b[0m\n\u001b[0m\u001b[1;32m   1025\u001b[0m \u001b[0;34m\u001b[0m\u001b[0m\n\u001b[1;32m   1026\u001b[0m     \u001b[0moutput\u001b[0m \u001b[0;34m=\u001b[0m \u001b[0minput\u001b[0m\u001b[0;34m.\u001b[0m\u001b[0mmatmul\u001b[0m\u001b[0;34m(\u001b[0m\u001b[0mweight\u001b[0m\u001b[0;34m.\u001b[0m\u001b[0mt\u001b[0m\u001b[0;34m(\u001b[0m\u001b[0;34m)\u001b[0m\u001b[0;34m)\u001b[0m\u001b[0;34m\u001b[0m\u001b[0m\n",
      "\u001b[0;31mRuntimeError\u001b[0m: size mismatch, m1: [6 x 6], m2: [36 x 512] at /Users/soumith/miniconda2/conda-bld/pytorch_1532623076075/work/aten/src/TH/generic/THTensorMath.cpp:2070"
     ]
    }
   ],
   "source": [
    "image_index = 10\n",
    "mu1 = frames1[image_index].unsqueeze(dim=0)\n",
    "\n",
    "def forward(mu, layer, layer_index):\n",
    "    print(f\"mu{layer_index} shape {mu.shape}\")\n",
    "\n",
    "    show_image(mu[0], title=f\"mu{layer_index}\")\n",
    "    mu_pdf = NormalDistributionCollection.to_pdf(mu)\n",
    "    print(f\"mu_pdf{layer_index} shape {mu_pdf.shape}\")\n",
    "\n",
    "    show_image(mu_pdf[0], title=f\"mu{layer_index}_pdf\")\n",
    "    mu_pdf_sampled = sample_from_frame_pdf(mu_pdf.detach())[0]\n",
    "    show_image(mu_pdf_sampled, title=f\"mu{layer_index}_pdf_sampled ~= mu{layer_index}\")\n",
    "\n",
    "    # Layer\n",
    "    h = layer.model.encoder(mu_pdf)\n",
    "    print(f\"h{layer_index} shape {h.shape}\")\n",
    "    mu_bar = layer.model.decoder(h)\n",
    "    print(f\"mu_bar{layer_index} shape {mu_bar.shape}\")\n",
    "\n",
    "    show_image(mu_bar[0].detach().numpy(), title=f\"mu{layer_index}_bar\")\n",
    "    mu_bar_sampled = sample_from_frame_pdf(mu_bar.detach())[0]\n",
    "    show_image(mu_bar_sampled, title=f\"mu{layer_index}_bar_sampled ~= mu{layer_index}\")\n",
    "    \n",
    "    return mu_bar_sampled\n",
    "\n",
    "# Layer 1\n",
    "forward(mu1, layer1, 1)    \n",
    "\n",
    "# Layer 2\n",
    "h1, _ = flatten_feature_maps(layer1.hidden_state)\n",
    "mu2 = h1.detach()\n",
    "mu2_bar_sampled = forward(mu2, layer2, 2)\n",
    "\n",
    "# mu2_bar_sampled decoded by layer 1 should reproduce mu1\n",
    "mu_bar = layer1.model.decoder(mu2_bar_sampled)\n",
    "mu_bar = unflatten_feature_maps(mu_bar) ### TODO\n",
    "show_image(mu_bar)"
   ]
  },
  {
   "cell_type": "code",
   "execution_count": null,
   "metadata": {},
   "outputs": [],
   "source": []
  }
 ],
 "metadata": {
  "kernelspec": {
   "display_name": "Python 3",
   "language": "python",
   "name": "python3"
  },
  "language_info": {
   "codemirror_mode": {
    "name": "ipython",
    "version": 3
   },
   "file_extension": ".py",
   "mimetype": "text/x-python",
   "name": "python",
   "nbconvert_exporter": "python",
   "pygments_lexer": "ipython3",
   "version": "3.6.5"
  }
 },
 "nbformat": 4,
 "nbformat_minor": 2
}
