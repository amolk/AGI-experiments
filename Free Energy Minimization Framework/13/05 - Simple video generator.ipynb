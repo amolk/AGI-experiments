{
 "cells": [
  {
   "cell_type": "markdown",
   "metadata": {},
   "source": [
    "# Generate video frames to train and test"
   ]
  },
  {
   "cell_type": "code",
   "execution_count": 19,
   "metadata": {},
   "outputs": [
    {
     "data": {
      "image/png": "[encoded data removed]",
      "text/plain": [
       "<Figure size 1080x360 with 1 Axes>"
      ]
     },
     "metadata": {
      "needs_background": "light"
     },
     "output_type": "display_data"
    }
   ],
   "source": [
    "import numpy as np\n",
    "import matplotlib.pyplot as plt\n",
    "from scipy.ndimage.filters import gaussian_filter\n",
    "%matplotlib inline\n",
    "\n",
    "def generate_frames():\n",
    "    width = 20\n",
    "    height = 20\n",
    "    gutter = 10\n",
    "\n",
    "    frames = []\n",
    "\n",
    "    for y in range(gutter+1, gutter+8, 2):\n",
    "        for x in range(width+2*gutter):\n",
    "            frame = np.zeros((width + 2 * gutter, height + 2 * gutter))\n",
    "            frame[y:10+y, x:x+3] = 1\n",
    "            frame=gaussian_filter(frame, 1)\n",
    "            clipped = frame[gutter:-gutter, gutter:-gutter]\n",
    "            frames.append(clipped)\n",
    "\n",
    "    return frames\n",
    "\n"
   ]
  },
  {
   "cell_type": "code",
   "execution_count": null,
   "metadata": {},
   "outputs": [],
   "source": []
  }
 ],
 "metadata": {
  "kernelspec": {
   "display_name": "Python 3",
   "language": "python",
   "name": "python3"
  },
  "language_info": {
   "codemirror_mode": {
    "name": "ipython",
    "version": 3
   },
   "file_extension": ".py",
   "mimetype": "text/x-python",
   "name": "python",
   "nbconvert_exporter": "python",
   "pygments_lexer": "ipython3",
   "version": "3.6.5"
  }
 },
 "nbformat": 4,
 "nbformat_minor": 2
}
